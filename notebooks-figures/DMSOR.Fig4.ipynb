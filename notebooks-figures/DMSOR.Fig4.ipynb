{
 "cells": [
  {
   "cell_type": "code",
   "execution_count": 1,
   "id": "going-superior",
   "metadata": {
    "tags": []
   },
   "outputs": [],
   "source": [
    "import pandas as pd\n",
    "import h5py\n",
    "from Bio import SeqIO\n",
    "from copy import deepcopy \n",
    "import numpy as np\n",
    "import seaborn as sns\n",
    "from sklearn.neighbors import KernelDensity\n",
    "from scipy.stats import norm\n",
    "from sklearn.decomposition import PCA\n",
    "import pickle\n",
    "import re\n",
    "\n",
    "from sklearn.linear_model import LogisticRegressionCV,LogisticRegression\n",
    "from sklearn.model_selection import LeaveOneOut\n",
    "from sklearn.model_selection import train_test_split\n",
    "from sklearn.metrics import roc_curve,RocCurveDisplay\n",
    "from matplotlib.colors import to_hex\n",
    "\n",
    "import matplotlib.pyplot as plt\n",
    "from scipy.stats import spearmanr,pearsonr,mannwhitneyu\n",
    "from statsmodels.stats.multitest import multipletests\n",
    "plt.rcParams['font.family'] = 'Arial'\n",
    "\n",
    "def load_embedding(file_name):\n",
    "    f = h5py.File(file_name)\n",
    "    Xg = []\n",
    "    gene_names = list(f.keys())\n",
    "    for key in f.keys():\n",
    "        Xg.append(f[key][()])\n",
    "    f.close()\n",
    "    Xg = pd.DataFrame(np.asmatrix(Xg),index=gene_names)\n",
    "    return Xg,gene_names\n",
    "\n",
    "kos = pd.read_csv(\"keggGeneNames.csv\",index_col=0)\n",
    "\n",
    "def compute_summary_stats(df):\n",
    "    KOs = []\n",
    "    Mo = []\n",
    "    W = []\n",
    "    for KO, dff in df.groupby('ko'):\n",
    "        Mo.append((dff.predict == 'Mo').sum())\n",
    "        W.append((dff.predict == 'W').sum())\n",
    "        KOs.append(KO)\n",
    "    results_predictions = pd.DataFrame({\"KO\":KOs,\"Mo\":Mo,\"W\":W})\n",
    "\n",
    "    rp = results_predictions.set_index(\"KO\").join(kos.set_index('KO'))\n",
    "\n",
    "    rp['Mo (%)']= 100*rp['Mo']/(rp['Mo'] + rp['W'])\n",
    "    rp['W (%)']= 100*rp['W']/(rp['Mo'] + rp['W'])\n",
    "    return rp\n",
    "\n",
    "\n"
   ]
  },
  {
   "cell_type": "code",
   "execution_count": 2,
   "id": "incoming-retail",
   "metadata": {
    "tags": []
   },
   "outputs": [],
   "source": [
    "#model = pd.read_pickle(\"lrmodel.l2reg.embedding2mow.10Jan2023.pkl\")\n",
    "model = pd.read_pickle(\"lrmodel.l1reg.embedding2mow.18Feb2023.pkl\")\n"
   ]
  },
  {
   "cell_type": "code",
   "execution_count": 3,
   "id": "other-permission",
   "metadata": {
    "tags": []
   },
   "outputs": [],
   "source": [
    "# load wells embedding\n",
    "file_name = '../data/WellsSciRep2022/FDHChalcOR_wSerAspligands.embedding.29Nov2022.h5'\n",
    "DMSOR_sm,gns = load_embedding(file_name)\n",
    "predictions = model.predict(DMSOR_sm)\n",
    "predictions = pd.DataFrame({'predictions':predictions},index=DMSOR_sm.index)"
   ]
  },
  {
   "cell_type": "code",
   "execution_count": 42,
   "id": "fd43c4b2-d5e4-4651-95a2-359a2af47532",
   "metadata": {
    "tags": []
   },
   "outputs": [],
   "source": [
    "geneNames = []\n",
    "taxaNames = []\n",
    "\n",
    "for gene,row in predictions.iterrows():\n",
    "    gene = gene[0].upper() + gene[1:]\n",
    "    i = [ match.start() for match in re.finditer (\"[A-Z]\", gene) ][1]\n",
    "\n",
    "    taxa = gene[0:i]\n",
    "    genename = gene[i:]\n",
    "    geneNames.append(genename)\n",
    "    taxaNames.append(taxa)\n",
    "    \n",
    "#e = predictions.index.tolist()[0]"
   ]
  },
  {
   "cell_type": "code",
   "execution_count": 43,
   "id": "planned-cookbook",
   "metadata": {
    "tags": []
   },
   "outputs": [],
   "source": [
    "predictions[\"geneName\"] = geneNames\n",
    "predictions[\"taxa\"] = taxaNames"
   ]
  },
  {
   "cell_type": "code",
   "execution_count": 54,
   "id": "b09cd2dd-197a-45ee-b15c-d3b674183fb5",
   "metadata": {
    "tags": []
   },
   "outputs": [
    {
     "data": {
      "text/plain": [
       "37"
      ]
     },
     "execution_count": 54,
     "metadata": {},
     "output_type": "execute_result"
    }
   ],
   "source": [
    "len(predictions[\"geneName\"].unique())"
   ]
  },
  {
   "cell_type": "code",
   "execution_count": 59,
   "id": "f3042b5b-ad19-4e40-9acd-103c01c879d0",
   "metadata": {
    "tags": []
   },
   "outputs": [
    {
     "data": {
      "text/html": [
       "<div>\n",
       "<style scoped>\n",
       "    .dataframe tbody tr th:only-of-type {\n",
       "        vertical-align: middle;\n",
       "    }\n",
       "\n",
       "    .dataframe tbody tr th {\n",
       "        vertical-align: top;\n",
       "    }\n",
       "\n",
       "    .dataframe thead th {\n",
       "        text-align: right;\n",
       "    }\n",
       "</style>\n",
       "<table border=\"1\" class=\"dataframe\">\n",
       "  <thead>\n",
       "    <tr style=\"text-align: right;\">\n",
       "      <th></th>\n",
       "      <th>predictions</th>\n",
       "      <th>geneName</th>\n",
       "      <th>taxa</th>\n",
       "    </tr>\n",
       "  </thead>\n",
       "  <tbody>\n",
       "    <tr>\n",
       "      <th>MoorthermAOR</th>\n",
       "      <td>W</td>\n",
       "      <td>AOR</td>\n",
       "      <td>Moortherm</td>\n",
       "    </tr>\n",
       "    <tr>\n",
       "      <th>PyrococfurioAOR</th>\n",
       "      <td>W</td>\n",
       "      <td>AOR</td>\n",
       "      <td>Pyrococfurio</td>\n",
       "    </tr>\n",
       "    <tr>\n",
       "      <th>ThermococclitorFOR</th>\n",
       "      <td>W</td>\n",
       "      <td>FOR</td>\n",
       "      <td>Thermococclitor</td>\n",
       "    </tr>\n",
       "    <tr>\n",
       "      <th>PyrococfurioFOR</th>\n",
       "      <td>W</td>\n",
       "      <td>FOR</td>\n",
       "      <td>Pyrococfurio</td>\n",
       "    </tr>\n",
       "    <tr>\n",
       "      <th>ThermococconnuriFdhF420</th>\n",
       "      <td>W</td>\n",
       "      <td>FdhF420</td>\n",
       "      <td>Thermococconnuri</td>\n",
       "    </tr>\n",
       "    <tr>\n",
       "      <th>MethanococmaripaGAPOR</th>\n",
       "      <td>W</td>\n",
       "      <td>GAPOR</td>\n",
       "      <td>Methanococmaripa</td>\n",
       "    </tr>\n",
       "    <tr>\n",
       "      <th>PyroaerGAPOR</th>\n",
       "      <td>W</td>\n",
       "      <td>GAPOR</td>\n",
       "      <td>Pyroaer</td>\n",
       "    </tr>\n",
       "    <tr>\n",
       "      <th>PyrococfurioGAPOR</th>\n",
       "      <td>W</td>\n",
       "      <td>GAPOR</td>\n",
       "      <td>Pyrococfurio</td>\n",
       "    </tr>\n",
       "    <tr>\n",
       "      <th>ThermoficarboxPsrA</th>\n",
       "      <td>W</td>\n",
       "      <td>PsrA</td>\n",
       "      <td>Thermoficarbox</td>\n",
       "    </tr>\n",
       "    <tr>\n",
       "      <th>PyroneutroPsrA</th>\n",
       "      <td>W</td>\n",
       "      <td>PsrA</td>\n",
       "      <td>Pyroneutro</td>\n",
       "    </tr>\n",
       "    <tr>\n",
       "      <th>PyroislaPsrA</th>\n",
       "      <td>W</td>\n",
       "      <td>PsrA</td>\n",
       "      <td>Pyroisla</td>\n",
       "    </tr>\n",
       "    <tr>\n",
       "      <th>ThermofipenPsrA</th>\n",
       "      <td>W</td>\n",
       "      <td>PsrA</td>\n",
       "      <td>Thermofipen</td>\n",
       "    </tr>\n",
       "    <tr>\n",
       "      <th>ArchaefulgPsrA</th>\n",
       "      <td>W</td>\n",
       "      <td>PsrA</td>\n",
       "      <td>Archaefulg</td>\n",
       "    </tr>\n",
       "    <tr>\n",
       "      <th>PyroaeroPsrA</th>\n",
       "      <td>W</td>\n",
       "      <td>PsrA</td>\n",
       "      <td>Pyroaero</td>\n",
       "    </tr>\n",
       "    <tr>\n",
       "      <th>PyroarsenPsrA</th>\n",
       "      <td>W</td>\n",
       "      <td>PsrA</td>\n",
       "      <td>Pyroarsen</td>\n",
       "    </tr>\n",
       "    <tr>\n",
       "      <th>ThermoflexhugePsrA</th>\n",
       "      <td>W</td>\n",
       "      <td>PsrA</td>\n",
       "      <td>Thermoflexhuge</td>\n",
       "    </tr>\n",
       "    <tr>\n",
       "      <th>ThermoflexhugeTtrA</th>\n",
       "      <td>W</td>\n",
       "      <td>TtrA</td>\n",
       "      <td>Thermoflexhuge</td>\n",
       "    </tr>\n",
       "    <tr>\n",
       "      <th>ThermusarciTtrA</th>\n",
       "      <td>W</td>\n",
       "      <td>TtrA</td>\n",
       "      <td>Thermusarci</td>\n",
       "    </tr>\n",
       "    <tr>\n",
       "      <th>PyroferriTtrA</th>\n",
       "      <td>W</td>\n",
       "      <td>TtrA</td>\n",
       "      <td>Pyroferri</td>\n",
       "    </tr>\n",
       "    <tr>\n",
       "      <th>ThermusbrocTtrA</th>\n",
       "      <td>W</td>\n",
       "      <td>TtrA</td>\n",
       "      <td>Thermusbroc</td>\n",
       "    </tr>\n",
       "    <tr>\n",
       "      <th>PyroarsenTtrA</th>\n",
       "      <td>W</td>\n",
       "      <td>TtrA</td>\n",
       "      <td>Pyroarsen</td>\n",
       "    </tr>\n",
       "    <tr>\n",
       "      <th>PyroaeroTtrA</th>\n",
       "      <td>W</td>\n",
       "      <td>TtrA</td>\n",
       "      <td>Pyroaero</td>\n",
       "    </tr>\n",
       "    <tr>\n",
       "      <th>MetallosphyelloTtrA</th>\n",
       "      <td>W</td>\n",
       "      <td>TtrA</td>\n",
       "      <td>Metallosphyello</td>\n",
       "    </tr>\n",
       "    <tr>\n",
       "      <th>PyroogunTtrA</th>\n",
       "      <td>W</td>\n",
       "      <td>TtrA</td>\n",
       "      <td>Pyroogun</td>\n",
       "    </tr>\n",
       "    <tr>\n",
       "      <th>ThermuscaldTtrA</th>\n",
       "      <td>W</td>\n",
       "      <td>TtrA</td>\n",
       "      <td>Thermuscald</td>\n",
       "    </tr>\n",
       "  </tbody>\n",
       "</table>\n",
       "</div>"
      ],
      "text/plain": [
       "                        predictions geneName              taxa\n",
       "MoorthermAOR                      W      AOR         Moortherm\n",
       "PyrococfurioAOR                   W      AOR      Pyrococfurio\n",
       "ThermococclitorFOR                W      FOR   Thermococclitor\n",
       "PyrococfurioFOR                   W      FOR      Pyrococfurio\n",
       "ThermococconnuriFdhF420           W  FdhF420  Thermococconnuri\n",
       "MethanococmaripaGAPOR             W    GAPOR  Methanococmaripa\n",
       "PyroaerGAPOR                      W    GAPOR           Pyroaer\n",
       "PyrococfurioGAPOR                 W    GAPOR      Pyrococfurio\n",
       "ThermoficarboxPsrA                W     PsrA    Thermoficarbox\n",
       "PyroneutroPsrA                    W     PsrA        Pyroneutro\n",
       "PyroislaPsrA                      W     PsrA          Pyroisla\n",
       "ThermofipenPsrA                   W     PsrA       Thermofipen\n",
       "ArchaefulgPsrA                    W     PsrA        Archaefulg\n",
       "PyroaeroPsrA                      W     PsrA          Pyroaero\n",
       "PyroarsenPsrA                     W     PsrA         Pyroarsen\n",
       "ThermoflexhugePsrA                W     PsrA    Thermoflexhuge\n",
       "ThermoflexhugeTtrA                W     TtrA    Thermoflexhuge\n",
       "ThermusarciTtrA                   W     TtrA       Thermusarci\n",
       "PyroferriTtrA                     W     TtrA         Pyroferri\n",
       "ThermusbrocTtrA                   W     TtrA       Thermusbroc\n",
       "PyroarsenTtrA                     W     TtrA         Pyroarsen\n",
       "PyroaeroTtrA                      W     TtrA          Pyroaero\n",
       "MetallosphyelloTtrA               W     TtrA   Metallosphyello\n",
       "PyroogunTtrA                      W     TtrA          Pyroogun\n",
       "ThermuscaldTtrA                   W     TtrA       Thermuscald"
      ]
     },
     "execution_count": 59,
     "metadata": {},
     "output_type": "execute_result"
    }
   ],
   "source": [
    "predictions[predictions[\"predictions\"] == \"W\"].sort_values(\"geneName\")"
   ]
  },
  {
   "cell_type": "code",
   "execution_count": 50,
   "id": "described-lease",
   "metadata": {},
   "outputs": [],
   "source": [
    "#@predictions[predictions[\"predictions\"] == \"W\"]"
   ]
  },
  {
   "cell_type": "code",
   "execution_count": 45,
   "id": "removable-split",
   "metadata": {},
   "outputs": [],
   "source": [
    "mo_color = to_hex(sns.palettes.color_palette(\"Set2\")[0])\n",
    "w_color = to_hex(sns.palettes.color_palette(\"Set2\")[1])\n",
    "cmap = {}\n",
    "cmap[\"Mo\"] =mo_color\n",
    "cmap[\"W\"] =w_color"
   ]
  },
  {
   "cell_type": "code",
   "execution_count": 46,
   "id": "desirable-advertising",
   "metadata": {},
   "outputs": [],
   "source": [
    "predictions.to_csv(\"../data/WellsSciRep2022/CofactorPredictions.DMSOR.l1reg18Feb2023.csv\")"
   ]
  },
  {
   "cell_type": "code",
   "execution_count": 51,
   "id": "equipped-washington",
   "metadata": {},
   "outputs": [],
   "source": [
    "r = pd.DataFrame(predictions[\"predictions\"].apply(lambda x: cmap[x]))"
   ]
  },
  {
   "cell_type": "code",
   "execution_count": 52,
   "id": "electrical-garage",
   "metadata": {},
   "outputs": [],
   "source": [
    "r.to_csv(\"../data/WellsSciRep2022/CofactorPredictions.Colors.DMSOR.l1reg18Feb2023..csv\")"
   ]
  },
  {
   "cell_type": "code",
   "execution_count": 61,
   "id": "suspended-corrections",
   "metadata": {
    "tags": []
   },
   "outputs": [],
   "source": [
    "f = \"../data/gtdb.pterinSeqs.embed.22Dec2022.h5\"\n",
    "pterinEmbeddingGTDB,gns = load_embedding(f)\n",
    "predictions_pterinEmbeddingGTDB= model.predict(pterinEmbeddingGTDB)\n",
    "predictions_pterinEmbeddingGTDB_probs = model.predict_proba(pterinEmbeddingGTDB)\n",
    "predictions_pterinEmbeddingGTDB = pd.DataFrame({'predict':predictions_pterinEmbeddingGTDB},index=pterinEmbeddingGTDB.index)\n",
    "del pterinEmbeddingGTDB\n",
    "\n",
    "predictions_pterinEmbeddingGTDB['gene_id']= [x.split(' ')[0] for x in gns]\n",
    "predictions_pterinEmbeddingGTDB.set_index(\"gene_id\",inplace=True)\n",
    "\n",
    "#gnt = pd.read_csv(\"../data/sequenceTable.pterinDomains.gtdb.22Dec2022.csv\",index_col=0)\n",
    "gnt = pd.read_csv(\"../data/pterin-binding-gtdb/sequenceTable.csv\",index_col=0)\n",
    "\n",
    "gnt['gene name'] = gnt['gene name'].apply(lambda x: x.replace('.',\"_\"))\n",
    "predictions_pterinEmbeddingGTDB = predictions_pterinEmbeddingGTDB.join(gnt.set_index(\"gene name\"))"
   ]
  },
  {
   "cell_type": "code",
   "execution_count": 65,
   "id": "4a8b4243-7e82-4bd2-b96f-e9eadf738ef5",
   "metadata": {
    "tags": []
   },
   "outputs": [
    {
     "data": {
      "text/html": [
       "<div>\n",
       "<style scoped>\n",
       "    .dataframe tbody tr th:only-of-type {\n",
       "        vertical-align: middle;\n",
       "    }\n",
       "\n",
       "    .dataframe tbody tr th {\n",
       "        vertical-align: top;\n",
       "    }\n",
       "\n",
       "    .dataframe thead th {\n",
       "        text-align: right;\n",
       "    }\n",
       "</style>\n",
       "<table border=\"1\" class=\"dataframe\">\n",
       "  <thead>\n",
       "    <tr style=\"text-align: right;\">\n",
       "      <th></th>\n",
       "      <th>KO</th>\n",
       "      <th>genome</th>\n",
       "    </tr>\n",
       "    <tr>\n",
       "      <th>predict</th>\n",
       "      <th></th>\n",
       "      <th></th>\n",
       "    </tr>\n",
       "  </thead>\n",
       "  <tbody>\n",
       "    <tr>\n",
       "      <th>Mo</th>\n",
       "      <td>388</td>\n",
       "      <td>388</td>\n",
       "    </tr>\n",
       "    <tr>\n",
       "      <th>W</th>\n",
       "      <td>22920</td>\n",
       "      <td>22920</td>\n",
       "    </tr>\n",
       "  </tbody>\n",
       "</table>\n",
       "</div>"
      ],
      "text/plain": [
       "            KO  genome\n",
       "predict               \n",
       "Mo         388     388\n",
       "W        22920   22920"
      ]
     },
     "execution_count": 65,
     "metadata": {},
     "output_type": "execute_result"
    }
   ],
   "source": [
    "predictions_pterinEmbeddingGTDB[predictions_pterinEmbeddingGTDB.KO.isin([\"K03738\"])].groupby(\"predict\").count()\n"
   ]
  },
  {
   "cell_type": "code",
   "execution_count": 67,
   "id": "f76477e4-d390-4f74-b28f-c4b382068f5a",
   "metadata": {
    "tags": []
   },
   "outputs": [],
   "source": [
    "z = predictions_pterinEmbeddingGTDB[predictions_pterinEmbeddingGTDB.KO.isin([\"K03738\"])]"
   ]
  },
  {
   "cell_type": "code",
   "execution_count": 72,
   "id": "97b42fd7-fff8-4378-b8a6-98db2dd334da",
   "metadata": {
    "tags": []
   },
   "outputs": [
    {
     "data": {
      "text/plain": [
       "0.01664664492877982"
      ]
     },
     "execution_count": 72,
     "metadata": {},
     "output_type": "execute_result"
    }
   ],
   "source": [
    "len(z[z.predict == \"Mo\"]) / len(z)"
   ]
  },
  {
   "cell_type": "code",
   "execution_count": 77,
   "id": "experimental-shareware",
   "metadata": {},
   "outputs": [],
   "source": [
    "sstats_tab_gtdb = compute_summary_stats(predictions_pterinEmbeddingGTDB,\"KO\")"
   ]
  },
  {
   "cell_type": "code",
   "execution_count": 55,
   "id": "published-attempt",
   "metadata": {},
   "outputs": [
    {
     "data": {
      "image/png": "[encoded data removed]",
      "text/plain": [
       "<Figure size 432x144 with 1 Axes>"
      ]
     },
     "metadata": {
      "needs_background": "light"
     },
     "output_type": "display_data"
    }
   ],
   "source": [
    "c =  sns.color_palette('Set2')[0:2]\n",
    "#rbd = rp.set_index('gene_name')[['Mo (%)',\"W (%)\"]]\n",
    "rbd = rp.set_index('gene_name')[['Mo (%)',\"W (%)\"]]\n",
    "rbd['name'] = [x.replace(', ','/') for x in rbd.index.tolist()]\n",
    "rbd.set_index(\"name\",inplace=True)\n",
    "rbd.sort_values(\"W (%)\")[['Mo (%)',\"W (%)\"]].plot(kind='bar', stacked=True,figsize=(6,2),color=c)\n",
    "plt.xticks(style=\"italic\")\n",
    "plt.ylabel(\"proportion of sequences\")\n",
    "plt.savefig(\"GeneFamilyMoWprediction.l1reg18Feb2023.svg\")"
   ]
  },
  {
   "cell_type": "code",
   "execution_count": 91,
   "id": "rational-dayton",
   "metadata": {},
   "outputs": [
    {
     "data": {
      "image/png": "[encoded data removed]",
      "text/plain": [
       "<Figure size 144x432 with 1 Axes>"
      ]
     },
     "metadata": {
      "needs_background": "light"
     },
     "output_type": "display_data"
    }
   ],
   "source": [
    "c =  sns.color_palette('Set2')[0:2]\n",
    "#rbd = rp.set_index('gene_name')[['Mo (%)',\"W (%)\"]]\n",
    "rbd = sstats_tab_gtdb.set_index('gene_name')[['Mo (%)',\"W (%)\"]]\n",
    "rbd['name'] = [x.replace(', ','/') for x in rbd.index.tolist()]\n",
    "rbd.set_index(\"name\",inplace=True)\n",
    "rbd.sort_values(\"W (%)\")[['Mo (%)',\"W (%)\"]].plot(kind='barh', stacked=True,figsize=(2,6),color=c)\n",
    "plt.yticks(style=\"italic\")\n",
    "plt.xlabel(\"proportion of sequences\")\n",
    "plt.savefig(\"GeneFamilyMoWprediction.Proportions.l1reg18Feb2023.Vertical.svg\")"
   ]
  },
  {
   "cell_type": "code",
   "execution_count": 95,
   "id": "alpha-answer",
   "metadata": {},
   "outputs": [],
   "source": [
    "s = rbd.sort_values(\"W (%)\")[['Mo (%)',\"W (%)\"]].index.tolist()"
   ]
  },
  {
   "cell_type": "code",
   "execution_count": 90,
   "id": "adaptive-unemployment",
   "metadata": {},
   "outputs": [
    {
     "data": {
      "text/plain": [
       "10"
      ]
     },
     "execution_count": 90,
     "metadata": {},
     "output_type": "execute_result"
    }
   ],
   "source": [
    "coeffs = pd.DataFrame(model.coef_).T\n",
    "len(coeffs[np.abs(coeffs[0]) > 0])"
   ]
  },
  {
   "cell_type": "code",
   "execution_count": 99,
   "id": "laden-carol",
   "metadata": {},
   "outputs": [
    {
     "data": {
      "image/png": "[encoded data removed]",
      "text/plain": [
       "<Figure size 144x432 with 1 Axes>"
      ]
     },
     "metadata": {
      "needs_background": "light"
     },
     "output_type": "display_data"
    }
   ],
   "source": [
    "c =  sns.color_palette('Set2')[0:2]\n",
    "#fields = ['Mo (%)',\"W (%)\"]\n",
    "#rbd = rp.set_index('gene_name')[fields]\n",
    "rbd = sstats_tab_gtdb.set_index('gene_name')[['Mo',\"W\"]]\n",
    "rbd['total']=rbd['Mo'] + rbd['W']\n",
    "rbd['name'] = [x.replace(', ','/') for x in rbd.index.tolist()]\n",
    "rbd.set_index(\"name\",inplace=True)\n",
    "#rbd.sort_values(\"total\")[[\"Mo\",\"W\"]].plot(kind='barh', stacked=True,figsize=(2,6),color=c)\n",
    "rbd.loc[s][[\"Mo\",\"W\"]].plot(kind='barh', stacked=True,figsize=(2,6),color=c)\n",
    "plt.yticks(style=\"italic\")\n",
    "plt.xlabel(\"number of sequences\")\n",
    "plt.savefig(\"GeneFamilyMoWprediction.TrotalAund.l1reg18Feb2023.Vertical.svg\")"
   ]
  },
  {
   "cell_type": "code",
   "execution_count": null,
   "id": "exceptional-quality",
   "metadata": {},
   "outputs": [],
   "source": [
    "c =  sns.color_palette('Set2')[0:2]\n",
    "#rbd = rp.set_index('gene_name')[['Mo (%)',\"W (%)\"]]\n",
    "rbd = rp.set_index('gene_name')[['Mo',\"W\"]]\n",
    "rbd['total']=rbd['Mo'] + rbd['W']\n",
    "rbd['name'] = [x.replace(', ','/') for x in rbd.index.tolist()]\n",
    "rbd.set_index(\"name\",inplace=True)\n",
    "rbd.sort_values(\"total\")[[\"Mo\",\"W\"]].plot(kind='barh', stacked=True,figsize=(2,6),color=c)\n",
    "plt.yticks(style=\"italic\")"
   ]
  },
  {
   "cell_type": "code",
   "execution_count": 76,
   "id": "moderate-membership",
   "metadata": {},
   "outputs": [],
   "source": [
    "#kos = pd.read_csv(\"keggGeneNames.csv\",index_col=0)\n",
    "\n",
    "# define model for predictins\n",
    "#model = deepcopy(clf_all)\n",
    "\n",
    "gene_families = pd.read_csv(\"../data/pterinBindingGenesKegg.csv\",index_col=0)\n",
    "f = '../data/pterinDomainsEmbedding.23Dec2022.h5'\n",
    "pterinEmbedding,gns = load_embedding(f)\n",
    "predictions_pterinEmbedding= model.predict(pterinEmbedding)\n",
    "predictions_pterinEmbedding = pd.DataFrame({'predict':predictions_pterinEmbedding},index=pterinEmbedding.index)\n",
    "predictions_pterinEmbedding['gene'] = [x.split(' ')[0] for x in predictions_pterinEmbedding.index.tolist()]\n",
    "predictions_pterinEmbedding.set_index('gene',inplace=True)\n",
    "predictions_pterinEmbedding = predictions_pterinEmbedding.join(gene_families.set_index('gene'))\n",
    "predictions_pterinEmbedding = predictions_pterinEmbedding[predictions_pterinEmbedding.ko.apply(lambda x: type(x) == str)]\n",
    "predictions_pterinEmbedding['ko'] = predictions_pterinEmbedding['ko'].apply(lambda x: x.split(\":\")[1])\n",
    "\n",
    "\n",
    "file_name = '../data/K00201.kegg.h5'\n",
    "KEGG_sm,gns = load_embedding(file_name)\n",
    "predictions_kegg_K00201 = model.predict(KEGG_sm)\n",
    "predictions_kegg_K00201 = pd.DataFrame(predictions_kegg_K00201)[0].values\n",
    "predictions_kegg_K00201 = pd.DataFrame({'predict':predictions_kegg_K00201},index=KEGG_sm.index)\n",
    "predictions_kegg_K00201['gene'] = [x.split(' ')[0] for x in predictions_kegg_K00201.index.tolist()]\n",
    "predictions_kegg_K00201.set_index(\"gene\",inplace=True)\n",
    "predictions_kegg_K00201['ko'] = 'K00201'\n",
    "#predictions_pterinEmbedding = pd.concat([predictions_pterinEmbedding,predictions_kegg_K00201],axis=0)\n",
    "\n",
    "\n",
    "sstats_tab_kegg = compute_summary_stats(predictions_pterinEmbedding,\"ko\")"
   ]
  },
  {
   "cell_type": "code",
   "execution_count": 60,
   "id": "proved-optimization",
   "metadata": {},
   "outputs": [
    {
     "data": {
      "text/plain": [
       "(array([ 0,  1,  2,  3,  4,  5,  6,  7,  8,  9, 10, 11, 12, 13, 14, 15, 16,\n",
       "        17, 18, 19, 20, 21, 22, 23, 24, 25, 26, 27, 28, 29, 30, 31, 32, 33,\n",
       "        34, 35, 36, 37, 38, 39, 40, 41]),\n",
       " [Text(0, 0, 'cdhA'),\n",
       "  Text(0, 1, 'ddhA'),\n",
       "  Text(0, 2, 'serA/clrA'),\n",
       "  Text(0, 3, 'ahy'),\n",
       "  Text(0, 4, 'ndhC'),\n",
       "  Text(0, 5, 'kdhL'),\n",
       "  Text(0, 6, 'AAO4'),\n",
       "  Text(0, 7, 'hcrA/hbaC'),\n",
       "  Text(0, 8, 'padB'),\n",
       "  Text(0, 9, 'cutA'),\n",
       "  Text(0, 10, 'AAO1_2'),\n",
       "  Text(0, 11, 'gapor'),\n",
       "  Text(0, 12, 'aoxB'),\n",
       "  Text(0, 13, 'ynfF'),\n",
       "  Text(0, 14, 'sorA'),\n",
       "  Text(0, 15, 'mop'),\n",
       "  Text(0, 16, 'fwdD/fmdD'),\n",
       "  Text(0, 17, 'ynfE'),\n",
       "  Text(0, 18, 'AAO3'),\n",
       "  Text(0, 19, 'xdhD'),\n",
       "  Text(0, 20, 'ygeS/xdhA'),\n",
       "  Text(0, 21, 'soeA'),\n",
       "  Text(0, 22, 'narB'),\n",
       "  Text(0, 23, 'torA'),\n",
       "  Text(0, 24, 'NR'),\n",
       "  Text(0, 25, 'phsA/psrA'),\n",
       "  Text(0, 26, 'fwdB/fmdB'),\n",
       "  Text(0, 27, 'fdnG'),\n",
       "  Text(0, 28, 'torZ'),\n",
       "  Text(0, 29, 'AOX'),\n",
       "  Text(0, 30, 'nicB'),\n",
       "  Text(0, 31, 'fdhF'),\n",
       "  Text(0, 32, 'dmsA'),\n",
       "  Text(0, 33, 'SUOX'),\n",
       "  Text(0, 34, 'napA'),\n",
       "  Text(0, 35, 'xdhB'),\n",
       "  Text(0, 36, 'aor'),\n",
       "  Text(0, 37, 'XDH'),\n",
       "  Text(0, 38, 'yagR'),\n",
       "  Text(0, 39, 'coxL/cutL'),\n",
       "  Text(0, 40, 'narG/narZ/nxrA'),\n",
       "  Text(0, 41, 'iorB')])"
      ]
     },
     "execution_count": 60,
     "metadata": {},
     "output_type": "execute_result"
    },
    {
     "data": {
      "image/png": "[encoded data removed]",
      "text/plain": [
       "<Figure size 144x432 with 1 Axes>"
      ]
     },
     "metadata": {
      "needs_background": "light"
     },
     "output_type": "display_data"
    }
   ],
   "source": [
    "c =  sns.color_palette('Set2')[0:2]\n",
    "#rbd = rp.set_index('gene_name')[['Mo (%)',\"W (%)\"]]\n",
    "rbd = rp_kegg.set_index('gene_name')[['Mo',\"W\"]]\n",
    "rbd['total']=rbd['Mo'] + rbd['W']\n",
    "rbd['name'] = [x.replace(', ','/') for x in rbd.index.tolist()]\n",
    "rbd.set_index(\"name\",inplace=True)\n",
    "rbd.sort_values(\"total\")[[\"Mo\",\"W\"]].plot(kind='barh', stacked=True,figsize=(2,6),color=c)\n",
    "plt.yticks(style=\"italic\")"
   ]
  },
  {
   "cell_type": "code",
   "execution_count": 64,
   "id": "rocky-pocket",
   "metadata": {},
   "outputs": [],
   "source": [
    "f = \"../data/K00201.embed.gtdb.h5\"\n",
    "K00201gtdb,gns = load_embedding(f)\n",
    "predictions_K00201gtdb= model.predict(K00201gtdb)\n",
    "predictions_K00201gtdb = pd.DataFrame({'predict':predictions_K00201gtdb},index=K00201gtdb.index)\n",
    "predictions_K00201gtdb['gene_id']= [x.split(' ')[0] for x in gns]\n",
    "predictions_K00201gtdb.set_index(\"gene_id\",inplace=True)\n",
    "del K00201gtdb\n",
    "\n",
    "#f = \"../data/gtdb.pterinSeqs.embed.22Dec2022.h5\"\n",
    "#pterinEmbeddingGTDB,gns = load_embedding(f)\n",
    "#predictions_pterinEmbeddingGTDB= clf.predict(pterinEmbeddingGTDB)\n",
    "#predictions_pterinEmbeddingGTDB = pd.DataFrame({'predict':predictions_pterinEmbeddingGTDB},index=pterinEmbeddingGTDB.index)\n",
    "#predictions_pterinEmbeddingGTDB['gene_id']= [x.split(' ')[0] for x in gns]\n",
    "#predictions_pterinEmbeddingGTDB.set_index(\"gene_id\",inplace=True)\n",
    "#del pterinEmbeddingGTDB\n",
    "\n",
    "seqtab = pd.read_csv(\"../data/K00201.gtdb.seqtable.csv\",index_col=0)\n",
    "seqtab['gene name'] = seqtab['gene name'].apply(lambda x: x.replace('.',\"_\"))\n",
    "predictions_K00201gtdb = predictions_K00201gtdb.join(seqtab.set_index('gene name'))\n",
    "\n",
    "gnt = pd.read_csv(\"../data/sequenceTable.pterinDomains.gtdb.22Dec2022.csv\",index_col=0)\n",
    "gnt['gene name'] = gnt['gene name'].apply(lambda x: x.replace('.',\"_\"))\n",
    "#predictions_pterinEmbeddingGTDB = predictions_pterinEmbeddingGTDB.join(gnt.set_index(\"gene name\"))\n",
    "\n",
    "predictions_pterinEmbeddingGTDB_K00201 = pd.concat([predictions_pterinEmbeddingGTDB,predictions_K00201gtdb],axis=0)\n"
   ]
  },
  {
   "cell_type": "code",
   "execution_count": null,
   "id": "above-manhattan",
   "metadata": {},
   "outputs": [],
   "source": []
  }
 ],
 "metadata": {
  "kernelspec": {
   "display_name": "Python 3.9 (informatics)",
   "language": "python",
   "name": "informatics-py39"
  },
  "language_info": {
   "codemirror_mode": {
    "name": "ipython",
    "version": 3
   },
   "file_extension": ".py",
   "mimetype": "text/x-python",
   "name": "python",
   "nbconvert_exporter": "python",
   "pygments_lexer": "ipython3",
   "version": "3.9.7"
  }
 },
 "nbformat": 4,
 "nbformat_minor": 5
}
