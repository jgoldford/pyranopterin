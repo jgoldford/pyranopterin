{
 "cells": [
  {
   "cell_type": "code",
   "execution_count": 1,
   "id": "roman-figure",
   "metadata": {
    "tags": []
   },
   "outputs": [],
   "source": [
    "import pandas as pd\n",
    "import seaborn as sns\n",
    "import matplotlib.pyplot as plt\n",
    "import scipy.stats as stats\n",
    "import cbtk.kegg as kegg_api\n",
    "plt.rcParams['font.family'] = 'Arial'\n"
   ]
  },
  {
   "cell_type": "code",
   "execution_count": 2,
   "id": "suburban-general",
   "metadata": {
    "tags": []
   },
   "outputs": [],
   "source": [
    "#df = pd.read_csv(\"../data/pterinCounts.26Oct2022.csv\",index_col=0)\n",
    "df = pd.read_csv(\"../data/pterinCounts.12Nov2022.csv\",index_col=0)\n",
    "df = df.drop(\"total_genes\",axis=1)\n",
    "df['genome'] = df['genome'].apply(lambda x: x.split('_protein')[0])"
   ]
  },
  {
   "cell_type": "code",
   "execution_count": 7,
   "id": "alleged-pixel",
   "metadata": {
    "tags": []
   },
   "outputs": [
    {
     "data": {
      "text/html": [
       "<div>\n",
       "<style scoped>\n",
       "    .dataframe tbody tr th:only-of-type {\n",
       "        vertical-align: middle;\n",
       "    }\n",
       "\n",
       "    .dataframe tbody tr th {\n",
       "        vertical-align: top;\n",
       "    }\n",
       "\n",
       "    .dataframe thead th {\n",
       "        text-align: right;\n",
       "    }\n",
       "</style>\n",
       "<table border=\"1\" class=\"dataframe\">\n",
       "  <thead>\n",
       "    <tr style=\"text-align: right;\">\n",
       "      <th></th>\n",
       "      <th>genome</th>\n",
       "      <th>mopterin_genes</th>\n",
       "      <th>total_annot_genes</th>\n",
       "      <th>gene_dict</th>\n",
       "    </tr>\n",
       "  </thead>\n",
       "  <tbody>\n",
       "    <tr>\n",
       "      <th>0</th>\n",
       "      <td>GB_GCA_014654065.1</td>\n",
       "      <td>0</td>\n",
       "      <td>773</td>\n",
       "      <td>{}</td>\n",
       "    </tr>\n",
       "    <tr>\n",
       "      <th>1</th>\n",
       "      <td>GB_GCA_002479145.1</td>\n",
       "      <td>0</td>\n",
       "      <td>722</td>\n",
       "      <td>{}</td>\n",
       "    </tr>\n",
       "    <tr>\n",
       "      <th>2</th>\n",
       "      <td>GB_GCA_014377155.1</td>\n",
       "      <td>5</td>\n",
       "      <td>2489</td>\n",
       "      <td>{'JACMQD010000003.1_4': 'K11177', 'JACMQD01000...</td>\n",
       "    </tr>\n",
       "    <tr>\n",
       "      <th>3</th>\n",
       "      <td>GB_GCA_903829855.1</td>\n",
       "      <td>0</td>\n",
       "      <td>886</td>\n",
       "      <td>{}</td>\n",
       "    </tr>\n",
       "    <tr>\n",
       "      <th>4</th>\n",
       "      <td>GB_GCA_002923395.1</td>\n",
       "      <td>0</td>\n",
       "      <td>284</td>\n",
       "      <td>{}</td>\n",
       "    </tr>\n",
       "    <tr>\n",
       "      <th>...</th>\n",
       "      <td>...</td>\n",
       "      <td>...</td>\n",
       "      <td>...</td>\n",
       "      <td>...</td>\n",
       "    </tr>\n",
       "    <tr>\n",
       "      <th>65698</th>\n",
       "      <td>GB_GCA_910579245.1</td>\n",
       "      <td>0</td>\n",
       "      <td>793</td>\n",
       "      <td>{}</td>\n",
       "    </tr>\n",
       "    <tr>\n",
       "      <th>65699</th>\n",
       "      <td>RS_GCF_001446935.1</td>\n",
       "      <td>1</td>\n",
       "      <td>2850</td>\n",
       "      <td>{'NZ_LKKK01000001.1_324': 'K07303'}</td>\n",
       "    </tr>\n",
       "    <tr>\n",
       "      <th>65700</th>\n",
       "      <td>RS_GCF_001953955.1</td>\n",
       "      <td>0</td>\n",
       "      <td>959</td>\n",
       "      <td>{}</td>\n",
       "    </tr>\n",
       "    <tr>\n",
       "      <th>65701</th>\n",
       "      <td>RS_GCF_000716435.1</td>\n",
       "      <td>3</td>\n",
       "      <td>4302</td>\n",
       "      <td>{'NZ_JNWO01000001.1_180': 'K03520', 'NZ_JNWO01...</td>\n",
       "    </tr>\n",
       "    <tr>\n",
       "      <th>65702</th>\n",
       "      <td>GB_GCA_009886305.1</td>\n",
       "      <td>1</td>\n",
       "      <td>1158</td>\n",
       "      <td>{'QXZO01000072.1_4': 'K07303'}</td>\n",
       "    </tr>\n",
       "  </tbody>\n",
       "</table>\n",
       "<p>65703 rows × 4 columns</p>\n",
       "</div>"
      ],
      "text/plain": [
       "                   genome  mopterin_genes  total_annot_genes  \\\n",
       "0      GB_GCA_014654065.1               0                773   \n",
       "1      GB_GCA_002479145.1               0                722   \n",
       "2      GB_GCA_014377155.1               5               2489   \n",
       "3      GB_GCA_903829855.1               0                886   \n",
       "4      GB_GCA_002923395.1               0                284   \n",
       "...                   ...             ...                ...   \n",
       "65698  GB_GCA_910579245.1               0                793   \n",
       "65699  RS_GCF_001446935.1               1               2850   \n",
       "65700  RS_GCF_001953955.1               0                959   \n",
       "65701  RS_GCF_000716435.1               3               4302   \n",
       "65702  GB_GCA_009886305.1               1               1158   \n",
       "\n",
       "                                               gene_dict  \n",
       "0                                                     {}  \n",
       "1                                                     {}  \n",
       "2      {'JACMQD010000003.1_4': 'K11177', 'JACMQD01000...  \n",
       "3                                                     {}  \n",
       "4                                                     {}  \n",
       "...                                                  ...  \n",
       "65698                                                 {}  \n",
       "65699                {'NZ_LKKK01000001.1_324': 'K07303'}  \n",
       "65700                                                 {}  \n",
       "65701  {'NZ_JNWO01000001.1_180': 'K03520', 'NZ_JNWO01...  \n",
       "65702                     {'QXZO01000072.1_4': 'K07303'}  \n",
       "\n",
       "[65703 rows x 4 columns]"
      ]
     },
     "execution_count": 7,
     "metadata": {},
     "output_type": "execute_result"
    }
   ],
   "source": [
    "df"
   ]
  },
  {
   "cell_type": "code",
   "execution_count": 3,
   "id": "wired-shark",
   "metadata": {
    "tags": []
   },
   "outputs": [],
   "source": [
    "google_sheet = 'https://docs.google.com/spreadsheets/d/1WjqoaGkUAWqmktBSK3kuq_SeBeLk-PwOJqBHa5Cvizk/export?gid=0&format=csv'\n",
    "mwpterins = pd.read_csv(google_sheet)\n",
    "pterin_ko = [x.split(',') for x in mwpterins['KO (pterin domain)'].dropna().tolist()]\n",
    "mo_pterin = list(set([item for sublist in pterin_ko for item in sublist]))"
   ]
  },
  {
   "cell_type": "code",
   "execution_count": 4,
   "id": "present-constant",
   "metadata": {
    "tags": []
   },
   "outputs": [],
   "source": [
    "mpterins = mwpterins[mwpterins['Pterin'].apply(lambda x: 'Mo' in str(x))]\n",
    "wpterins = mwpterins[mwpterins['Pterin'].apply(lambda x: 'W' in str(x))]\n",
    "\n",
    "mo_genes = [x.split(',') for x in mpterins['KO (pterin domain)'].dropna().tolist()]\n",
    "mo_genes = list(set([item for sublist in mo_genes for item in sublist]))\n",
    "\n",
    "w_genes = [x.split(',') for x in wpterins['KO (pterin domain)'].dropna().tolist()]\n",
    "w_genes = list(set([item for sublist in w_genes for item in sublist]))\n",
    "\n"
   ]
  },
  {
   "cell_type": "code",
   "execution_count": 5,
   "id": "bc8793fd-be62-4466-ad76-edc79f941f02",
   "metadata": {
    "tags": []
   },
   "outputs": [
    {
     "data": {
      "text/plain": [
       "39"
      ]
     },
     "execution_count": 5,
     "metadata": {},
     "output_type": "execute_result"
    }
   ],
   "source": [
    "len(mo_genes)"
   ]
  },
  {
   "cell_type": "code",
   "execution_count": 6,
   "id": "60cdcd61-776d-48b2-b982-3b382740d3b3",
   "metadata": {
    "tags": []
   },
   "outputs": [
    {
     "data": {
      "text/plain": [
       "5"
      ]
     },
     "execution_count": 6,
     "metadata": {},
     "output_type": "execute_result"
    }
   ],
   "source": [
    "len(w_genes)"
   ]
  },
  {
   "cell_type": "code",
   "execution_count": 7,
   "id": "charitable-anniversary",
   "metadata": {
    "tags": []
   },
   "outputs": [],
   "source": [
    "num_mo_genes = []\n",
    "num_w_genes = []\n",
    "for idx,row in df.iterrows():\n",
    "    gene_list = [x[1] for x in eval(row.gene_dict).items()]\n",
    "    #gl = [x for x in gene_list if x not in ['K11389','K03738']]\n",
    "    #gl2 = [x for x in gene_list if x in ['K11389','K03738']]\n",
    "    gl = [x for x in gene_list if x in mo_genes]\n",
    "    gl2 = [x for x in gene_list if x in w_genes]\n",
    "    num_mo_genes.append(len(gl))\n",
    "    num_w_genes.append(len(gl2))\n",
    "    \n",
    "df['mo_genes'] = num_mo_genes\n",
    "df['w_genes'] = num_w_genes"
   ]
  },
  {
   "cell_type": "code",
   "execution_count": 9,
   "id": "racial-consultancy",
   "metadata": {
    "tags": []
   },
   "outputs": [],
   "source": [
    "df['w_gene_fraction'] =df.w_genes / df.total_annot_genes\n",
    "df['mo_gene_fraction'] =df.mo_genes / df.total_annot_genes"
   ]
  },
  {
   "cell_type": "code",
   "execution_count": 10,
   "id": "a8875efc-a9bc-4a9e-bab2-f55897d65c19",
   "metadata": {
    "tags": []
   },
   "outputs": [
    {
     "data": {
      "text/html": [
       "<div>\n",
       "<style scoped>\n",
       "    .dataframe tbody tr th:only-of-type {\n",
       "        vertical-align: middle;\n",
       "    }\n",
       "\n",
       "    .dataframe tbody tr th {\n",
       "        vertical-align: top;\n",
       "    }\n",
       "\n",
       "    .dataframe thead th {\n",
       "        text-align: right;\n",
       "    }\n",
       "</style>\n",
       "<table border=\"1\" class=\"dataframe\">\n",
       "  <thead>\n",
       "    <tr style=\"text-align: right;\">\n",
       "      <th></th>\n",
       "      <th>genome</th>\n",
       "      <th>mopterin_genes</th>\n",
       "      <th>total_annot_genes</th>\n",
       "      <th>gene_dict</th>\n",
       "      <th>mo_genes</th>\n",
       "      <th>w_genes</th>\n",
       "      <th>w_gene_fraction</th>\n",
       "      <th>mo_gene_fraction</th>\n",
       "    </tr>\n",
       "  </thead>\n",
       "  <tbody>\n",
       "    <tr>\n",
       "      <th>0</th>\n",
       "      <td>GB_GCA_014654065.1</td>\n",
       "      <td>0</td>\n",
       "      <td>773</td>\n",
       "      <td>{}</td>\n",
       "      <td>0</td>\n",
       "      <td>0</td>\n",
       "      <td>0.0</td>\n",
       "      <td>0.000000</td>\n",
       "    </tr>\n",
       "    <tr>\n",
       "      <th>1</th>\n",
       "      <td>GB_GCA_002479145.1</td>\n",
       "      <td>0</td>\n",
       "      <td>722</td>\n",
       "      <td>{}</td>\n",
       "      <td>0</td>\n",
       "      <td>0</td>\n",
       "      <td>0.0</td>\n",
       "      <td>0.000000</td>\n",
       "    </tr>\n",
       "    <tr>\n",
       "      <th>2</th>\n",
       "      <td>GB_GCA_014377155.1</td>\n",
       "      <td>5</td>\n",
       "      <td>2489</td>\n",
       "      <td>{'JACMQD010000003.1_4': 'K11177', 'JACMQD01000...</td>\n",
       "      <td>5</td>\n",
       "      <td>0</td>\n",
       "      <td>0.0</td>\n",
       "      <td>0.002009</td>\n",
       "    </tr>\n",
       "    <tr>\n",
       "      <th>3</th>\n",
       "      <td>GB_GCA_903829855.1</td>\n",
       "      <td>0</td>\n",
       "      <td>886</td>\n",
       "      <td>{}</td>\n",
       "      <td>0</td>\n",
       "      <td>0</td>\n",
       "      <td>0.0</td>\n",
       "      <td>0.000000</td>\n",
       "    </tr>\n",
       "    <tr>\n",
       "      <th>4</th>\n",
       "      <td>GB_GCA_002923395.1</td>\n",
       "      <td>0</td>\n",
       "      <td>284</td>\n",
       "      <td>{}</td>\n",
       "      <td>0</td>\n",
       "      <td>0</td>\n",
       "      <td>0.0</td>\n",
       "      <td>0.000000</td>\n",
       "    </tr>\n",
       "    <tr>\n",
       "      <th>...</th>\n",
       "      <td>...</td>\n",
       "      <td>...</td>\n",
       "      <td>...</td>\n",
       "      <td>...</td>\n",
       "      <td>...</td>\n",
       "      <td>...</td>\n",
       "      <td>...</td>\n",
       "      <td>...</td>\n",
       "    </tr>\n",
       "    <tr>\n",
       "      <th>65698</th>\n",
       "      <td>GB_GCA_910579245.1</td>\n",
       "      <td>0</td>\n",
       "      <td>793</td>\n",
       "      <td>{}</td>\n",
       "      <td>0</td>\n",
       "      <td>0</td>\n",
       "      <td>0.0</td>\n",
       "      <td>0.000000</td>\n",
       "    </tr>\n",
       "    <tr>\n",
       "      <th>65699</th>\n",
       "      <td>RS_GCF_001446935.1</td>\n",
       "      <td>1</td>\n",
       "      <td>2850</td>\n",
       "      <td>{'NZ_LKKK01000001.1_324': 'K07303'}</td>\n",
       "      <td>1</td>\n",
       "      <td>0</td>\n",
       "      <td>0.0</td>\n",
       "      <td>0.000351</td>\n",
       "    </tr>\n",
       "    <tr>\n",
       "      <th>65700</th>\n",
       "      <td>RS_GCF_001953955.1</td>\n",
       "      <td>0</td>\n",
       "      <td>959</td>\n",
       "      <td>{}</td>\n",
       "      <td>0</td>\n",
       "      <td>0</td>\n",
       "      <td>0.0</td>\n",
       "      <td>0.000000</td>\n",
       "    </tr>\n",
       "    <tr>\n",
       "      <th>65701</th>\n",
       "      <td>RS_GCF_000716435.1</td>\n",
       "      <td>3</td>\n",
       "      <td>4302</td>\n",
       "      <td>{'NZ_JNWO01000001.1_180': 'K03520', 'NZ_JNWO01...</td>\n",
       "      <td>3</td>\n",
       "      <td>0</td>\n",
       "      <td>0.0</td>\n",
       "      <td>0.000697</td>\n",
       "    </tr>\n",
       "    <tr>\n",
       "      <th>65702</th>\n",
       "      <td>GB_GCA_009886305.1</td>\n",
       "      <td>1</td>\n",
       "      <td>1158</td>\n",
       "      <td>{'QXZO01000072.1_4': 'K07303'}</td>\n",
       "      <td>1</td>\n",
       "      <td>0</td>\n",
       "      <td>0.0</td>\n",
       "      <td>0.000864</td>\n",
       "    </tr>\n",
       "  </tbody>\n",
       "</table>\n",
       "<p>65703 rows × 8 columns</p>\n",
       "</div>"
      ],
      "text/plain": [
       "                   genome  mopterin_genes  total_annot_genes  \\\n",
       "0      GB_GCA_014654065.1               0                773   \n",
       "1      GB_GCA_002479145.1               0                722   \n",
       "2      GB_GCA_014377155.1               5               2489   \n",
       "3      GB_GCA_903829855.1               0                886   \n",
       "4      GB_GCA_002923395.1               0                284   \n",
       "...                   ...             ...                ...   \n",
       "65698  GB_GCA_910579245.1               0                793   \n",
       "65699  RS_GCF_001446935.1               1               2850   \n",
       "65700  RS_GCF_001953955.1               0                959   \n",
       "65701  RS_GCF_000716435.1               3               4302   \n",
       "65702  GB_GCA_009886305.1               1               1158   \n",
       "\n",
       "                                               gene_dict  mo_genes  w_genes  \\\n",
       "0                                                     {}         0        0   \n",
       "1                                                     {}         0        0   \n",
       "2      {'JACMQD010000003.1_4': 'K11177', 'JACMQD01000...         5        0   \n",
       "3                                                     {}         0        0   \n",
       "4                                                     {}         0        0   \n",
       "...                                                  ...       ...      ...   \n",
       "65698                                                 {}         0        0   \n",
       "65699                {'NZ_LKKK01000001.1_324': 'K07303'}         1        0   \n",
       "65700                                                 {}         0        0   \n",
       "65701  {'NZ_JNWO01000001.1_180': 'K03520', 'NZ_JNWO01...         3        0   \n",
       "65702                     {'QXZO01000072.1_4': 'K07303'}         1        0   \n",
       "\n",
       "       w_gene_fraction  mo_gene_fraction  \n",
       "0                  0.0          0.000000  \n",
       "1                  0.0          0.000000  \n",
       "2                  0.0          0.002009  \n",
       "3                  0.0          0.000000  \n",
       "4                  0.0          0.000000  \n",
       "...                ...               ...  \n",
       "65698              0.0          0.000000  \n",
       "65699              0.0          0.000351  \n",
       "65700              0.0          0.000000  \n",
       "65701              0.0          0.000697  \n",
       "65702              0.0          0.000864  \n",
       "\n",
       "[65703 rows x 8 columns]"
      ]
     },
     "execution_count": 10,
     "metadata": {},
     "output_type": "execute_result"
    }
   ],
   "source": [
    "df"
   ]
  },
  {
   "cell_type": "code",
   "execution_count": 11,
   "id": "fallen-pension",
   "metadata": {
    "tags": []
   },
   "outputs": [
    {
     "name": "stderr",
     "output_type": "stream",
     "text": [
      "/var/folders/17/58pxvfhj0gb_wz2nzgrzc6pc0000gn/T/ipykernel_32960/407774959.py:1: DtypeWarning: Columns (8) have mixed types. Specify dtype option on import or set low_memory=False.\n",
      "  metadata = pd.read_csv(\"../data/taxa/Mark_Westoby_Organism_Metadata_Export_02152018.txt\",sep='\\t')\n"
     ]
    }
   ],
   "source": [
    "metadata = pd.read_csv(\"../data/taxa/Mark_Westoby_Organism_Metadata_Export_02152018.txt\",sep='\\t')"
   ]
  },
  {
   "cell_type": "code",
   "execution_count": 13,
   "id": "breathing-agency",
   "metadata": {
    "tags": []
   },
   "outputs": [
    {
     "name": "stderr",
     "output_type": "stream",
     "text": [
      "/var/folders/17/58pxvfhj0gb_wz2nzgrzc6pc0000gn/T/ipykernel_16550/2645816966.py:5: DtypeWarning: Columns (61,65,74,82,83,85) have mixed types. Specify dtype option on import or set low_memory=False.\n",
      "  bacteria = pd.read_csv(\"../data/taxa/bac120_metadata_r207.tsv\",sep='\\t')\n"
     ]
    }
   ],
   "source": [
    "# get ncbi taxa ids for gtdb genomes\n",
    "\n",
    "# DOWNLOAD data from GTDB FTP server here: https://data.gtdb.ecogenomic.org/releases/release207/207.0/\n",
    "\n",
    "archaea = pd.read_csv(\"../data/taxa/ar53_metadata_r207.tsv\",sep='\\t')\n",
    "archaea = archaea[['accession','ncbi_taxid']]\n",
    "\n",
    "bacteria = pd.read_csv(\"../data/taxa/bac120_metadata_r207.tsv\",sep='\\t')\n",
    "bacteria = bacteria[['accession','ncbi_taxid']]\n",
    "\n",
    "archaea['domain'] = \"Archaea\"\n",
    "bacteria['domain'] = \"Bacteria\"\n",
    "\n",
    "gtdb_to_ncbi = pd.concat([archaea,bacteria],axis=0)"
   ]
  },
  {
   "cell_type": "code",
   "execution_count": 24,
   "id": "16f2dd7d-cace-49af-9dde-5d11a497dda8",
   "metadata": {
    "tags": []
   },
   "outputs": [
    {
     "data": {
      "text/html": [
       "<div>\n",
       "<style scoped>\n",
       "    .dataframe tbody tr th:only-of-type {\n",
       "        vertical-align: middle;\n",
       "    }\n",
       "\n",
       "    .dataframe tbody tr th {\n",
       "        vertical-align: top;\n",
       "    }\n",
       "\n",
       "    .dataframe thead th {\n",
       "        text-align: right;\n",
       "    }\n",
       "</style>\n",
       "<table border=\"1\" class=\"dataframe\">\n",
       "  <thead>\n",
       "    <tr style=\"text-align: right;\">\n",
       "      <th></th>\n",
       "      <th>genome</th>\n",
       "      <th>mopterin_genes</th>\n",
       "      <th>total_annot_genes</th>\n",
       "      <th>gene_dict</th>\n",
       "      <th>mo_genes</th>\n",
       "      <th>w_genes</th>\n",
       "      <th>w_gene_fraction</th>\n",
       "      <th>mo_gene_fraction</th>\n",
       "      <th>ncbi_taxid</th>\n",
       "      <th>domain</th>\n",
       "    </tr>\n",
       "  </thead>\n",
       "  <tbody>\n",
       "    <tr>\n",
       "      <th>0</th>\n",
       "      <td>GB_GCA_014654065.1</td>\n",
       "      <td>0</td>\n",
       "      <td>773</td>\n",
       "      <td>{}</td>\n",
       "      <td>0</td>\n",
       "      <td>0</td>\n",
       "      <td>0.0</td>\n",
       "      <td>0.000000</td>\n",
       "      <td>NaN</td>\n",
       "      <td>NaN</td>\n",
       "    </tr>\n",
       "    <tr>\n",
       "      <th>1</th>\n",
       "      <td>GB_GCA_002479145.1</td>\n",
       "      <td>0</td>\n",
       "      <td>722</td>\n",
       "      <td>{}</td>\n",
       "      <td>0</td>\n",
       "      <td>0</td>\n",
       "      <td>0.0</td>\n",
       "      <td>0.000000</td>\n",
       "      <td>NaN</td>\n",
       "      <td>NaN</td>\n",
       "    </tr>\n",
       "    <tr>\n",
       "      <th>2</th>\n",
       "      <td>GB_GCA_014377155.1</td>\n",
       "      <td>5</td>\n",
       "      <td>2489</td>\n",
       "      <td>{'JACMQD010000003.1_4': 'K11177', 'JACMQD01000...</td>\n",
       "      <td>5</td>\n",
       "      <td>0</td>\n",
       "      <td>0.0</td>\n",
       "      <td>0.002009</td>\n",
       "      <td>NaN</td>\n",
       "      <td>NaN</td>\n",
       "    </tr>\n",
       "    <tr>\n",
       "      <th>3</th>\n",
       "      <td>GB_GCA_903829855.1</td>\n",
       "      <td>0</td>\n",
       "      <td>886</td>\n",
       "      <td>{}</td>\n",
       "      <td>0</td>\n",
       "      <td>0</td>\n",
       "      <td>0.0</td>\n",
       "      <td>0.000000</td>\n",
       "      <td>NaN</td>\n",
       "      <td>NaN</td>\n",
       "    </tr>\n",
       "    <tr>\n",
       "      <th>4</th>\n",
       "      <td>GB_GCA_002923395.1</td>\n",
       "      <td>0</td>\n",
       "      <td>284</td>\n",
       "      <td>{}</td>\n",
       "      <td>0</td>\n",
       "      <td>0</td>\n",
       "      <td>0.0</td>\n",
       "      <td>0.000000</td>\n",
       "      <td>NaN</td>\n",
       "      <td>NaN</td>\n",
       "    </tr>\n",
       "    <tr>\n",
       "      <th>...</th>\n",
       "      <td>...</td>\n",
       "      <td>...</td>\n",
       "      <td>...</td>\n",
       "      <td>...</td>\n",
       "      <td>...</td>\n",
       "      <td>...</td>\n",
       "      <td>...</td>\n",
       "      <td>...</td>\n",
       "      <td>...</td>\n",
       "      <td>...</td>\n",
       "    </tr>\n",
       "    <tr>\n",
       "      <th>65698</th>\n",
       "      <td>GB_GCA_910579245.1</td>\n",
       "      <td>0</td>\n",
       "      <td>793</td>\n",
       "      <td>{}</td>\n",
       "      <td>0</td>\n",
       "      <td>0</td>\n",
       "      <td>0.0</td>\n",
       "      <td>0.000000</td>\n",
       "      <td>NaN</td>\n",
       "      <td>NaN</td>\n",
       "    </tr>\n",
       "    <tr>\n",
       "      <th>65699</th>\n",
       "      <td>RS_GCF_001446935.1</td>\n",
       "      <td>1</td>\n",
       "      <td>2850</td>\n",
       "      <td>{'NZ_LKKK01000001.1_324': 'K07303'}</td>\n",
       "      <td>1</td>\n",
       "      <td>0</td>\n",
       "      <td>0.0</td>\n",
       "      <td>0.000351</td>\n",
       "      <td>NaN</td>\n",
       "      <td>NaN</td>\n",
       "    </tr>\n",
       "    <tr>\n",
       "      <th>65700</th>\n",
       "      <td>RS_GCF_001953955.1</td>\n",
       "      <td>0</td>\n",
       "      <td>959</td>\n",
       "      <td>{}</td>\n",
       "      <td>0</td>\n",
       "      <td>0</td>\n",
       "      <td>0.0</td>\n",
       "      <td>0.000000</td>\n",
       "      <td>NaN</td>\n",
       "      <td>NaN</td>\n",
       "    </tr>\n",
       "    <tr>\n",
       "      <th>65701</th>\n",
       "      <td>RS_GCF_000716435.1</td>\n",
       "      <td>3</td>\n",
       "      <td>4302</td>\n",
       "      <td>{'NZ_JNWO01000001.1_180': 'K03520', 'NZ_JNWO01...</td>\n",
       "      <td>3</td>\n",
       "      <td>0</td>\n",
       "      <td>0.0</td>\n",
       "      <td>0.000697</td>\n",
       "      <td>NaN</td>\n",
       "      <td>NaN</td>\n",
       "    </tr>\n",
       "    <tr>\n",
       "      <th>65702</th>\n",
       "      <td>GB_GCA_009886305.1</td>\n",
       "      <td>1</td>\n",
       "      <td>1158</td>\n",
       "      <td>{'QXZO01000072.1_4': 'K07303'}</td>\n",
       "      <td>1</td>\n",
       "      <td>0</td>\n",
       "      <td>0.0</td>\n",
       "      <td>0.000864</td>\n",
       "      <td>NaN</td>\n",
       "      <td>NaN</td>\n",
       "    </tr>\n",
       "  </tbody>\n",
       "</table>\n",
       "<p>65703 rows × 10 columns</p>\n",
       "</div>"
      ],
      "text/plain": [
       "                   genome  mopterin_genes  total_annot_genes  \\\n",
       "0      GB_GCA_014654065.1               0                773   \n",
       "1      GB_GCA_002479145.1               0                722   \n",
       "2      GB_GCA_014377155.1               5               2489   \n",
       "3      GB_GCA_903829855.1               0                886   \n",
       "4      GB_GCA_002923395.1               0                284   \n",
       "...                   ...             ...                ...   \n",
       "65698  GB_GCA_910579245.1               0                793   \n",
       "65699  RS_GCF_001446935.1               1               2850   \n",
       "65700  RS_GCF_001953955.1               0                959   \n",
       "65701  RS_GCF_000716435.1               3               4302   \n",
       "65702  GB_GCA_009886305.1               1               1158   \n",
       "\n",
       "                                               gene_dict  mo_genes  w_genes  \\\n",
       "0                                                     {}         0        0   \n",
       "1                                                     {}         0        0   \n",
       "2      {'JACMQD010000003.1_4': 'K11177', 'JACMQD01000...         5        0   \n",
       "3                                                     {}         0        0   \n",
       "4                                                     {}         0        0   \n",
       "...                                                  ...       ...      ...   \n",
       "65698                                                 {}         0        0   \n",
       "65699                {'NZ_LKKK01000001.1_324': 'K07303'}         1        0   \n",
       "65700                                                 {}         0        0   \n",
       "65701  {'NZ_JNWO01000001.1_180': 'K03520', 'NZ_JNWO01...         3        0   \n",
       "65702                     {'QXZO01000072.1_4': 'K07303'}         1        0   \n",
       "\n",
       "       w_gene_fraction  mo_gene_fraction  ncbi_taxid domain  \n",
       "0                  0.0          0.000000         NaN    NaN  \n",
       "1                  0.0          0.000000         NaN    NaN  \n",
       "2                  0.0          0.002009         NaN    NaN  \n",
       "3                  0.0          0.000000         NaN    NaN  \n",
       "4                  0.0          0.000000         NaN    NaN  \n",
       "...                ...               ...         ...    ...  \n",
       "65698              0.0          0.000000         NaN    NaN  \n",
       "65699              0.0          0.000351         NaN    NaN  \n",
       "65700              0.0          0.000000         NaN    NaN  \n",
       "65701              0.0          0.000697         NaN    NaN  \n",
       "65702              0.0          0.000864         NaN    NaN  \n",
       "\n",
       "[65703 rows x 10 columns]"
      ]
     },
     "execution_count": 24,
     "metadata": {},
     "output_type": "execute_result"
    }
   ],
   "source": [
    "df"
   ]
  },
  {
   "cell_type": "code",
   "execution_count": 26,
   "id": "handy-annex",
   "metadata": {
    "tags": []
   },
   "outputs": [],
   "source": [
    "df2 = df.set_index(\"genome\").join(gtdb_to_ncbi.set_index(\"accession\"))"
   ]
  },
  {
   "cell_type": "code",
   "execution_count": 27,
   "id": "amino-marks",
   "metadata": {
    "tags": []
   },
   "outputs": [],
   "source": [
    "mdo2 =metadata[['NCBI_TAXONOMY_ID',\"OXYGEN_REQUIREMENT\"]].set_index(\"NCBI_TAXONOMY_ID\")"
   ]
  },
  {
   "cell_type": "code",
   "execution_count": 28,
   "id": "dense-ranch",
   "metadata": {
    "tags": []
   },
   "outputs": [],
   "source": [
    "df2 = df2.reset_index().set_index('ncbi_taxid').join(mdo2)\n",
    "df2 = df2.drop_duplicates()"
   ]
  },
  {
   "cell_type": "code",
   "execution_count": 29,
   "id": "e6c6c219-7bca-4018-9e00-3fa079915820",
   "metadata": {
    "tags": []
   },
   "outputs": [
    {
     "data": {
      "text/html": [
       "<div>\n",
       "<style scoped>\n",
       "    .dataframe tbody tr th:only-of-type {\n",
       "        vertical-align: middle;\n",
       "    }\n",
       "\n",
       "    .dataframe tbody tr th {\n",
       "        vertical-align: top;\n",
       "    }\n",
       "\n",
       "    .dataframe thead th {\n",
       "        text-align: right;\n",
       "    }\n",
       "</style>\n",
       "<table border=\"1\" class=\"dataframe\">\n",
       "  <thead>\n",
       "    <tr style=\"text-align: right;\">\n",
       "      <th></th>\n",
       "      <th>genome</th>\n",
       "      <th>mopterin_genes</th>\n",
       "      <th>total_annot_genes</th>\n",
       "      <th>gene_dict</th>\n",
       "      <th>domain</th>\n",
       "      <th>OXYGEN_REQUIREMENT</th>\n",
       "    </tr>\n",
       "  </thead>\n",
       "  <tbody>\n",
       "    <tr>\n",
       "      <th>9</th>\n",
       "      <td>RS_GCF_900128725.1</td>\n",
       "      <td>0</td>\n",
       "      <td>298</td>\n",
       "      <td>{}</td>\n",
       "      <td>Bacteria</td>\n",
       "      <td>(null)</td>\n",
       "    </tr>\n",
       "    <tr>\n",
       "      <th>14</th>\n",
       "      <td>GB_GCA_011333985.1</td>\n",
       "      <td>0</td>\n",
       "      <td>1199</td>\n",
       "      <td>{}</td>\n",
       "      <td>Bacteria</td>\n",
       "      <td>NaN</td>\n",
       "    </tr>\n",
       "    <tr>\n",
       "      <th>24</th>\n",
       "      <td>RS_GCF_016406325.1</td>\n",
       "      <td>5</td>\n",
       "      <td>2496</td>\n",
       "      <td>{'NZ_CP066370.1_480': 'K08352', 'NZ_CP066370.1...</td>\n",
       "      <td>Bacteria</td>\n",
       "      <td>Anaerobe</td>\n",
       "    </tr>\n",
       "    <tr>\n",
       "      <th>24</th>\n",
       "      <td>RS_GCF_016406325.1</td>\n",
       "      <td>5</td>\n",
       "      <td>2496</td>\n",
       "      <td>{'NZ_CP066370.1_480': 'K08352', 'NZ_CP066370.1...</td>\n",
       "      <td>Bacteria</td>\n",
       "      <td>(null)</td>\n",
       "    </tr>\n",
       "    <tr>\n",
       "      <th>24</th>\n",
       "      <td>RS_GCF_016406305.1</td>\n",
       "      <td>6</td>\n",
       "      <td>2533</td>\n",
       "      <td>{'NZ_CP066369.1_492': 'K08352', 'NZ_CP066369.1...</td>\n",
       "      <td>Bacteria</td>\n",
       "      <td>Anaerobe</td>\n",
       "    </tr>\n",
       "    <tr>\n",
       "      <th>...</th>\n",
       "      <td>...</td>\n",
       "      <td>...</td>\n",
       "      <td>...</td>\n",
       "      <td>...</td>\n",
       "      <td>...</td>\n",
       "      <td>...</td>\n",
       "    </tr>\n",
       "    <tr>\n",
       "      <th>2856340</th>\n",
       "      <td>GB_GCA_019218315.1</td>\n",
       "      <td>1</td>\n",
       "      <td>1556</td>\n",
       "      <td>{'JAHUUI010000003.1_248': 'K07811'}</td>\n",
       "      <td>Bacteria</td>\n",
       "      <td>NaN</td>\n",
       "    </tr>\n",
       "    <tr>\n",
       "      <th>2856341</th>\n",
       "      <td>GB_GCA_019218365.1</td>\n",
       "      <td>0</td>\n",
       "      <td>918</td>\n",
       "      <td>{}</td>\n",
       "      <td>Bacteria</td>\n",
       "      <td>NaN</td>\n",
       "    </tr>\n",
       "    <tr>\n",
       "      <th>2856342</th>\n",
       "      <td>GB_GCA_019218375.1</td>\n",
       "      <td>0</td>\n",
       "      <td>1071</td>\n",
       "      <td>{}</td>\n",
       "      <td>Bacteria</td>\n",
       "      <td>NaN</td>\n",
       "    </tr>\n",
       "    <tr>\n",
       "      <th>2856343</th>\n",
       "      <td>GB_GCA_019218415.1</td>\n",
       "      <td>0</td>\n",
       "      <td>1086</td>\n",
       "      <td>{}</td>\n",
       "      <td>Bacteria</td>\n",
       "      <td>NaN</td>\n",
       "    </tr>\n",
       "    <tr>\n",
       "      <th>2856344</th>\n",
       "      <td>GB_GCA_019218445.1</td>\n",
       "      <td>0</td>\n",
       "      <td>1052</td>\n",
       "      <td>{}</td>\n",
       "      <td>Bacteria</td>\n",
       "      <td>NaN</td>\n",
       "    </tr>\n",
       "  </tbody>\n",
       "</table>\n",
       "<p>66809 rows × 6 columns</p>\n",
       "</div>"
      ],
      "text/plain": [
       "                     genome  mopterin_genes  total_annot_genes  \\\n",
       "9        RS_GCF_900128725.1               0                298   \n",
       "14       GB_GCA_011333985.1               0               1199   \n",
       "24       RS_GCF_016406325.1               5               2496   \n",
       "24       RS_GCF_016406325.1               5               2496   \n",
       "24       RS_GCF_016406305.1               6               2533   \n",
       "...                     ...             ...                ...   \n",
       "2856340  GB_GCA_019218315.1               1               1556   \n",
       "2856341  GB_GCA_019218365.1               0                918   \n",
       "2856342  GB_GCA_019218375.1               0               1071   \n",
       "2856343  GB_GCA_019218415.1               0               1086   \n",
       "2856344  GB_GCA_019218445.1               0               1052   \n",
       "\n",
       "                                                 gene_dict    domain  \\\n",
       "9                                                       {}  Bacteria   \n",
       "14                                                      {}  Bacteria   \n",
       "24       {'NZ_CP066370.1_480': 'K08352', 'NZ_CP066370.1...  Bacteria   \n",
       "24       {'NZ_CP066370.1_480': 'K08352', 'NZ_CP066370.1...  Bacteria   \n",
       "24       {'NZ_CP066369.1_492': 'K08352', 'NZ_CP066369.1...  Bacteria   \n",
       "...                                                    ...       ...   \n",
       "2856340                {'JAHUUI010000003.1_248': 'K07811'}  Bacteria   \n",
       "2856341                                                 {}  Bacteria   \n",
       "2856342                                                 {}  Bacteria   \n",
       "2856343                                                 {}  Bacteria   \n",
       "2856344                                                 {}  Bacteria   \n",
       "\n",
       "        OXYGEN_REQUIREMENT  \n",
       "9                   (null)  \n",
       "14                     NaN  \n",
       "24                Anaerobe  \n",
       "24                  (null)  \n",
       "24                Anaerobe  \n",
       "...                    ...  \n",
       "2856340                NaN  \n",
       "2856341                NaN  \n",
       "2856342                NaN  \n",
       "2856343                NaN  \n",
       "2856344                NaN  \n",
       "\n",
       "[66809 rows x 6 columns]"
      ]
     },
     "execution_count": 29,
     "metadata": {},
     "output_type": "execute_result"
    }
   ],
   "source": [
    "df2"
   ]
  },
  {
   "cell_type": "code",
   "execution_count": null,
   "id": "5901f2b6-2dca-4e17-a454-e52cf8df6c13",
   "metadata": {
    "tags": []
   },
   "outputs": [],
   "source": [
    "# remap names to aeroboe or anaerobe using label mapper\n",
    "\n",
    "possible = ['Obligate aerobe', 'Aerobe',\"Anaerobe\",'Obligate anaerobe']\n",
    "df2 = df2[df2.OXYGEN_REQUIREMENT.isin(possible)]\n",
    "\n",
    "#aerobe = ['Obligate aerobe', 'Aerobe',\"Microaerophilic\",\"Facultative\",\"Facultative anaerobe\"]\n",
    "#df2['o2_tol']= df2[\"OXYGEN_REQUIREMENT\"].isin(aerobe)\n",
    "aerobe = ['Obligate aerobe', 'Aerobe']\n",
    "df2['o2_tol']= df2[\"OXYGEN_REQUIREMENT\"].isin(aerobe)\n",
    "\n",
    "glabel = {}\n",
    "glabel[True] = 'Aerobe'\n",
    "glabel[False] = 'Anaerobe'\n",
    "\n",
    "df2['physiology'] = df2[\"o2_tol\"].apply(lambda x: glabel[x])"
   ]
  },
  {
   "cell_type": "code",
   "execution_count": 29,
   "id": "orange-binary",
   "metadata": {
    "tags": []
   },
   "outputs": [
    {
     "data": {
      "image/png": "[encoded data removed]",
      "text/plain": [
       "<Figure size 223.375x144 with 1 Axes>"
      ]
     },
     "metadata": {
      "needs_background": "light"
     },
     "output_type": "display_data"
    }
   ],
   "source": [
    "#figure = plt.figure()\n",
    "sns.displot(x='mo_gene_fraction',data=df2,hue='physiology',kind=\"ecdf\",palette='Set1',aspect=1,height=2)\n",
    "plt.xlabel('Molydopterin gene fraction')\n",
    "plt.ylabel('cumulative distribution')\n",
    "plt.xlim([-0.0001,0.005])\n",
    "plt.savefig('ecdf.molydopterin.geneFrac.24Nov2022.small.svg')"
   ]
  },
  {
   "cell_type": "code",
   "execution_count": 28,
   "id": "statutory-station",
   "metadata": {
    "tags": []
   },
   "outputs": [
    {
     "data": {
      "image/png": "[encoded data removed]",
      "text/plain": [
       "<Figure size 223.375x144 with 1 Axes>"
      ]
     },
     "metadata": {
      "needs_background": "light"
     },
     "output_type": "display_data"
    }
   ],
   "source": [
    "#figure = plt.figure()\n",
    "sns.displot(x='w_gene_fraction',data=df2,hue='physiology',kind=\"ecdf\",palette='Set1',aspect=1,height=2)\n",
    "plt.xlabel('Tungstopterin gene fraction')\n",
    "plt.ylabel('cumulative distribution')\n",
    "plt.xlim([-0.0001,0.006])\n",
    "plt.savefig('ecdf.tungstodopterin.geneFrac.24Nov2022.small.svg')"
   ]
  },
  {
   "cell_type": "code",
   "execution_count": 186,
   "id": "informal-sending",
   "metadata": {},
   "outputs": [],
   "source": [
    "dfs = []\n",
    "for idx,row in df2.iterrows():\n",
    "    kolist = list(eval(row.gene_dict).values())\n",
    "    k = list(set(kolist))\n",
    "    g = pd.DataFrame({\"KO\":k,'counts': [kolist.count(x) for x in list(set(k))]})\n",
    "    g['counts_n'] = g.counts / row.total_annot_genes\n",
    "    g['genome'] = row.genome\n",
    "    dfs.append(g)\n",
    "dfs_genome_kegg_counts = pd.concat(dfs,axis=0)\n",
    "dfg = dfs_genome_kegg_counts.pivot_table(index=\"genome\",columns='KO',values='counts').fillna(0)\n"
   ]
  },
  {
   "cell_type": "code",
   "execution_count": 285,
   "id": "peaceful-harmony",
   "metadata": {},
   "outputs": [],
   "source": [
    "import cbtk.kegg as kegg_api\n",
    "kos = kegg_api.list('ko')\n",
    "kos.columns = ['KO','name']\n",
    "kos['KO'] = kos['KO'].apply(lambda x: x.split(':')[1])\n",
    "kos['gene_name'] = kos[\"name\"].apply(lambda x: x.split(\";\")[0])\n",
    "kos.to_csv(\"keggGeneNames.csv\")"
   ]
  },
  {
   "cell_type": "code",
   "execution_count": 212,
   "id": "afraid-miller",
   "metadata": {},
   "outputs": [],
   "source": [
    "dfgc = dfs_genome_kegg_counts.pivot_table(index=\"genome\",columns='KO',values='counts_n').fillna(0)\n"
   ]
  },
  {
   "cell_type": "code",
   "execution_count": 235,
   "id": "corrected-civilian",
   "metadata": {},
   "outputs": [],
   "source": [
    "#\n",
    "from scipy.stats import mannwhitneyu\n",
    "from statsmodels.stats.multitest import multipletests"
   ]
  },
  {
   "cell_type": "code",
   "execution_count": 236,
   "id": "patient-reporter",
   "metadata": {},
   "outputs": [],
   "source": [
    "\n",
    "# perform tests for volcano plot\n",
    "from scipy.stats import mannwhitneyu\n",
    "from statsmodels.stats.multitest import multipletests\n",
    "\n",
    "X = dfgc.join(df2.set_index(\"genome\")[[\"physiology\"]]).set_index('physiology')\n",
    "ustats,pvals = mannwhitneyu(X.loc['Aerobe'],X.loc['Anaerobe'])\n",
    "lfc = np.log2((X.loc['Aerobe'].mean() + 1e-6) / (X.loc['Anaerobe'].mean()+ 1e-6))\n",
    "reject,adjpval,alphacSidak,alphacBonf =  multipletests(pvals,method=\"fdr_bh\")\n",
    "stat_results = pd.DataFrame({'KO': list(X),'ustat': ustats ,'pval': pvals, 'FoldChange (log2)': lfc, 'p-val (adj)': adjpval})\n",
    "stat_results[\"q-val (log10)\"]= stat_results[\"p-val (adj)\"].apply(lambda x: -np.log10(x))\n",
    "stat_results = stat_results.join(kos.set_index('KO'))\n",
    "stat_results[\"genes\"] = stat_results[\"gene_name\"].apply(lambda x: x.replace(', ','/'))"
   ]
  },
  {
   "cell_type": "code",
   "execution_count": 324,
   "id": "polished-statistics",
   "metadata": {},
   "outputs": [
    {
     "data": {
      "image/png": "[encoded data removed]",
      "text/plain": [
       "<Figure size 288x216 with 1 Axes>"
      ]
     },
     "metadata": {
      "needs_background": "light"
     },
     "output_type": "display_data"
    }
   ],
   "source": [
    "plt.figure(figsize=(4,3))\n",
    "ax = sns.scatterplot(x=\"FoldChange (log2)\",y=\"q-val (log10)\",data=stat_results,color=\"k\")\n",
    "#plt.hlines()\n",
    "fccutoff = 2\n",
    "qcutoff = -np.log10(0.01)\n",
    "trans = 0.15\n",
    "for i, row in stat_results.iterrows():\n",
    "    if ((abs(row['FoldChange (log2)']) > fccutoff) &  ((row['q-val (log10)']) > qcutoff)):\n",
    "        ax.annotate(row.genes, (row[\"FoldChange (log2)\"]+trans,row[\"q-val (log10)\"]+trans),style='italic')\n",
    "plt.hlines(qcutoff,-8,8,color='grey',linestyles=\"dashed\")\n",
    "plt.xlim([-8,8])\n",
    "#plt.vlines(0,-5,105,color='grey',linestyles=\"dashed\")\n",
    "plt.vlines(fccutoff,-5,105,color='grey',linestyles=\"dashed\")\n",
    "plt.vlines(-fccutoff,-5,105,color='grey',linestyles=\"dashed\")\n",
    "plt.ylim([-5,105])\n",
    "plt.xlabel('Fold Change (log$_2$)')\n",
    "plt.ylabel('q-value (log$_{10}$)')\n",
    "plt.savefig(\"aerobe_vs_anaerobe.pterins.svg\")"
   ]
  },
  {
   "cell_type": "code",
   "execution_count": 59,
   "id": "greenhouse-envelope",
   "metadata": {},
   "outputs": [],
   "source": [
    "import numpy as np\n",
    "from sklearn.decomposition import PCA\n",
    "from sklearn.preprocessing import StandardScaler\n",
    "pca  = PCA(n_components=2)\n"
   ]
  },
  {
   "cell_type": "code",
   "execution_count": 206,
   "id": "completed-neutral",
   "metadata": {},
   "outputs": [],
   "source": [
    "scaler = StandardScaler() \n",
    "xn = scaler.fit_transform(dfg.values)\n",
    "#xn = dfg.apply(lambda x: np.log2(x+(1/10000))).values\n",
    "pca.fit(xn)\n",
    "labels = [\"PC{i}: ({x}%)\".format(i=x[0],x=round(100*x[1],2)) for x in list(zip(range(1,n+1),pca.explained_variance_ratio_))]\n",
    "pdfg = pd.DataFrame(pca.transform(xn),index=dfg.index,columns =labels)"
   ]
  },
  {
   "cell_type": "code",
   "execution_count": 341,
   "id": "incident-cleveland",
   "metadata": {},
   "outputs": [
    {
     "data": {
      "text/html": [
       "<div>\n",
       "<style scoped>\n",
       "    .dataframe tbody tr th:only-of-type {\n",
       "        vertical-align: middle;\n",
       "    }\n",
       "\n",
       "    .dataframe tbody tr th {\n",
       "        vertical-align: top;\n",
       "    }\n",
       "\n",
       "    .dataframe thead th {\n",
       "        text-align: right;\n",
       "    }\n",
       "</style>\n",
       "<table border=\"1\" class=\"dataframe\">\n",
       "  <thead>\n",
       "    <tr style=\"text-align: right;\">\n",
       "      <th></th>\n",
       "      <th>PC1: (8.94%)</th>\n",
       "      <th>PC2: (6.11%)</th>\n",
       "    </tr>\n",
       "    <tr>\n",
       "      <th>genome</th>\n",
       "      <th></th>\n",
       "      <th></th>\n",
       "    </tr>\n",
       "  </thead>\n",
       "  <tbody>\n",
       "    <tr>\n",
       "      <th>GB_GCA_000010565.1</th>\n",
       "      <td>-2.871314</td>\n",
       "      <td>0.247552</td>\n",
       "    </tr>\n",
       "    <tr>\n",
       "      <th>GB_GCA_000016605.1</th>\n",
       "      <td>-0.802124</td>\n",
       "      <td>-0.893222</td>\n",
       "    </tr>\n",
       "    <tr>\n",
       "      <th>GB_GCA_000018565.1</th>\n",
       "      <td>-0.898734</td>\n",
       "      <td>-0.589625</td>\n",
       "    </tr>\n",
       "    <tr>\n",
       "      <th>GB_GCA_000024525.1</th>\n",
       "      <td>1.912505</td>\n",
       "      <td>-1.661146</td>\n",
       "    </tr>\n",
       "    <tr>\n",
       "      <th>GB_GCA_000026125.1</th>\n",
       "      <td>0.784867</td>\n",
       "      <td>0.319930</td>\n",
       "    </tr>\n",
       "    <tr>\n",
       "      <th>...</th>\n",
       "      <td>...</td>\n",
       "      <td>...</td>\n",
       "    </tr>\n",
       "    <tr>\n",
       "      <th>RS_GCF_904846225.1</th>\n",
       "      <td>-0.315383</td>\n",
       "      <td>-0.630531</td>\n",
       "    </tr>\n",
       "    <tr>\n",
       "      <th>RS_GCF_904846235.1</th>\n",
       "      <td>0.274022</td>\n",
       "      <td>-0.591057</td>\n",
       "    </tr>\n",
       "    <tr>\n",
       "      <th>RS_GCF_904846285.1</th>\n",
       "      <td>-0.088211</td>\n",
       "      <td>-0.162783</td>\n",
       "    </tr>\n",
       "    <tr>\n",
       "      <th>RS_GCF_904848585.1</th>\n",
       "      <td>5.797989</td>\n",
       "      <td>-0.246675</td>\n",
       "    </tr>\n",
       "    <tr>\n",
       "      <th>RS_GCF_907163115.1</th>\n",
       "      <td>0.412899</td>\n",
       "      <td>0.571202</td>\n",
       "    </tr>\n",
       "  </tbody>\n",
       "</table>\n",
       "<p>1710 rows × 2 columns</p>\n",
       "</div>"
      ],
      "text/plain": [
       "                    PC1: (8.94%)  PC2: (6.11%)\n",
       "genome                                        \n",
       "GB_GCA_000010565.1     -2.871314      0.247552\n",
       "GB_GCA_000016605.1     -0.802124     -0.893222\n",
       "GB_GCA_000018565.1     -0.898734     -0.589625\n",
       "GB_GCA_000024525.1      1.912505     -1.661146\n",
       "GB_GCA_000026125.1      0.784867      0.319930\n",
       "...                          ...           ...\n",
       "RS_GCF_904846225.1     -0.315383     -0.630531\n",
       "RS_GCF_904846235.1      0.274022     -0.591057\n",
       "RS_GCF_904846285.1     -0.088211     -0.162783\n",
       "RS_GCF_904848585.1      5.797989     -0.246675\n",
       "RS_GCF_907163115.1      0.412899      0.571202\n",
       "\n",
       "[1710 rows x 2 columns]"
      ]
     },
     "execution_count": 341,
     "metadata": {},
     "output_type": "execute_result"
    }
   ],
   "source": [
    "pdfg"
   ]
  },
  {
   "cell_type": "code",
   "execution_count": 342,
   "id": "opponent-investigation",
   "metadata": {},
   "outputs": [],
   "source": [
    "pdfg = pdfg.join(df2.set_index('genome')).join(dfg)"
   ]
  },
  {
   "cell_type": "code",
   "execution_count": 344,
   "id": "accredited-mills",
   "metadata": {},
   "outputs": [
    {
     "data": {
      "image/png": "[encoded data removed]",
      "text/plain": [
       "<Figure size 288x216 with 1 Axes>"
      ]
     },
     "metadata": {
      "needs_background": "light"
     },
     "output_type": "display_data"
    }
   ],
   "source": [
    "plt.figure(figsize=(4,3))\n",
    "sns.scatterplot(x=labels[0],y=labels[1],data=pdfg,hue='physiology',palette='Set1')\n",
    "plt.savefig(\"PCAplot.svg\")"
   ]
  }
 ],
 "metadata": {
  "kernelspec": {
   "display_name": "informatics.p38",
   "language": "python",
   "name": "python3"
  },
  "language_info": {
   "codemirror_mode": {
    "name": "ipython",
    "version": 3
   },
   "file_extension": ".py",
   "mimetype": "text/x-python",
   "name": "python",
   "nbconvert_exporter": "python",
   "pygments_lexer": "ipython3",
   "version": "3.8.16"
  }
 },
 "nbformat": 4,
 "nbformat_minor": 5
}
