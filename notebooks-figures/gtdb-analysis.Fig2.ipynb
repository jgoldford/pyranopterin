{
 "cells": [
  {
   "cell_type": "code",
   "execution_count": 2,
   "id": "roman-figure",
   "metadata": {
    "tags": []
   },
   "outputs": [],
   "source": [
    "import pandas as pd\n",
    "import seaborn as sns\n",
    "import matplotlib.pyplot as plt\n",
    "import scipy.stats as stats\n",
    "import cbtk.kegg as kegg_api\n",
    "plt.rcParams['font.family'] = 'Arial'\n"
   ]
  },
  {
   "cell_type": "code",
   "execution_count": 25,
   "id": "suburban-general",
   "metadata": {
    "tags": []
   },
   "outputs": [],
   "source": [
    "#df = pd.read_csv(\"../data/pterinCounts.26Oct2022.csv\",index_col=0)\n",
    "df = pd.read_csv(\"../data/pterinCounts.12Nov2022.csv\",index_col=0)\n",
    "df = df.drop(\"total_genes\",axis=1)\n",
    "df['genome'] = df['genome'].apply(lambda x: x.split('_protein')[0])"
   ]
  },
  {
   "cell_type": "code",
   "execution_count": 7,
   "id": "alleged-pixel",
   "metadata": {
    "tags": []
   },
   "outputs": [
    {
     "data": {
      "text/html": [
       "<div>\n",
       "<style scoped>\n",
       "    .dataframe tbody tr th:only-of-type {\n",
       "        vertical-align: middle;\n",
       "    }\n",
       "\n",
       "    .dataframe tbody tr th {\n",
       "        vertical-align: top;\n",
       "    }\n",
       "\n",
       "    .dataframe thead th {\n",
       "        text-align: right;\n",
       "    }\n",
       "</style>\n",
       "<table border=\"1\" class=\"dataframe\">\n",
       "  <thead>\n",
       "    <tr style=\"text-align: right;\">\n",
       "      <th></th>\n",
       "      <th>genome</th>\n",
       "      <th>mopterin_genes</th>\n",
       "      <th>total_annot_genes</th>\n",
       "      <th>gene_dict</th>\n",
       "    </tr>\n",
       "  </thead>\n",
       "  <tbody>\n",
       "    <tr>\n",
       "      <th>0</th>\n",
       "      <td>GB_GCA_014654065.1</td>\n",
       "      <td>0</td>\n",
       "      <td>773</td>\n",
       "      <td>{}</td>\n",
       "    </tr>\n",
       "    <tr>\n",
       "      <th>1</th>\n",
       "      <td>GB_GCA_002479145.1</td>\n",
       "      <td>0</td>\n",
       "      <td>722</td>\n",
       "      <td>{}</td>\n",
       "    </tr>\n",
       "    <tr>\n",
       "      <th>2</th>\n",
       "      <td>GB_GCA_014377155.1</td>\n",
       "      <td>5</td>\n",
       "      <td>2489</td>\n",
       "      <td>{'JACMQD010000003.1_4': 'K11177', 'JACMQD01000...</td>\n",
       "    </tr>\n",
       "    <tr>\n",
       "      <th>3</th>\n",
       "      <td>GB_GCA_903829855.1</td>\n",
       "      <td>0</td>\n",
       "      <td>886</td>\n",
       "      <td>{}</td>\n",
       "    </tr>\n",
       "    <tr>\n",
       "      <th>4</th>\n",
       "      <td>GB_GCA_002923395.1</td>\n",
       "      <td>0</td>\n",
       "      <td>284</td>\n",
       "      <td>{}</td>\n",
       "    </tr>\n",
       "    <tr>\n",
       "      <th>...</th>\n",
       "      <td>...</td>\n",
       "      <td>...</td>\n",
       "      <td>...</td>\n",
       "      <td>...</td>\n",
       "    </tr>\n",
       "    <tr>\n",
       "      <th>65698</th>\n",
       "      <td>GB_GCA_910579245.1</td>\n",
       "      <td>0</td>\n",
       "      <td>793</td>\n",
       "      <td>{}</td>\n",
       "    </tr>\n",
       "    <tr>\n",
       "      <th>65699</th>\n",
       "      <td>RS_GCF_001446935.1</td>\n",
       "      <td>1</td>\n",
       "      <td>2850</td>\n",
       "      <td>{'NZ_LKKK01000001.1_324': 'K07303'}</td>\n",
       "    </tr>\n",
       "    <tr>\n",
       "      <th>65700</th>\n",
       "      <td>RS_GCF_001953955.1</td>\n",
       "      <td>0</td>\n",
       "      <td>959</td>\n",
       "      <td>{}</td>\n",
       "    </tr>\n",
       "    <tr>\n",
       "      <th>65701</th>\n",
       "      <td>RS_GCF_000716435.1</td>\n",
       "      <td>3</td>\n",
       "      <td>4302</td>\n",
       "      <td>{'NZ_JNWO01000001.1_180': 'K03520', 'NZ_JNWO01...</td>\n",
       "    </tr>\n",
       "    <tr>\n",
       "      <th>65702</th>\n",
       "      <td>GB_GCA_009886305.1</td>\n",
       "      <td>1</td>\n",
       "      <td>1158</td>\n",
       "      <td>{'QXZO01000072.1_4': 'K07303'}</td>\n",
       "    </tr>\n",
       "  </tbody>\n",
       "</table>\n",
       "<p>65703 rows × 4 columns</p>\n",
       "</div>"
      ],
      "text/plain": [
       "                   genome  mopterin_genes  total_annot_genes  \\\n",
       "0      GB_GCA_014654065.1               0                773   \n",
       "1      GB_GCA_002479145.1               0                722   \n",
       "2      GB_GCA_014377155.1               5               2489   \n",
       "3      GB_GCA_903829855.1               0                886   \n",
       "4      GB_GCA_002923395.1               0                284   \n",
       "...                   ...             ...                ...   \n",
       "65698  GB_GCA_910579245.1               0                793   \n",
       "65699  RS_GCF_001446935.1               1               2850   \n",
       "65700  RS_GCF_001953955.1               0                959   \n",
       "65701  RS_GCF_000716435.1               3               4302   \n",
       "65702  GB_GCA_009886305.1               1               1158   \n",
       "\n",
       "                                               gene_dict  \n",
       "0                                                     {}  \n",
       "1                                                     {}  \n",
       "2      {'JACMQD010000003.1_4': 'K11177', 'JACMQD01000...  \n",
       "3                                                     {}  \n",
       "4                                                     {}  \n",
       "...                                                  ...  \n",
       "65698                                                 {}  \n",
       "65699                {'NZ_LKKK01000001.1_324': 'K07303'}  \n",
       "65700                                                 {}  \n",
       "65701  {'NZ_JNWO01000001.1_180': 'K03520', 'NZ_JNWO01...  \n",
       "65702                     {'QXZO01000072.1_4': 'K07303'}  \n",
       "\n",
       "[65703 rows x 4 columns]"
      ]
     },
     "execution_count": 7,
     "metadata": {},
     "output_type": "execute_result"
    }
   ],
   "source": [
    "df"
   ]
  },
  {
   "cell_type": "code",
   "execution_count": 4,
   "id": "split-diagram",
   "metadata": {
    "tags": []
   },
   "outputs": [],
   "source": [
    "#sulfur = pd.read_csv(\"../data/gtdb/geneCounts/sulfurMetabolismGeneCounts.12Feb2023.csv\",index_col=0)\n",
    "sulfur = pd.read_csv(\"../data/gtdb/geneCounts/sulfideGeneCounts.12Feb2023.csv\",index_col=0)"
   ]
  },
  {
   "cell_type": "code",
   "execution_count": 3,
   "id": "wired-shark",
   "metadata": {
    "tags": []
   },
   "outputs": [],
   "source": [
    "google_sheet = 'https://docs.google.com/spreadsheets/d/1WjqoaGkUAWqmktBSK3kuq_SeBeLk-PwOJqBHa5Cvizk/export?gid=0&format=csv'\n",
    "mwpterins = pd.read_csv(google_sheet)\n",
    "pterin_ko = [x.split(',') for x in mwpterins['KO (pterin domain)'].dropna().tolist()]\n",
    "mo_pterin = list(set([item for sublist in pterin_ko for item in sublist]))"
   ]
  },
  {
   "cell_type": "code",
   "execution_count": 6,
   "id": "dutch-camera",
   "metadata": {
    "tags": []
   },
   "outputs": [],
   "source": [
    "# download seqs for gene families and run through embedding to prediction tool\n",
    "#dfs = []\n",
    "#for gene in mo_pterin:\n",
    "#  dfs.append(kegg_api.ko2genes(gene))\n",
    "#d1fs = pd.concat(dfs,axis=0)"
   ]
  },
  {
   "cell_type": "code",
   "execution_count": 355,
   "id": "dimensional-attempt",
   "metadata": {},
   "outputs": [],
   "source": [
    "#dfs.to_csv(\"../data/pterinBindingGenesKegg.csv\")"
   ]
  },
  {
   "cell_type": "code",
   "execution_count": 353,
   "id": "bizarre-germany",
   "metadata": {},
   "outputs": [],
   "source": [
    "# download ~25k sequence and embedd these on HPC\n",
    "#kegg_api.download_aa_seqs(dfs.gene.tolist(),\"pterinBindingDomains.KEGG.23Dec2022.fa\",10)"
   ]
  },
  {
   "cell_type": "code",
   "execution_count": 4,
   "id": "present-constant",
   "metadata": {
    "tags": []
   },
   "outputs": [],
   "source": [
    "mpterins = mwpterins[mwpterins['Pterin'].apply(lambda x: 'Mo' in str(x))]\n",
    "wpterins = mwpterins[mwpterins['Pterin'].apply(lambda x: 'W' in str(x))]\n",
    "\n",
    "mo_genes = [x.split(',') for x in mpterins['KO (pterin domain)'].dropna().tolist()]\n",
    "mo_genes = list(set([item for sublist in mo_genes for item in sublist]))\n",
    "\n",
    "w_genes = [x.split(',') for x in wpterins['KO (pterin domain)'].dropna().tolist()]\n",
    "w_genes = list(set([item for sublist in w_genes for item in sublist]))\n",
    "\n"
   ]
  },
  {
   "cell_type": "code",
   "execution_count": 40,
   "id": "bc8793fd-be62-4466-ad76-edc79f941f02",
   "metadata": {
    "tags": []
   },
   "outputs": [
    {
     "data": {
      "text/plain": [
       "39"
      ]
     },
     "execution_count": 40,
     "metadata": {},
     "output_type": "execute_result"
    }
   ],
   "source": [
    "len(mo_genes)"
   ]
  },
  {
   "cell_type": "code",
   "execution_count": 41,
   "id": "60cdcd61-776d-48b2-b982-3b382740d3b3",
   "metadata": {
    "tags": []
   },
   "outputs": [
    {
     "data": {
      "text/plain": [
       "5"
      ]
     },
     "execution_count": 41,
     "metadata": {},
     "output_type": "execute_result"
    }
   ],
   "source": [
    "len(w_genes)"
   ]
  },
  {
   "cell_type": "code",
   "execution_count": 8,
   "id": "charitable-anniversary",
   "metadata": {
    "tags": []
   },
   "outputs": [],
   "source": [
    "num_mo_genes = []\n",
    "num_w_genes = []\n",
    "for idx,row in df.iterrows():\n",
    "    gene_list = [x[1] for x in eval(row.gene_dict).items()]\n",
    "    #gl = [x for x in gene_list if x not in ['K11389','K03738']]\n",
    "    #gl2 = [x for x in gene_list if x in ['K11389','K03738']]\n",
    "    gl = [x for x in gene_list if x in mo_genes]\n",
    "    gl2 = [x for x in gene_list if x in w_genes]\n",
    "    num_mo_genes.append(len(gl))\n",
    "    num_w_genes.append(len(gl2))\n",
    "    \n",
    "df['mo_genes'] = num_mo_genes\n",
    "df['w_genes'] = num_w_genes"
   ]
  },
  {
   "cell_type": "code",
   "execution_count": 9,
   "id": "racial-consultancy",
   "metadata": {
    "tags": []
   },
   "outputs": [],
   "source": [
    "df['w_gene_fraction'] =df.w_genes / df.total_annot_genes\n",
    "df['mo_gene_fraction'] =df.mo_genes / df.total_annot_genes"
   ]
  },
  {
   "cell_type": "code",
   "execution_count": 10,
   "id": "organic-characteristic",
   "metadata": {
    "tags": []
   },
   "outputs": [
    {
     "ename": "NameError",
     "evalue": "name 'sulfur' is not defined",
     "output_type": "error",
     "traceback": [
      "\u001b[0;31m---------------------------------------------------------------------------\u001b[0m",
      "\u001b[0;31mNameError\u001b[0m                                 Traceback (most recent call last)",
      "\u001b[0;32m/var/folders/17/58pxvfhj0gb_wz2nzgrzc6pc0000gn/T/ipykernel_16550/4220513704.py\u001b[0m in \u001b[0;36m<module>\u001b[0;34m\u001b[0m\n\u001b[1;32m      1\u001b[0m \u001b[0;31m#dfs = df.set_index(\"genome\").join(sulfur.set_index(\"genome\")[['num_sulfur_genes']])\u001b[0m\u001b[0;34m\u001b[0m\u001b[0;34m\u001b[0m\u001b[0m\n\u001b[0;32m----> 2\u001b[0;31m \u001b[0mdf\u001b[0m \u001b[0;34m=\u001b[0m \u001b[0mdf\u001b[0m\u001b[0;34m.\u001b[0m\u001b[0mset_index\u001b[0m\u001b[0;34m(\u001b[0m\u001b[0;34m\"genome\"\u001b[0m\u001b[0;34m)\u001b[0m\u001b[0;34m.\u001b[0m\u001b[0mjoin\u001b[0m\u001b[0;34m(\u001b[0m\u001b[0msulfur\u001b[0m\u001b[0;34m.\u001b[0m\u001b[0mset_index\u001b[0m\u001b[0;34m(\u001b[0m\u001b[0;34m\"genome\"\u001b[0m\u001b[0;34m)\u001b[0m\u001b[0;34m[\u001b[0m\u001b[0;34m[\u001b[0m\u001b[0;34m'num_sulfide_genes'\u001b[0m\u001b[0;34m]\u001b[0m\u001b[0;34m]\u001b[0m\u001b[0;34m)\u001b[0m\u001b[0;34m\u001b[0m\u001b[0;34m\u001b[0m\u001b[0m\n\u001b[0m\u001b[1;32m      3\u001b[0m \u001b[0;31m#dfs[\"s_gene_fraction\"] = dfs[\"num_sulfur_genes\"] / dfs[\"total_annot_genes\"]\u001b[0m\u001b[0;34m\u001b[0m\u001b[0;34m\u001b[0m\u001b[0m\n\u001b[1;32m      4\u001b[0m \u001b[0mdf\u001b[0m\u001b[0;34m[\u001b[0m\u001b[0;34m\"s_gene_fraction\"\u001b[0m\u001b[0;34m]\u001b[0m \u001b[0;34m=\u001b[0m \u001b[0mdf\u001b[0m\u001b[0;34m[\u001b[0m\u001b[0;34m\"num_sulfide_genes\"\u001b[0m\u001b[0;34m]\u001b[0m \u001b[0;34m/\u001b[0m \u001b[0mdf\u001b[0m\u001b[0;34m[\u001b[0m\u001b[0;34m\"total_annot_genes\"\u001b[0m\u001b[0;34m]\u001b[0m\u001b[0;34m\u001b[0m\u001b[0;34m\u001b[0m\u001b[0m\n",
      "\u001b[0;31mNameError\u001b[0m: name 'sulfur' is not defined"
     ]
    }
   ],
   "source": [
    "#dfs = df.set_index(\"genome\").join(sulfur.set_index(\"genome\")[['num_sulfur_genes']])\n",
    "df = df.set_index(\"genome\").join(sulfur.set_index(\"genome\")[['num_sulfide_genes']])\n",
    "#dfs[\"s_gene_fraction\"] = dfs[\"num_sulfur_genes\"] / dfs[\"total_annot_genes\"]\n",
    "df[\"s_gene_fraction\"] = df[\"num_sulfide_genes\"] / df[\"total_annot_genes\"]"
   ]
  },
  {
   "cell_type": "code",
   "execution_count": 11,
   "id": "a8875efc-a9bc-4a9e-bab2-f55897d65c19",
   "metadata": {
    "tags": []
   },
   "outputs": [
    {
     "data": {
      "text/html": [
       "<div>\n",
       "<style scoped>\n",
       "    .dataframe tbody tr th:only-of-type {\n",
       "        vertical-align: middle;\n",
       "    }\n",
       "\n",
       "    .dataframe tbody tr th {\n",
       "        vertical-align: top;\n",
       "    }\n",
       "\n",
       "    .dataframe thead th {\n",
       "        text-align: right;\n",
       "    }\n",
       "</style>\n",
       "<table border=\"1\" class=\"dataframe\">\n",
       "  <thead>\n",
       "    <tr style=\"text-align: right;\">\n",
       "      <th></th>\n",
       "      <th>genome</th>\n",
       "      <th>mopterin_genes</th>\n",
       "      <th>total_annot_genes</th>\n",
       "      <th>gene_dict</th>\n",
       "      <th>mo_genes</th>\n",
       "      <th>w_genes</th>\n",
       "      <th>w_gene_fraction</th>\n",
       "      <th>mo_gene_fraction</th>\n",
       "    </tr>\n",
       "  </thead>\n",
       "  <tbody>\n",
       "    <tr>\n",
       "      <th>0</th>\n",
       "      <td>GB_GCA_014654065.1</td>\n",
       "      <td>0</td>\n",
       "      <td>773</td>\n",
       "      <td>{}</td>\n",
       "      <td>0</td>\n",
       "      <td>0</td>\n",
       "      <td>0.0</td>\n",
       "      <td>0.000000</td>\n",
       "    </tr>\n",
       "    <tr>\n",
       "      <th>1</th>\n",
       "      <td>GB_GCA_002479145.1</td>\n",
       "      <td>0</td>\n",
       "      <td>722</td>\n",
       "      <td>{}</td>\n",
       "      <td>0</td>\n",
       "      <td>0</td>\n",
       "      <td>0.0</td>\n",
       "      <td>0.000000</td>\n",
       "    </tr>\n",
       "    <tr>\n",
       "      <th>2</th>\n",
       "      <td>GB_GCA_014377155.1</td>\n",
       "      <td>5</td>\n",
       "      <td>2489</td>\n",
       "      <td>{'JACMQD010000003.1_4': 'K11177', 'JACMQD01000...</td>\n",
       "      <td>5</td>\n",
       "      <td>0</td>\n",
       "      <td>0.0</td>\n",
       "      <td>0.002009</td>\n",
       "    </tr>\n",
       "    <tr>\n",
       "      <th>3</th>\n",
       "      <td>GB_GCA_903829855.1</td>\n",
       "      <td>0</td>\n",
       "      <td>886</td>\n",
       "      <td>{}</td>\n",
       "      <td>0</td>\n",
       "      <td>0</td>\n",
       "      <td>0.0</td>\n",
       "      <td>0.000000</td>\n",
       "    </tr>\n",
       "    <tr>\n",
       "      <th>4</th>\n",
       "      <td>GB_GCA_002923395.1</td>\n",
       "      <td>0</td>\n",
       "      <td>284</td>\n",
       "      <td>{}</td>\n",
       "      <td>0</td>\n",
       "      <td>0</td>\n",
       "      <td>0.0</td>\n",
       "      <td>0.000000</td>\n",
       "    </tr>\n",
       "    <tr>\n",
       "      <th>...</th>\n",
       "      <td>...</td>\n",
       "      <td>...</td>\n",
       "      <td>...</td>\n",
       "      <td>...</td>\n",
       "      <td>...</td>\n",
       "      <td>...</td>\n",
       "      <td>...</td>\n",
       "      <td>...</td>\n",
       "    </tr>\n",
       "    <tr>\n",
       "      <th>65698</th>\n",
       "      <td>GB_GCA_910579245.1</td>\n",
       "      <td>0</td>\n",
       "      <td>793</td>\n",
       "      <td>{}</td>\n",
       "      <td>0</td>\n",
       "      <td>0</td>\n",
       "      <td>0.0</td>\n",
       "      <td>0.000000</td>\n",
       "    </tr>\n",
       "    <tr>\n",
       "      <th>65699</th>\n",
       "      <td>RS_GCF_001446935.1</td>\n",
       "      <td>1</td>\n",
       "      <td>2850</td>\n",
       "      <td>{'NZ_LKKK01000001.1_324': 'K07303'}</td>\n",
       "      <td>1</td>\n",
       "      <td>0</td>\n",
       "      <td>0.0</td>\n",
       "      <td>0.000351</td>\n",
       "    </tr>\n",
       "    <tr>\n",
       "      <th>65700</th>\n",
       "      <td>RS_GCF_001953955.1</td>\n",
       "      <td>0</td>\n",
       "      <td>959</td>\n",
       "      <td>{}</td>\n",
       "      <td>0</td>\n",
       "      <td>0</td>\n",
       "      <td>0.0</td>\n",
       "      <td>0.000000</td>\n",
       "    </tr>\n",
       "    <tr>\n",
       "      <th>65701</th>\n",
       "      <td>RS_GCF_000716435.1</td>\n",
       "      <td>3</td>\n",
       "      <td>4302</td>\n",
       "      <td>{'NZ_JNWO01000001.1_180': 'K03520', 'NZ_JNWO01...</td>\n",
       "      <td>3</td>\n",
       "      <td>0</td>\n",
       "      <td>0.0</td>\n",
       "      <td>0.000697</td>\n",
       "    </tr>\n",
       "    <tr>\n",
       "      <th>65702</th>\n",
       "      <td>GB_GCA_009886305.1</td>\n",
       "      <td>1</td>\n",
       "      <td>1158</td>\n",
       "      <td>{'QXZO01000072.1_4': 'K07303'}</td>\n",
       "      <td>1</td>\n",
       "      <td>0</td>\n",
       "      <td>0.0</td>\n",
       "      <td>0.000864</td>\n",
       "    </tr>\n",
       "  </tbody>\n",
       "</table>\n",
       "<p>65703 rows × 8 columns</p>\n",
       "</div>"
      ],
      "text/plain": [
       "                   genome  mopterin_genes  total_annot_genes  \\\n",
       "0      GB_GCA_014654065.1               0                773   \n",
       "1      GB_GCA_002479145.1               0                722   \n",
       "2      GB_GCA_014377155.1               5               2489   \n",
       "3      GB_GCA_903829855.1               0                886   \n",
       "4      GB_GCA_002923395.1               0                284   \n",
       "...                   ...             ...                ...   \n",
       "65698  GB_GCA_910579245.1               0                793   \n",
       "65699  RS_GCF_001446935.1               1               2850   \n",
       "65700  RS_GCF_001953955.1               0                959   \n",
       "65701  RS_GCF_000716435.1               3               4302   \n",
       "65702  GB_GCA_009886305.1               1               1158   \n",
       "\n",
       "                                               gene_dict  mo_genes  w_genes  \\\n",
       "0                                                     {}         0        0   \n",
       "1                                                     {}         0        0   \n",
       "2      {'JACMQD010000003.1_4': 'K11177', 'JACMQD01000...         5        0   \n",
       "3                                                     {}         0        0   \n",
       "4                                                     {}         0        0   \n",
       "...                                                  ...       ...      ...   \n",
       "65698                                                 {}         0        0   \n",
       "65699                {'NZ_LKKK01000001.1_324': 'K07303'}         1        0   \n",
       "65700                                                 {}         0        0   \n",
       "65701  {'NZ_JNWO01000001.1_180': 'K03520', 'NZ_JNWO01...         3        0   \n",
       "65702                     {'QXZO01000072.1_4': 'K07303'}         1        0   \n",
       "\n",
       "       w_gene_fraction  mo_gene_fraction  \n",
       "0                  0.0          0.000000  \n",
       "1                  0.0          0.000000  \n",
       "2                  0.0          0.002009  \n",
       "3                  0.0          0.000000  \n",
       "4                  0.0          0.000000  \n",
       "...                ...               ...  \n",
       "65698              0.0          0.000000  \n",
       "65699              0.0          0.000351  \n",
       "65700              0.0          0.000000  \n",
       "65701              0.0          0.000697  \n",
       "65702              0.0          0.000864  \n",
       "\n",
       "[65703 rows x 8 columns]"
      ]
     },
     "execution_count": 11,
     "metadata": {},
     "output_type": "execute_result"
    }
   ],
   "source": [
    "df"
   ]
  },
  {
   "cell_type": "code",
   "execution_count": 11,
   "id": "simple-police",
   "metadata": {
    "tags": []
   },
   "outputs": [
    {
     "data": {
      "text/plain": [
       "<Axes: xlabel='s_gene_fraction', ylabel='mo_gene_fraction'>"
      ]
     },
     "execution_count": 11,
     "metadata": {},
     "output_type": "execute_result"
    },
    {
     "data": {
      "image/png": "[encoded data removed]",
      "text/plain": [
       "<Figure size 432x288 with 1 Axes>"
      ]
     },
     "metadata": {
      "needs_background": "light"
     },
     "output_type": "display_data"
    }
   ],
   "source": [
    "sns.regplot(x='s_gene_fraction',y=\"mo_gene_fraction\",data=df)"
   ]
  },
  {
   "cell_type": "code",
   "execution_count": 14,
   "id": "distinct-packing",
   "metadata": {
    "tags": []
   },
   "outputs": [
    {
     "data": {
      "text/plain": [
       "<Axes: xlabel='s_gene_fraction', ylabel='w_gene_fraction'>"
      ]
     },
     "execution_count": 14,
     "metadata": {},
     "output_type": "execute_result"
    },
    {
     "data": {
      "image/png": "[encoded data removed]",
      "text/plain": [
       "<Figure size 432x288 with 1 Axes>"
      ]
     },
     "metadata": {
      "needs_background": "light"
     },
     "output_type": "display_data"
    }
   ],
   "source": [
    "sns.regplot(x='s_gene_fraction',y=\"w_gene_fraction\",data=df)"
   ]
  },
  {
   "cell_type": "code",
   "execution_count": 9,
   "id": "suspended-rebound",
   "metadata": {},
   "outputs": [],
   "source": [
    "#df[df.domain.isin(['Archaea'])]"
   ]
  },
  {
   "cell_type": "code",
   "execution_count": 88,
   "id": "prospective-belize",
   "metadata": {},
   "outputs": [
    {
     "data": {
      "text/plain": [
       "<AxesSubplot:xlabel='w_gene_fraction', ylabel='mo_gene_fraction'>"
      ]
     },
     "execution_count": 88,
     "metadata": {},
     "output_type": "execute_result"
    },
    {
     "data": {
      "image/png": "[encoded data removed]",
      "text/plain": [
       "<Figure size 432x288 with 1 Axes>"
      ]
     },
     "metadata": {
      "needs_background": "light"
     },
     "output_type": "display_data"
    }
   ],
   "source": [
    "sns.scatterplot(x='w_gene_fraction',y='mo_gene_fraction',data=df)"
   ]
  },
  {
   "cell_type": "code",
   "execution_count": 89,
   "id": "linear-president",
   "metadata": {},
   "outputs": [
    {
     "data": {
      "text/plain": [
       "<AxesSubplot:xlabel='w_genes', ylabel='mo_genes'>"
      ]
     },
     "execution_count": 89,
     "metadata": {},
     "output_type": "execute_result"
    },
    {
     "data": {
      "image/png": "[encoded data removed]",
      "text/plain": [
       "<Figure size 432x288 with 1 Axes>"
      ]
     },
     "metadata": {
      "needs_background": "light"
     },
     "output_type": "display_data"
    }
   ],
   "source": [
    "sns.scatterplot(x='w_genes',y='mo_genes',data=df)"
   ]
  },
  {
   "cell_type": "code",
   "execution_count": 12,
   "id": "fallen-pension",
   "metadata": {
    "tags": []
   },
   "outputs": [
    {
     "name": "stderr",
     "output_type": "stream",
     "text": [
      "/var/folders/17/58pxvfhj0gb_wz2nzgrzc6pc0000gn/T/ipykernel_16550/407774959.py:1: DtypeWarning: Columns (8) have mixed types. Specify dtype option on import or set low_memory=False.\n",
      "  metadata = pd.read_csv(\"../data/taxa/Mark_Westoby_Organism_Metadata_Export_02152018.txt\",sep='\\t')\n"
     ]
    }
   ],
   "source": [
    "metadata = pd.read_csv(\"../data/taxa/Mark_Westoby_Organism_Metadata_Export_02152018.txt\",sep='\\t')"
   ]
  },
  {
   "cell_type": "code",
   "execution_count": 93,
   "id": "cutting-twenty",
   "metadata": {},
   "outputs": [],
   "source": [
    "#metadata"
   ]
  },
  {
   "cell_type": "code",
   "execution_count": 13,
   "id": "breathing-agency",
   "metadata": {
    "tags": []
   },
   "outputs": [
    {
     "name": "stderr",
     "output_type": "stream",
     "text": [
      "/var/folders/17/58pxvfhj0gb_wz2nzgrzc6pc0000gn/T/ipykernel_16550/2645816966.py:5: DtypeWarning: Columns (61,65,74,82,83,85) have mixed types. Specify dtype option on import or set low_memory=False.\n",
      "  bacteria = pd.read_csv(\"../data/taxa/bac120_metadata_r207.tsv\",sep='\\t')\n"
     ]
    }
   ],
   "source": [
    "# get ncbi taxa ids for gtdb genomes\n",
    "archaea = pd.read_csv(\"../data/taxa/ar53_metadata_r207.tsv\",sep='\\t')\n",
    "archaea = archaea[['accession','ncbi_taxid']]\n",
    "\n",
    "bacteria = pd.read_csv(\"../data/taxa/bac120_metadata_r207.tsv\",sep='\\t')\n",
    "bacteria = bacteria[['accession','ncbi_taxid']]\n",
    "\n",
    "archaea['domain'] = \"Archaea\"\n",
    "bacteria['domain'] = \"Bacteria\"\n",
    "\n",
    "gtdb_to_ncbi = pd.concat([archaea,bacteria],axis=0)"
   ]
  },
  {
   "cell_type": "code",
   "execution_count": 24,
   "id": "16f2dd7d-cace-49af-9dde-5d11a497dda8",
   "metadata": {
    "tags": []
   },
   "outputs": [
    {
     "data": {
      "text/html": [
       "<div>\n",
       "<style scoped>\n",
       "    .dataframe tbody tr th:only-of-type {\n",
       "        vertical-align: middle;\n",
       "    }\n",
       "\n",
       "    .dataframe tbody tr th {\n",
       "        vertical-align: top;\n",
       "    }\n",
       "\n",
       "    .dataframe thead th {\n",
       "        text-align: right;\n",
       "    }\n",
       "</style>\n",
       "<table border=\"1\" class=\"dataframe\">\n",
       "  <thead>\n",
       "    <tr style=\"text-align: right;\">\n",
       "      <th></th>\n",
       "      <th>genome</th>\n",
       "      <th>mopterin_genes</th>\n",
       "      <th>total_annot_genes</th>\n",
       "      <th>gene_dict</th>\n",
       "      <th>mo_genes</th>\n",
       "      <th>w_genes</th>\n",
       "      <th>w_gene_fraction</th>\n",
       "      <th>mo_gene_fraction</th>\n",
       "      <th>ncbi_taxid</th>\n",
       "      <th>domain</th>\n",
       "    </tr>\n",
       "  </thead>\n",
       "  <tbody>\n",
       "    <tr>\n",
       "      <th>0</th>\n",
       "      <td>GB_GCA_014654065.1</td>\n",
       "      <td>0</td>\n",
       "      <td>773</td>\n",
       "      <td>{}</td>\n",
       "      <td>0</td>\n",
       "      <td>0</td>\n",
       "      <td>0.0</td>\n",
       "      <td>0.000000</td>\n",
       "      <td>NaN</td>\n",
       "      <td>NaN</td>\n",
       "    </tr>\n",
       "    <tr>\n",
       "      <th>1</th>\n",
       "      <td>GB_GCA_002479145.1</td>\n",
       "      <td>0</td>\n",
       "      <td>722</td>\n",
       "      <td>{}</td>\n",
       "      <td>0</td>\n",
       "      <td>0</td>\n",
       "      <td>0.0</td>\n",
       "      <td>0.000000</td>\n",
       "      <td>NaN</td>\n",
       "      <td>NaN</td>\n",
       "    </tr>\n",
       "    <tr>\n",
       "      <th>2</th>\n",
       "      <td>GB_GCA_014377155.1</td>\n",
       "      <td>5</td>\n",
       "      <td>2489</td>\n",
       "      <td>{'JACMQD010000003.1_4': 'K11177', 'JACMQD01000...</td>\n",
       "      <td>5</td>\n",
       "      <td>0</td>\n",
       "      <td>0.0</td>\n",
       "      <td>0.002009</td>\n",
       "      <td>NaN</td>\n",
       "      <td>NaN</td>\n",
       "    </tr>\n",
       "    <tr>\n",
       "      <th>3</th>\n",
       "      <td>GB_GCA_903829855.1</td>\n",
       "      <td>0</td>\n",
       "      <td>886</td>\n",
       "      <td>{}</td>\n",
       "      <td>0</td>\n",
       "      <td>0</td>\n",
       "      <td>0.0</td>\n",
       "      <td>0.000000</td>\n",
       "      <td>NaN</td>\n",
       "      <td>NaN</td>\n",
       "    </tr>\n",
       "    <tr>\n",
       "      <th>4</th>\n",
       "      <td>GB_GCA_002923395.1</td>\n",
       "      <td>0</td>\n",
       "      <td>284</td>\n",
       "      <td>{}</td>\n",
       "      <td>0</td>\n",
       "      <td>0</td>\n",
       "      <td>0.0</td>\n",
       "      <td>0.000000</td>\n",
       "      <td>NaN</td>\n",
       "      <td>NaN</td>\n",
       "    </tr>\n",
       "    <tr>\n",
       "      <th>...</th>\n",
       "      <td>...</td>\n",
       "      <td>...</td>\n",
       "      <td>...</td>\n",
       "      <td>...</td>\n",
       "      <td>...</td>\n",
       "      <td>...</td>\n",
       "      <td>...</td>\n",
       "      <td>...</td>\n",
       "      <td>...</td>\n",
       "      <td>...</td>\n",
       "    </tr>\n",
       "    <tr>\n",
       "      <th>65698</th>\n",
       "      <td>GB_GCA_910579245.1</td>\n",
       "      <td>0</td>\n",
       "      <td>793</td>\n",
       "      <td>{}</td>\n",
       "      <td>0</td>\n",
       "      <td>0</td>\n",
       "      <td>0.0</td>\n",
       "      <td>0.000000</td>\n",
       "      <td>NaN</td>\n",
       "      <td>NaN</td>\n",
       "    </tr>\n",
       "    <tr>\n",
       "      <th>65699</th>\n",
       "      <td>RS_GCF_001446935.1</td>\n",
       "      <td>1</td>\n",
       "      <td>2850</td>\n",
       "      <td>{'NZ_LKKK01000001.1_324': 'K07303'}</td>\n",
       "      <td>1</td>\n",
       "      <td>0</td>\n",
       "      <td>0.0</td>\n",
       "      <td>0.000351</td>\n",
       "      <td>NaN</td>\n",
       "      <td>NaN</td>\n",
       "    </tr>\n",
       "    <tr>\n",
       "      <th>65700</th>\n",
       "      <td>RS_GCF_001953955.1</td>\n",
       "      <td>0</td>\n",
       "      <td>959</td>\n",
       "      <td>{}</td>\n",
       "      <td>0</td>\n",
       "      <td>0</td>\n",
       "      <td>0.0</td>\n",
       "      <td>0.000000</td>\n",
       "      <td>NaN</td>\n",
       "      <td>NaN</td>\n",
       "    </tr>\n",
       "    <tr>\n",
       "      <th>65701</th>\n",
       "      <td>RS_GCF_000716435.1</td>\n",
       "      <td>3</td>\n",
       "      <td>4302</td>\n",
       "      <td>{'NZ_JNWO01000001.1_180': 'K03520', 'NZ_JNWO01...</td>\n",
       "      <td>3</td>\n",
       "      <td>0</td>\n",
       "      <td>0.0</td>\n",
       "      <td>0.000697</td>\n",
       "      <td>NaN</td>\n",
       "      <td>NaN</td>\n",
       "    </tr>\n",
       "    <tr>\n",
       "      <th>65702</th>\n",
       "      <td>GB_GCA_009886305.1</td>\n",
       "      <td>1</td>\n",
       "      <td>1158</td>\n",
       "      <td>{'QXZO01000072.1_4': 'K07303'}</td>\n",
       "      <td>1</td>\n",
       "      <td>0</td>\n",
       "      <td>0.0</td>\n",
       "      <td>0.000864</td>\n",
       "      <td>NaN</td>\n",
       "      <td>NaN</td>\n",
       "    </tr>\n",
       "  </tbody>\n",
       "</table>\n",
       "<p>65703 rows × 10 columns</p>\n",
       "</div>"
      ],
      "text/plain": [
       "                   genome  mopterin_genes  total_annot_genes  \\\n",
       "0      GB_GCA_014654065.1               0                773   \n",
       "1      GB_GCA_002479145.1               0                722   \n",
       "2      GB_GCA_014377155.1               5               2489   \n",
       "3      GB_GCA_903829855.1               0                886   \n",
       "4      GB_GCA_002923395.1               0                284   \n",
       "...                   ...             ...                ...   \n",
       "65698  GB_GCA_910579245.1               0                793   \n",
       "65699  RS_GCF_001446935.1               1               2850   \n",
       "65700  RS_GCF_001953955.1               0                959   \n",
       "65701  RS_GCF_000716435.1               3               4302   \n",
       "65702  GB_GCA_009886305.1               1               1158   \n",
       "\n",
       "                                               gene_dict  mo_genes  w_genes  \\\n",
       "0                                                     {}         0        0   \n",
       "1                                                     {}         0        0   \n",
       "2      {'JACMQD010000003.1_4': 'K11177', 'JACMQD01000...         5        0   \n",
       "3                                                     {}         0        0   \n",
       "4                                                     {}         0        0   \n",
       "...                                                  ...       ...      ...   \n",
       "65698                                                 {}         0        0   \n",
       "65699                {'NZ_LKKK01000001.1_324': 'K07303'}         1        0   \n",
       "65700                                                 {}         0        0   \n",
       "65701  {'NZ_JNWO01000001.1_180': 'K03520', 'NZ_JNWO01...         3        0   \n",
       "65702                     {'QXZO01000072.1_4': 'K07303'}         1        0   \n",
       "\n",
       "       w_gene_fraction  mo_gene_fraction  ncbi_taxid domain  \n",
       "0                  0.0          0.000000         NaN    NaN  \n",
       "1                  0.0          0.000000         NaN    NaN  \n",
       "2                  0.0          0.002009         NaN    NaN  \n",
       "3                  0.0          0.000000         NaN    NaN  \n",
       "4                  0.0          0.000000         NaN    NaN  \n",
       "...                ...               ...         ...    ...  \n",
       "65698              0.0          0.000000         NaN    NaN  \n",
       "65699              0.0          0.000351         NaN    NaN  \n",
       "65700              0.0          0.000000         NaN    NaN  \n",
       "65701              0.0          0.000697         NaN    NaN  \n",
       "65702              0.0          0.000864         NaN    NaN  \n",
       "\n",
       "[65703 rows x 10 columns]"
      ]
     },
     "execution_count": 24,
     "metadata": {},
     "output_type": "execute_result"
    }
   ],
   "source": [
    "df"
   ]
  },
  {
   "cell_type": "code",
   "execution_count": 41,
   "id": "tested-approval",
   "metadata": {},
   "outputs": [],
   "source": [
    "#aorGTDB.set_index('genome').join(gtdb_to_ncbi.set_index(\"accession\"))"
   ]
  },
  {
   "cell_type": "code",
   "execution_count": 26,
   "id": "handy-annex",
   "metadata": {
    "tags": []
   },
   "outputs": [],
   "source": [
    "df2 = df.set_index(\"genome\").join(gtdb_to_ncbi.set_index(\"accession\"))"
   ]
  },
  {
   "cell_type": "code",
   "execution_count": 27,
   "id": "amino-marks",
   "metadata": {
    "tags": []
   },
   "outputs": [],
   "source": [
    "mdo2 =metadata[['NCBI_TAXONOMY_ID',\"OXYGEN_REQUIREMENT\"]].set_index(\"NCBI_TAXONOMY_ID\")"
   ]
  },
  {
   "cell_type": "code",
   "execution_count": 28,
   "id": "dense-ranch",
   "metadata": {
    "tags": []
   },
   "outputs": [],
   "source": [
    "df2 = df2.reset_index().set_index('ncbi_taxid').join(mdo2)\n",
    "df2 = df2.drop_duplicates()"
   ]
  },
  {
   "cell_type": "code",
   "execution_count": 29,
   "id": "e6c6c219-7bca-4018-9e00-3fa079915820",
   "metadata": {
    "tags": []
   },
   "outputs": [
    {
     "data": {
      "text/html": [
       "<div>\n",
       "<style scoped>\n",
       "    .dataframe tbody tr th:only-of-type {\n",
       "        vertical-align: middle;\n",
       "    }\n",
       "\n",
       "    .dataframe tbody tr th {\n",
       "        vertical-align: top;\n",
       "    }\n",
       "\n",
       "    .dataframe thead th {\n",
       "        text-align: right;\n",
       "    }\n",
       "</style>\n",
       "<table border=\"1\" class=\"dataframe\">\n",
       "  <thead>\n",
       "    <tr style=\"text-align: right;\">\n",
       "      <th></th>\n",
       "      <th>genome</th>\n",
       "      <th>mopterin_genes</th>\n",
       "      <th>total_annot_genes</th>\n",
       "      <th>gene_dict</th>\n",
       "      <th>domain</th>\n",
       "      <th>OXYGEN_REQUIREMENT</th>\n",
       "    </tr>\n",
       "  </thead>\n",
       "  <tbody>\n",
       "    <tr>\n",
       "      <th>9</th>\n",
       "      <td>RS_GCF_900128725.1</td>\n",
       "      <td>0</td>\n",
       "      <td>298</td>\n",
       "      <td>{}</td>\n",
       "      <td>Bacteria</td>\n",
       "      <td>(null)</td>\n",
       "    </tr>\n",
       "    <tr>\n",
       "      <th>14</th>\n",
       "      <td>GB_GCA_011333985.1</td>\n",
       "      <td>0</td>\n",
       "      <td>1199</td>\n",
       "      <td>{}</td>\n",
       "      <td>Bacteria</td>\n",
       "      <td>NaN</td>\n",
       "    </tr>\n",
       "    <tr>\n",
       "      <th>24</th>\n",
       "      <td>RS_GCF_016406325.1</td>\n",
       "      <td>5</td>\n",
       "      <td>2496</td>\n",
       "      <td>{'NZ_CP066370.1_480': 'K08352', 'NZ_CP066370.1...</td>\n",
       "      <td>Bacteria</td>\n",
       "      <td>Anaerobe</td>\n",
       "    </tr>\n",
       "    <tr>\n",
       "      <th>24</th>\n",
       "      <td>RS_GCF_016406325.1</td>\n",
       "      <td>5</td>\n",
       "      <td>2496</td>\n",
       "      <td>{'NZ_CP066370.1_480': 'K08352', 'NZ_CP066370.1...</td>\n",
       "      <td>Bacteria</td>\n",
       "      <td>(null)</td>\n",
       "    </tr>\n",
       "    <tr>\n",
       "      <th>24</th>\n",
       "      <td>RS_GCF_016406305.1</td>\n",
       "      <td>6</td>\n",
       "      <td>2533</td>\n",
       "      <td>{'NZ_CP066369.1_492': 'K08352', 'NZ_CP066369.1...</td>\n",
       "      <td>Bacteria</td>\n",
       "      <td>Anaerobe</td>\n",
       "    </tr>\n",
       "    <tr>\n",
       "      <th>...</th>\n",
       "      <td>...</td>\n",
       "      <td>...</td>\n",
       "      <td>...</td>\n",
       "      <td>...</td>\n",
       "      <td>...</td>\n",
       "      <td>...</td>\n",
       "    </tr>\n",
       "    <tr>\n",
       "      <th>2856340</th>\n",
       "      <td>GB_GCA_019218315.1</td>\n",
       "      <td>1</td>\n",
       "      <td>1556</td>\n",
       "      <td>{'JAHUUI010000003.1_248': 'K07811'}</td>\n",
       "      <td>Bacteria</td>\n",
       "      <td>NaN</td>\n",
       "    </tr>\n",
       "    <tr>\n",
       "      <th>2856341</th>\n",
       "      <td>GB_GCA_019218365.1</td>\n",
       "      <td>0</td>\n",
       "      <td>918</td>\n",
       "      <td>{}</td>\n",
       "      <td>Bacteria</td>\n",
       "      <td>NaN</td>\n",
       "    </tr>\n",
       "    <tr>\n",
       "      <th>2856342</th>\n",
       "      <td>GB_GCA_019218375.1</td>\n",
       "      <td>0</td>\n",
       "      <td>1071</td>\n",
       "      <td>{}</td>\n",
       "      <td>Bacteria</td>\n",
       "      <td>NaN</td>\n",
       "    </tr>\n",
       "    <tr>\n",
       "      <th>2856343</th>\n",
       "      <td>GB_GCA_019218415.1</td>\n",
       "      <td>0</td>\n",
       "      <td>1086</td>\n",
       "      <td>{}</td>\n",
       "      <td>Bacteria</td>\n",
       "      <td>NaN</td>\n",
       "    </tr>\n",
       "    <tr>\n",
       "      <th>2856344</th>\n",
       "      <td>GB_GCA_019218445.1</td>\n",
       "      <td>0</td>\n",
       "      <td>1052</td>\n",
       "      <td>{}</td>\n",
       "      <td>Bacteria</td>\n",
       "      <td>NaN</td>\n",
       "    </tr>\n",
       "  </tbody>\n",
       "</table>\n",
       "<p>66809 rows × 6 columns</p>\n",
       "</div>"
      ],
      "text/plain": [
       "                     genome  mopterin_genes  total_annot_genes  \\\n",
       "9        RS_GCF_900128725.1               0                298   \n",
       "14       GB_GCA_011333985.1               0               1199   \n",
       "24       RS_GCF_016406325.1               5               2496   \n",
       "24       RS_GCF_016406325.1               5               2496   \n",
       "24       RS_GCF_016406305.1               6               2533   \n",
       "...                     ...             ...                ...   \n",
       "2856340  GB_GCA_019218315.1               1               1556   \n",
       "2856341  GB_GCA_019218365.1               0                918   \n",
       "2856342  GB_GCA_019218375.1               0               1071   \n",
       "2856343  GB_GCA_019218415.1               0               1086   \n",
       "2856344  GB_GCA_019218445.1               0               1052   \n",
       "\n",
       "                                                 gene_dict    domain  \\\n",
       "9                                                       {}  Bacteria   \n",
       "14                                                      {}  Bacteria   \n",
       "24       {'NZ_CP066370.1_480': 'K08352', 'NZ_CP066370.1...  Bacteria   \n",
       "24       {'NZ_CP066370.1_480': 'K08352', 'NZ_CP066370.1...  Bacteria   \n",
       "24       {'NZ_CP066369.1_492': 'K08352', 'NZ_CP066369.1...  Bacteria   \n",
       "...                                                    ...       ...   \n",
       "2856340                {'JAHUUI010000003.1_248': 'K07811'}  Bacteria   \n",
       "2856341                                                 {}  Bacteria   \n",
       "2856342                                                 {}  Bacteria   \n",
       "2856343                                                 {}  Bacteria   \n",
       "2856344                                                 {}  Bacteria   \n",
       "\n",
       "        OXYGEN_REQUIREMENT  \n",
       "9                   (null)  \n",
       "14                     NaN  \n",
       "24                Anaerobe  \n",
       "24                  (null)  \n",
       "24                Anaerobe  \n",
       "...                    ...  \n",
       "2856340                NaN  \n",
       "2856341                NaN  \n",
       "2856342                NaN  \n",
       "2856343                NaN  \n",
       "2856344                NaN  \n",
       "\n",
       "[66809 rows x 6 columns]"
      ]
     },
     "execution_count": 29,
     "metadata": {},
     "output_type": "execute_result"
    }
   ],
   "source": [
    "df2"
   ]
  },
  {
   "cell_type": "code",
   "execution_count": 39,
   "id": "still-blowing",
   "metadata": {},
   "outputs": [],
   "source": [
    "#tf = [x for x in metadata['TEMPERATURE_RANGE'].unique().tolist() if \"thermophile\" in x.lower()]"
   ]
  },
  {
   "cell_type": "code",
   "execution_count": 40,
   "id": "spatial-mexican",
   "metadata": {},
   "outputs": [],
   "source": [
    "#metadata[metadata['TEMPERATURE_RANGE'].isin(tf)]\n",
    "#metadata['ECOSYSTEM_SUBTYPE'].unique()"
   ]
  },
  {
   "cell_type": "code",
   "execution_count": 41,
   "id": "incoming-majority",
   "metadata": {},
   "outputs": [],
   "source": [
    "#list(metadata)\n",
    "#metadata['SPECIFIC_ECOSYSTEM'].unique()"
   ]
  },
  {
   "cell_type": "code",
   "execution_count": 42,
   "id": "traditional-newton",
   "metadata": {},
   "outputs": [],
   "source": [
    "#df2.OXYGEN_REQUIREMENT.unique()"
   ]
  },
  {
   "cell_type": "code",
   "execution_count": null,
   "id": "5901f2b6-2dca-4e17-a454-e52cf8df6c13",
   "metadata": {
    "tags": []
   },
   "outputs": [],
   "source": [
    "## df2 = df.reset_index().set_index('ncbi_taxid').join(mdo2)\n",
    "#df2 = df2.drop_duplicates()\n",
    "\n",
    "#possible = ['Anaerobe', 'Obligate aerobe', 'Aerobe','Microaerophilic', 'Facultative', 'Obligate anaerobe','Facultative anaerobe']\n",
    "#df2 = df2[df2.OXYGEN_REQUIREMENT.isin(possible)]\n",
    "\n",
    "possible = ['Obligate aerobe', 'Aerobe',\"Anaerobe\",'Obligate anaerobe']\n",
    "df2 = df2[df2.OXYGEN_REQUIREMENT.isin(possible)]\n",
    "\n",
    "#aerobe = ['Obligate aerobe', 'Aerobe',\"Microaerophilic\",\"Facultative\",\"Facultative anaerobe\"]\n",
    "#df2['o2_tol']= df2[\"OXYGEN_REQUIREMENT\"].isin(aerobe)\n",
    "aerobe = ['Obligate aerobe', 'Aerobe']\n",
    "df2['o2_tol']= df2[\"OXYGEN_REQUIREMENT\"].isin(aerobe)\n",
    "\n",
    "glabel = {}\n",
    "glabel[True] = 'Aerobe'\n",
    "glabel[False] = 'Anaerobe'\n",
    "\n",
    "df2['physiology'] = df2[\"o2_tol\"].apply(lambda x: glabel[x])"
   ]
  },
  {
   "cell_type": "code",
   "execution_count": 36,
   "id": "accredited-recording",
   "metadata": {
    "tags": []
   },
   "outputs": [],
   "source": [
    "df2[[\"genome\",\"total_annot_genes\",\"gene_dict\",\"domain\",\"physiology\"]].set_index(\"genome\").to_csv(\"AerobeAnaerobe.csv\")"
   ]
  },
  {
   "cell_type": "code",
   "execution_count": 29,
   "id": "orange-binary",
   "metadata": {
    "tags": []
   },
   "outputs": [
    {
     "data": {
      "image/png": "[encoded data removed]",
      "text/plain": [
       "<Figure size 223.375x144 with 1 Axes>"
      ]
     },
     "metadata": {
      "needs_background": "light"
     },
     "output_type": "display_data"
    }
   ],
   "source": [
    "#figure = plt.figure()\n",
    "sns.displot(x='mo_gene_fraction',data=df2,hue='physiology',kind=\"ecdf\",palette='Set1',aspect=1,height=2)\n",
    "plt.xlabel('Molydopterin gene fraction')\n",
    "plt.ylabel('cumulative distribution')\n",
    "plt.xlim([-0.0001,0.005])\n",
    "plt.savefig('ecdf.molydopterin.geneFrac.24Nov2022.small.svg')"
   ]
  },
  {
   "cell_type": "code",
   "execution_count": 25,
   "id": "946f2f5b-1154-45c6-8b86-b77c9cbcde27",
   "metadata": {
    "tags": []
   },
   "outputs": [
    {
     "data": {
      "text/plain": [
       "<Axes: xlabel='physiology', ylabel='mo_gene_fraction'>"
      ]
     },
     "execution_count": 25,
     "metadata": {},
     "output_type": "execute_result"
    },
    {
     "data": {
      "image/png": "[encoded data removed]",
      "text/plain": [
       "<Figure size 432x288 with 1 Axes>"
      ]
     },
     "metadata": {
      "needs_background": "light"
     },
     "output_type": "display_data"
    }
   ],
   "source": [
    "sns.violinplot(x=\"physiology\",y=\"mo_gene_fraction\",data=df2)"
   ]
  },
  {
   "cell_type": "code",
   "execution_count": 53,
   "id": "exceptional-intermediate",
   "metadata": {},
   "outputs": [
    {
     "data": {
      "text/plain": [
       "Text(18.43982928240741, 0.5, 'cumulative distribution')"
      ]
     },
     "execution_count": 53,
     "metadata": {},
     "output_type": "execute_result"
    },
    {
     "data": {
      "image/png": "[encoded data removed]",
      "text/plain": [
       "<Figure size 295.375x216 with 1 Axes>"
      ]
     },
     "metadata": {
      "needs_background": "light"
     },
     "output_type": "display_data"
    }
   ],
   "source": [
    "#figure = plt.figure()\n",
    "sns.displot(x='s_gene_fraction',data=df2,hue='physiology',kind=\"ecdf\",palette='Set1',aspect=1,height=3)\n",
    "plt.xlabel('Sulfide gene fraction')\n",
    "plt.ylabel('cumulative distribution')\n",
    "#plt.xlim([-0.0001,0.005])"
   ]
  },
  {
   "cell_type": "code",
   "execution_count": 61,
   "id": "essential-order",
   "metadata": {},
   "outputs": [
    {
     "data": {
      "text/plain": [
       "<AxesSubplot:xlabel='w_gene_fraction', ylabel='s_gene_fraction'>"
      ]
     },
     "execution_count": 61,
     "metadata": {},
     "output_type": "execute_result"
    },
    {
     "data": {
      "image/png": "[encoded data removed]",
      "text/plain": [
       "<Figure size 432x288 with 1 Axes>"
      ]
     },
     "metadata": {
      "needs_background": "light"
     },
     "output_type": "display_data"
    }
   ],
   "source": [
    "sns.regplot(x=\"w_gene_fraction\",y=\"s_gene_fraction\",data=df2[~df2[\"o2_tol\"]])"
   ]
  },
  {
   "cell_type": "code",
   "execution_count": 62,
   "id": "possible-jewelry",
   "metadata": {},
   "outputs": [
    {
     "data": {
      "text/plain": [
       "<AxesSubplot:xlabel='mo_gene_fraction', ylabel='s_gene_fraction'>"
      ]
     },
     "execution_count": 62,
     "metadata": {},
     "output_type": "execute_result"
    },
    {
     "data": {
      "image/png": "[encoded data removed]",
      "text/plain": [
       "<Figure size 432x288 with 1 Axes>"
      ]
     },
     "metadata": {
      "needs_background": "light"
     },
     "output_type": "display_data"
    }
   ],
   "source": [
    "sns.regplot(x=\"mo_gene_fraction\",y=\"s_gene_fraction\",data=df2[~df2[\"o2_tol\"]])"
   ]
  },
  {
   "cell_type": "code",
   "execution_count": 28,
   "id": "statutory-station",
   "metadata": {
    "tags": []
   },
   "outputs": [
    {
     "data": {
      "image/png": "[encoded data removed]",
      "text/plain": [
       "<Figure size 223.375x144 with 1 Axes>"
      ]
     },
     "metadata": {
      "needs_background": "light"
     },
     "output_type": "display_data"
    }
   ],
   "source": [
    "#figure = plt.figure()\n",
    "sns.displot(x='w_gene_fraction',data=df2,hue='physiology',kind=\"ecdf\",palette='Set1',aspect=1,height=2)\n",
    "plt.xlabel('Tungstopterin gene fraction')\n",
    "plt.ylabel('cumulative distribution')\n",
    "plt.xlim([-0.0001,0.006])\n",
    "plt.savefig('ecdf.tungstodopterin.geneFrac.24Nov2022.small.svg')"
   ]
  },
  {
   "cell_type": "code",
   "execution_count": 140,
   "id": "golden-diamond",
   "metadata": {},
   "outputs": [
    {
     "data": {
      "text/html": [
       "<div>\n",
       "<style scoped>\n",
       "    .dataframe tbody tr th:only-of-type {\n",
       "        vertical-align: middle;\n",
       "    }\n",
       "\n",
       "    .dataframe tbody tr th {\n",
       "        vertical-align: top;\n",
       "    }\n",
       "\n",
       "    .dataframe thead th {\n",
       "        text-align: right;\n",
       "    }\n",
       "</style>\n",
       "<table border=\"1\" class=\"dataframe\">\n",
       "  <thead>\n",
       "    <tr style=\"text-align: right;\">\n",
       "      <th></th>\n",
       "      <th>genome</th>\n",
       "      <th>mopterin_genes</th>\n",
       "      <th>total_annot_genes</th>\n",
       "      <th>gene_dict</th>\n",
       "      <th>mo_genes</th>\n",
       "      <th>w_genes</th>\n",
       "      <th>w_gene_fraction</th>\n",
       "      <th>mo_gene_fraction</th>\n",
       "      <th>domain</th>\n",
       "      <th>OXYGEN_REQUIREMENT</th>\n",
       "      <th>o2_tol</th>\n",
       "    </tr>\n",
       "    <tr>\n",
       "      <th>physiology</th>\n",
       "      <th></th>\n",
       "      <th></th>\n",
       "      <th></th>\n",
       "      <th></th>\n",
       "      <th></th>\n",
       "      <th></th>\n",
       "      <th></th>\n",
       "      <th></th>\n",
       "      <th></th>\n",
       "      <th></th>\n",
       "      <th></th>\n",
       "    </tr>\n",
       "  </thead>\n",
       "  <tbody>\n",
       "    <tr>\n",
       "      <th>Aerobe</th>\n",
       "      <td>1592</td>\n",
       "      <td>1592</td>\n",
       "      <td>1592</td>\n",
       "      <td>1592</td>\n",
       "      <td>1592</td>\n",
       "      <td>1592</td>\n",
       "      <td>1592</td>\n",
       "      <td>1592</td>\n",
       "      <td>1592</td>\n",
       "      <td>1592</td>\n",
       "      <td>1592</td>\n",
       "    </tr>\n",
       "    <tr>\n",
       "      <th>Anaerobe</th>\n",
       "      <td>1202</td>\n",
       "      <td>1202</td>\n",
       "      <td>1202</td>\n",
       "      <td>1202</td>\n",
       "      <td>1202</td>\n",
       "      <td>1202</td>\n",
       "      <td>1202</td>\n",
       "      <td>1202</td>\n",
       "      <td>1202</td>\n",
       "      <td>1202</td>\n",
       "      <td>1202</td>\n",
       "    </tr>\n",
       "  </tbody>\n",
       "</table>\n",
       "</div>"
      ],
      "text/plain": [
       "            genome  mopterin_genes  total_annot_genes  gene_dict  mo_genes  \\\n",
       "physiology                                                                   \n",
       "Aerobe        1592            1592               1592       1592      1592   \n",
       "Anaerobe      1202            1202               1202       1202      1202   \n",
       "\n",
       "            w_genes  w_gene_fraction  mo_gene_fraction  domain  \\\n",
       "physiology                                                       \n",
       "Aerobe         1592             1592              1592    1592   \n",
       "Anaerobe       1202             1202              1202    1202   \n",
       "\n",
       "            OXYGEN_REQUIREMENT  o2_tol  \n",
       "physiology                              \n",
       "Aerobe                    1592    1592  \n",
       "Anaerobe                  1202    1202  "
      ]
     },
     "execution_count": 140,
     "metadata": {},
     "output_type": "execute_result"
    }
   ],
   "source": [
    "df2.groupby('physiology').count()"
   ]
  },
  {
   "cell_type": "code",
   "execution_count": 186,
   "id": "informal-sending",
   "metadata": {},
   "outputs": [],
   "source": [
    "dfs = []\n",
    "for idx,row in df2.iterrows():\n",
    "    kolist = list(eval(row.gene_dict).values())\n",
    "    k = list(set(kolist))\n",
    "    g = pd.DataFrame({\"KO\":k,'counts': [kolist.count(x) for x in list(set(k))]})\n",
    "    g['counts_n'] = g.counts / row.total_annot_genes\n",
    "    g['genome'] = row.genome\n",
    "    dfs.append(g)\n",
    "dfs_genome_kegg_counts = pd.concat(dfs,axis=0)\n",
    "dfg = dfs_genome_kegg_counts.pivot_table(index=\"genome\",columns='KO',values='counts').fillna(0)\n"
   ]
  },
  {
   "cell_type": "code",
   "execution_count": 283,
   "id": "entire-colorado",
   "metadata": {},
   "outputs": [
    {
     "data": {
      "text/plain": [
       "['K00087',\n",
       " 'K00203',\n",
       " 'K00367',\n",
       " 'K00370',\n",
       " 'K00387',\n",
       " 'K02567',\n",
       " 'K03520',\n",
       " 'K03738',\n",
       " 'K04108',\n",
       " 'K05301',\n",
       " 'K07303',\n",
       " 'K07306',\n",
       " 'K07469',\n",
       " 'K07811',\n",
       " 'K07812',\n",
       " 'K08348',\n",
       " 'K08352',\n",
       " 'K08356',\n",
       " 'K11177',\n",
       " 'K11389',\n",
       " 'K12528',\n",
       " 'K13482',\n",
       " 'K18020',\n",
       " 'K18030',\n",
       " 'K18361',\n",
       " 'K19187',\n",
       " 'K20625',\n",
       " 'K21307',\n",
       " 'K22015']"
      ]
     },
     "execution_count": 283,
     "metadata": {},
     "output_type": "execute_result"
    }
   ],
   "source": [
    "list(dfg)"
   ]
  },
  {
   "cell_type": "code",
   "execution_count": 284,
   "id": "intelligent-helen",
   "metadata": {},
   "outputs": [],
   "source": [
    "import cbtk.kegg as kegg_api"
   ]
  },
  {
   "cell_type": "code",
   "execution_count": 285,
   "id": "peaceful-harmony",
   "metadata": {},
   "outputs": [],
   "source": [
    "kos = kegg_api.list('ko')\n",
    "kos.columns = ['KO','name']\n",
    "kos['KO'] = kos['KO'].apply(lambda x: x.split(':')[1])"
   ]
  },
  {
   "cell_type": "code",
   "execution_count": 311,
   "id": "acting-damage",
   "metadata": {},
   "outputs": [],
   "source": [
    "kos['gene_name'] = kos[\"name\"].apply(lambda x: x.split(\";\")[0])"
   ]
  },
  {
   "cell_type": "code",
   "execution_count": 357,
   "id": "included-growing",
   "metadata": {},
   "outputs": [],
   "source": [
    "kos.to_csv(\"keggGeneNames.csv\")"
   ]
  },
  {
   "cell_type": "code",
   "execution_count": 189,
   "id": "productive-harbor",
   "metadata": {},
   "outputs": [
    {
     "data": {
      "text/plain": [
       "array([2496, 2533, 2842, ..., 2376, 1859, 3385])"
      ]
     },
     "execution_count": 189,
     "metadata": {},
     "output_type": "execute_result"
    }
   ],
   "source": [
    "df2.total_annot_genes.values"
   ]
  },
  {
   "cell_type": "code",
   "execution_count": 212,
   "id": "afraid-miller",
   "metadata": {},
   "outputs": [],
   "source": [
    "dfgc = dfs_genome_kegg_counts.pivot_table(index=\"genome\",columns='KO',values='counts_n').fillna(0)\n"
   ]
  },
  {
   "cell_type": "code",
   "execution_count": 235,
   "id": "corrected-civilian",
   "metadata": {},
   "outputs": [],
   "source": [
    "#\n",
    "from scipy.stats import mannwhitneyu\n",
    "from statsmodels.stats.multitest import multipletests"
   ]
  },
  {
   "cell_type": "code",
   "execution_count": 236,
   "id": "patient-reporter",
   "metadata": {},
   "outputs": [],
   "source": [
    "X = dfgc.join(df2.set_index(\"genome\")[[\"physiology\"]]).set_index('physiology')\n",
    "ustats,pvals = mannwhitneyu(X.loc['Aerobe'],X.loc['Anaerobe'])\n",
    "lfc = np.log2((X.loc['Aerobe'].mean() + 1e-6) / (X.loc['Anaerobe'].mean()+ 1e-6))\n",
    "reject,adjpval,alphacSidak,alphacBonf =  multipletests(pvals,method=\"fdr_bh\")\n",
    "stat_results = pd.DataFrame({'KO': list(X),'ustat': ustats ,'pval': pvals, 'FoldChange (log2)': lfc, 'p-val (adj)': adjpval})\n",
    "stat_results[\"q-val (log10)\"]= stat_results[\"p-val (adj)\"].apply(lambda x: -np.log10(x))\n",
    "stat_results = stat_results.join(kos.set_index('KO'))\n",
    "stat_results[\"genes\"] = stat_results[\"gene_name\"].apply(lambda x: x.replace(', ','/'))"
   ]
  },
  {
   "cell_type": "code",
   "execution_count": 321,
   "id": "polar-worse",
   "metadata": {},
   "outputs": [],
   "source": [
    "stat_results[\"genes\"] = stat_results[\"gene_name\"].apply(lambda x: x.replace(', ','/'))"
   ]
  },
  {
   "cell_type": "code",
   "execution_count": 324,
   "id": "polished-statistics",
   "metadata": {},
   "outputs": [
    {
     "data": {
      "image/png": "[encoded data removed]",
      "text/plain": [
       "<Figure size 288x216 with 1 Axes>"
      ]
     },
     "metadata": {
      "needs_background": "light"
     },
     "output_type": "display_data"
    }
   ],
   "source": [
    "plt.figure(figsize=(4,3))\n",
    "ax = sns.scatterplot(x=\"FoldChange (log2)\",y=\"q-val (log10)\",data=stat_results,color=\"k\")\n",
    "#plt.hlines()\n",
    "fccutoff = 2\n",
    "qcutoff = -np.log10(0.01)\n",
    "trans = 0.15\n",
    "for i, row in stat_results.iterrows():\n",
    "    if ((abs(row['FoldChange (log2)']) > fccutoff) &  ((row['q-val (log10)']) > qcutoff)):\n",
    "        ax.annotate(row.genes, (row[\"FoldChange (log2)\"]+trans,row[\"q-val (log10)\"]+trans),style='italic')\n",
    "plt.hlines(qcutoff,-8,8,color='grey',linestyles=\"dashed\")\n",
    "plt.xlim([-8,8])\n",
    "#plt.vlines(0,-5,105,color='grey',linestyles=\"dashed\")\n",
    "plt.vlines(fccutoff,-5,105,color='grey',linestyles=\"dashed\")\n",
    "plt.vlines(-fccutoff,-5,105,color='grey',linestyles=\"dashed\")\n",
    "plt.ylim([-5,105])\n",
    "plt.xlabel('Fold Change (log$_2$)')\n",
    "plt.ylabel('q-value (log$_{10}$)')\n",
    "plt.savefig(\"aerobe_vs_anaerobe.pterins.svg\")"
   ]
  },
  {
   "cell_type": "code",
   "execution_count": 59,
   "id": "greenhouse-envelope",
   "metadata": {},
   "outputs": [],
   "source": [
    "from sklearn.decomposition import PCA\n",
    "from sklearn.preprocessing import StandardScaler"
   ]
  },
  {
   "cell_type": "code",
   "execution_count": 94,
   "id": "sought-southeast",
   "metadata": {},
   "outputs": [],
   "source": [
    "pca  = PCA(n_components=2)"
   ]
  },
  {
   "cell_type": "code",
   "execution_count": 108,
   "id": "determined-sullivan",
   "metadata": {},
   "outputs": [],
   "source": [
    "import numpy as np"
   ]
  },
  {
   "cell_type": "code",
   "execution_count": 206,
   "id": "completed-neutral",
   "metadata": {},
   "outputs": [],
   "source": [
    "scaler = StandardScaler() \n",
    "xn = scaler.fit_transform(dfg.values)\n",
    "#xn = dfg.apply(lambda x: np.log2(x+(1/10000))).values"
   ]
  },
  {
   "cell_type": "code",
   "execution_count": 340,
   "id": "compliant-staff",
   "metadata": {},
   "outputs": [],
   "source": [
    "pca.fit(xn)\n",
    "labels = [\"PC{i}: ({x}%)\".format(i=x[0],x=round(100*x[1],2)) for x in list(zip(range(1,n+1),pca.explained_variance_ratio_))]\n",
    "pdfg = pd.DataFrame(pca.transform(xn),index=dfg.index,columns =labels)"
   ]
  },
  {
   "cell_type": "code",
   "execution_count": 341,
   "id": "incident-cleveland",
   "metadata": {},
   "outputs": [
    {
     "data": {
      "text/html": [
       "<div>\n",
       "<style scoped>\n",
       "    .dataframe tbody tr th:only-of-type {\n",
       "        vertical-align: middle;\n",
       "    }\n",
       "\n",
       "    .dataframe tbody tr th {\n",
       "        vertical-align: top;\n",
       "    }\n",
       "\n",
       "    .dataframe thead th {\n",
       "        text-align: right;\n",
       "    }\n",
       "</style>\n",
       "<table border=\"1\" class=\"dataframe\">\n",
       "  <thead>\n",
       "    <tr style=\"text-align: right;\">\n",
       "      <th></th>\n",
       "      <th>PC1: (8.94%)</th>\n",
       "      <th>PC2: (6.11%)</th>\n",
       "    </tr>\n",
       "    <tr>\n",
       "      <th>genome</th>\n",
       "      <th></th>\n",
       "      <th></th>\n",
       "    </tr>\n",
       "  </thead>\n",
       "  <tbody>\n",
       "    <tr>\n",
       "      <th>GB_GCA_000010565.1</th>\n",
       "      <td>-2.871314</td>\n",
       "      <td>0.247552</td>\n",
       "    </tr>\n",
       "    <tr>\n",
       "      <th>GB_GCA_000016605.1</th>\n",
       "      <td>-0.802124</td>\n",
       "      <td>-0.893222</td>\n",
       "    </tr>\n",
       "    <tr>\n",
       "      <th>GB_GCA_000018565.1</th>\n",
       "      <td>-0.898734</td>\n",
       "      <td>-0.589625</td>\n",
       "    </tr>\n",
       "    <tr>\n",
       "      <th>GB_GCA_000024525.1</th>\n",
       "      <td>1.912505</td>\n",
       "      <td>-1.661146</td>\n",
       "    </tr>\n",
       "    <tr>\n",
       "      <th>GB_GCA_000026125.1</th>\n",
       "      <td>0.784867</td>\n",
       "      <td>0.319930</td>\n",
       "    </tr>\n",
       "    <tr>\n",
       "      <th>...</th>\n",
       "      <td>...</td>\n",
       "      <td>...</td>\n",
       "    </tr>\n",
       "    <tr>\n",
       "      <th>RS_GCF_904846225.1</th>\n",
       "      <td>-0.315383</td>\n",
       "      <td>-0.630531</td>\n",
       "    </tr>\n",
       "    <tr>\n",
       "      <th>RS_GCF_904846235.1</th>\n",
       "      <td>0.274022</td>\n",
       "      <td>-0.591057</td>\n",
       "    </tr>\n",
       "    <tr>\n",
       "      <th>RS_GCF_904846285.1</th>\n",
       "      <td>-0.088211</td>\n",
       "      <td>-0.162783</td>\n",
       "    </tr>\n",
       "    <tr>\n",
       "      <th>RS_GCF_904848585.1</th>\n",
       "      <td>5.797989</td>\n",
       "      <td>-0.246675</td>\n",
       "    </tr>\n",
       "    <tr>\n",
       "      <th>RS_GCF_907163115.1</th>\n",
       "      <td>0.412899</td>\n",
       "      <td>0.571202</td>\n",
       "    </tr>\n",
       "  </tbody>\n",
       "</table>\n",
       "<p>1710 rows × 2 columns</p>\n",
       "</div>"
      ],
      "text/plain": [
       "                    PC1: (8.94%)  PC2: (6.11%)\n",
       "genome                                        \n",
       "GB_GCA_000010565.1     -2.871314      0.247552\n",
       "GB_GCA_000016605.1     -0.802124     -0.893222\n",
       "GB_GCA_000018565.1     -0.898734     -0.589625\n",
       "GB_GCA_000024525.1      1.912505     -1.661146\n",
       "GB_GCA_000026125.1      0.784867      0.319930\n",
       "...                          ...           ...\n",
       "RS_GCF_904846225.1     -0.315383     -0.630531\n",
       "RS_GCF_904846235.1      0.274022     -0.591057\n",
       "RS_GCF_904846285.1     -0.088211     -0.162783\n",
       "RS_GCF_904848585.1      5.797989     -0.246675\n",
       "RS_GCF_907163115.1      0.412899      0.571202\n",
       "\n",
       "[1710 rows x 2 columns]"
      ]
     },
     "execution_count": 341,
     "metadata": {},
     "output_type": "execute_result"
    }
   ],
   "source": [
    "pdfg"
   ]
  },
  {
   "cell_type": "code",
   "execution_count": 342,
   "id": "opponent-investigation",
   "metadata": {},
   "outputs": [],
   "source": [
    "pdfg = pdfg.join(df2.set_index('genome')).join(dfg)"
   ]
  },
  {
   "cell_type": "code",
   "execution_count": 344,
   "id": "accredited-mills",
   "metadata": {},
   "outputs": [
    {
     "data": {
      "image/png": "[encoded data removed]",
      "text/plain": [
       "<Figure size 288x216 with 1 Axes>"
      ]
     },
     "metadata": {
      "needs_background": "light"
     },
     "output_type": "display_data"
    }
   ],
   "source": [
    "plt.figure(figsize=(4,3))\n",
    "sns.scatterplot(x=labels[0],y=labels[1],data=pdfg,hue='physiology',palette='Set1')\n",
    "plt.savefig(\"PCAplot.svg\")"
   ]
  },
  {
   "cell_type": "code",
   "execution_count": 139,
   "id": "reliable-lancaster",
   "metadata": {},
   "outputs": [
    {
     "data": {
      "text/plain": [
       "<AxesSubplot:xlabel='PC1', ylabel='PC2'>"
      ]
     },
     "execution_count": 139,
     "metadata": {},
     "output_type": "execute_result"
    },
    {
     "data": {
      "image/png": "[encoded data removed]",
      "text/plain": [
       "<Figure size 432x288 with 1 Axes>"
      ]
     },
     "metadata": {
      "needs_background": "light"
     },
     "output_type": "display_data"
    }
   ],
   "source": [
    "sns.scatterplot(x='PC1',y=\"PC2\",data=pdfg,hue='K03738')"
   ]
  },
  {
   "cell_type": "code",
   "execution_count": 137,
   "id": "visible-teddy",
   "metadata": {},
   "outputs": [
    {
     "data": {
      "text/html": [
       "<div>\n",
       "<style scoped>\n",
       "    .dataframe tbody tr th:only-of-type {\n",
       "        vertical-align: middle;\n",
       "    }\n",
       "\n",
       "    .dataframe tbody tr th {\n",
       "        vertical-align: top;\n",
       "    }\n",
       "\n",
       "    .dataframe thead th {\n",
       "        text-align: right;\n",
       "    }\n",
       "</style>\n",
       "<table border=\"1\" class=\"dataframe\">\n",
       "  <thead>\n",
       "    <tr style=\"text-align: right;\">\n",
       "      <th></th>\n",
       "      <th>PC1</th>\n",
       "      <th>PC2</th>\n",
       "    </tr>\n",
       "  </thead>\n",
       "  <tbody>\n",
       "    <tr>\n",
       "      <th>K07303</th>\n",
       "      <td>-0.492104</td>\n",
       "      <td>0.550612</td>\n",
       "    </tr>\n",
       "    <tr>\n",
       "      <th>K11177</th>\n",
       "      <td>-0.328025</td>\n",
       "      <td>0.075569</td>\n",
       "    </tr>\n",
       "    <tr>\n",
       "      <th>K03520</th>\n",
       "      <td>-0.324172</td>\n",
       "      <td>0.270031</td>\n",
       "    </tr>\n",
       "    <tr>\n",
       "      <th>K13482</th>\n",
       "      <td>-0.251547</td>\n",
       "      <td>0.059347</td>\n",
       "    </tr>\n",
       "    <tr>\n",
       "      <th>K18030</th>\n",
       "      <td>-0.133804</td>\n",
       "      <td>0.106582</td>\n",
       "    </tr>\n",
       "    <tr>\n",
       "      <th>K21307</th>\n",
       "      <td>-0.071290</td>\n",
       "      <td>0.103779</td>\n",
       "    </tr>\n",
       "    <tr>\n",
       "      <th>K05301</th>\n",
       "      <td>-0.046923</td>\n",
       "      <td>0.029381</td>\n",
       "    </tr>\n",
       "    <tr>\n",
       "      <th>K00370</th>\n",
       "      <td>-0.028876</td>\n",
       "      <td>-0.436866</td>\n",
       "    </tr>\n",
       "    <tr>\n",
       "      <th>K00367</th>\n",
       "      <td>-0.023967</td>\n",
       "      <td>-0.029875</td>\n",
       "    </tr>\n",
       "    <tr>\n",
       "      <th>K02567</th>\n",
       "      <td>-0.016645</td>\n",
       "      <td>0.074671</td>\n",
       "    </tr>\n",
       "    <tr>\n",
       "      <th>K08356</th>\n",
       "      <td>-0.013523</td>\n",
       "      <td>0.016354</td>\n",
       "    </tr>\n",
       "    <tr>\n",
       "      <th>K00387</th>\n",
       "      <td>-0.003040</td>\n",
       "      <td>-0.008525</td>\n",
       "    </tr>\n",
       "    <tr>\n",
       "      <th>K08348</th>\n",
       "      <td>-0.001304</td>\n",
       "      <td>-0.014743</td>\n",
       "    </tr>\n",
       "    <tr>\n",
       "      <th>K07811</th>\n",
       "      <td>-0.001215</td>\n",
       "      <td>-0.012957</td>\n",
       "    </tr>\n",
       "    <tr>\n",
       "      <th>K19187</th>\n",
       "      <td>-0.000940</td>\n",
       "      <td>-0.001087</td>\n",
       "    </tr>\n",
       "    <tr>\n",
       "      <th>K07812</th>\n",
       "      <td>-0.000690</td>\n",
       "      <td>-0.010352</td>\n",
       "    </tr>\n",
       "    <tr>\n",
       "      <th>K04108</th>\n",
       "      <td>-0.000076</td>\n",
       "      <td>0.002564</td>\n",
       "    </tr>\n",
       "    <tr>\n",
       "      <th>K20625</th>\n",
       "      <td>0.000284</td>\n",
       "      <td>0.003487</td>\n",
       "    </tr>\n",
       "    <tr>\n",
       "      <th>K18020</th>\n",
       "      <td>0.000572</td>\n",
       "      <td>-0.002918</td>\n",
       "    </tr>\n",
       "    <tr>\n",
       "      <th>K18361</th>\n",
       "      <td>0.002000</td>\n",
       "      <td>0.004421</td>\n",
       "    </tr>\n",
       "    <tr>\n",
       "      <th>K22015</th>\n",
       "      <td>0.019452</td>\n",
       "      <td>-0.034477</td>\n",
       "    </tr>\n",
       "    <tr>\n",
       "      <th>K12528</th>\n",
       "      <td>0.026918</td>\n",
       "      <td>-0.046708</td>\n",
       "    </tr>\n",
       "    <tr>\n",
       "      <th>K00203</th>\n",
       "      <td>0.041534</td>\n",
       "      <td>-0.028959</td>\n",
       "    </tr>\n",
       "    <tr>\n",
       "      <th>K00087</th>\n",
       "      <td>0.063849</td>\n",
       "      <td>0.001583</td>\n",
       "    </tr>\n",
       "    <tr>\n",
       "      <th>K11389</th>\n",
       "      <td>0.066641</td>\n",
       "      <td>0.045653</td>\n",
       "    </tr>\n",
       "    <tr>\n",
       "      <th>K07306</th>\n",
       "      <td>0.070002</td>\n",
       "      <td>-0.031815</td>\n",
       "    </tr>\n",
       "    <tr>\n",
       "      <th>K07469</th>\n",
       "      <td>0.132944</td>\n",
       "      <td>0.128439</td>\n",
       "    </tr>\n",
       "    <tr>\n",
       "      <th>K08352</th>\n",
       "      <td>0.217010</td>\n",
       "      <td>0.205088</td>\n",
       "    </tr>\n",
       "    <tr>\n",
       "      <th>K03738</th>\n",
       "      <td>0.611378</td>\n",
       "      <td>0.572378</td>\n",
       "    </tr>\n",
       "  </tbody>\n",
       "</table>\n",
       "</div>"
      ],
      "text/plain": [
       "             PC1       PC2\n",
       "K07303 -0.492104  0.550612\n",
       "K11177 -0.328025  0.075569\n",
       "K03520 -0.324172  0.270031\n",
       "K13482 -0.251547  0.059347\n",
       "K18030 -0.133804  0.106582\n",
       "K21307 -0.071290  0.103779\n",
       "K05301 -0.046923  0.029381\n",
       "K00370 -0.028876 -0.436866\n",
       "K00367 -0.023967 -0.029875\n",
       "K02567 -0.016645  0.074671\n",
       "K08356 -0.013523  0.016354\n",
       "K00387 -0.003040 -0.008525\n",
       "K08348 -0.001304 -0.014743\n",
       "K07811 -0.001215 -0.012957\n",
       "K19187 -0.000940 -0.001087\n",
       "K07812 -0.000690 -0.010352\n",
       "K04108 -0.000076  0.002564\n",
       "K20625  0.000284  0.003487\n",
       "K18020  0.000572 -0.002918\n",
       "K18361  0.002000  0.004421\n",
       "K22015  0.019452 -0.034477\n",
       "K12528  0.026918 -0.046708\n",
       "K00203  0.041534 -0.028959\n",
       "K00087  0.063849  0.001583\n",
       "K11389  0.066641  0.045653\n",
       "K07306  0.070002 -0.031815\n",
       "K07469  0.132944  0.128439\n",
       "K08352  0.217010  0.205088\n",
       "K03738  0.611378  0.572378"
      ]
     },
     "execution_count": 137,
     "metadata": {},
     "output_type": "execute_result"
    }
   ],
   "source": [
    "pd.DataFrame(pca.components_.T,index=list(dfg),columns = ['PC1','PC2']).sort_values('PC1')"
   ]
  },
  {
   "cell_type": "code",
   "execution_count": null,
   "id": "entitled-associate",
   "metadata": {},
   "outputs": [],
   "source": [
    "list(df2)"
   ]
  },
  {
   "cell_type": "code",
   "execution_count": 141,
   "id": "matched-ancient",
   "metadata": {},
   "outputs": [
    {
     "data": {
      "text/plain": [
       "MannwhitneyuResult(statistic=1338268.5, pvalue=4.927386905661337e-79)"
      ]
     },
     "execution_count": 141,
     "metadata": {},
     "output_type": "execute_result"
    }
   ],
   "source": [
    "x = df2[df2[\"o2_tol\"]].mo_gene_fraction.values\n",
    "y = df2[~df2[\"o2_tol\"]].mo_gene_fraction.values\n",
    "stats.mannwhitneyu(x,y)"
   ]
  },
  {
   "cell_type": "code",
   "execution_count": null,
   "id": "distinguished-essay",
   "metadata": {},
   "outputs": [],
   "source": []
  },
  {
   "cell_type": "code",
   "execution_count": 142,
   "id": "legislative-cooperative",
   "metadata": {},
   "outputs": [
    {
     "data": {
      "text/plain": [
       "MannwhitneyuResult(statistic=710969.0, pvalue=3.1964707631378293e-64)"
      ]
     },
     "execution_count": 142,
     "metadata": {},
     "output_type": "execute_result"
    }
   ],
   "source": [
    "x = df2[df2[\"o2_tol\"]].w_gene_fraction.values\n",
    "y = df2[~df2[\"o2_tol\"]].w_gene_fraction.values\n",
    "stats.mannwhitneyu(x,y)"
   ]
  },
  {
   "cell_type": "code",
   "execution_count": 86,
   "id": "resistant-positive",
   "metadata": {},
   "outputs": [],
   "source": [
    "#df[df.domain.isin(['Bacteria'])].sort_values(\"w_gene_fraction\")"
   ]
  },
  {
   "cell_type": "code",
   "execution_count": 100,
   "id": "christian-fraction",
   "metadata": {},
   "outputs": [],
   "source": [
    "dfgapor = df[df['gene_dict'].apply(lambda x: \"K11389\" in x)]"
   ]
  },
  {
   "cell_type": "code",
   "execution_count": 113,
   "id": "certain-spotlight",
   "metadata": {},
   "outputs": [],
   "source": [
    "res = {'genome': [], 'gene': []}\n",
    "dfgapor = df[df['gene_dict'].apply(lambda x: \"K11389\" in x)]\n",
    "for genome,row in dfgapor.iterrows():\n",
    "    genes = [x[0] for x in eval(row.gene_dict).items() if x[1] == \"K11389\"]\n",
    "    res['genome'] = res['genome'] +  [genome for x in genes]\n",
    "    res['gene'] = res['gene'] + genes\n",
    "    \n",
    "res = pd.DataFrame(res)\n",
    "res['kegg_id'] = \"K11389\"\n",
    "\n",
    "gapor = res.copy()\n",
    "\n",
    "res = {'genome': [], 'gene': []}\n",
    "dfaor = df[df['gene_dict'].apply(lambda x: \"K03738\" in x)]\n",
    "for genome,row in dfaor.iterrows():\n",
    "    genes = [x[0] for x in eval(row.gene_dict).items() if x[1] == \"K11389\"]\n",
    "    res['genome'] = res['genome'] +  [genome for x in genes]\n",
    "    res['gene'] = res['gene'] + genes\n",
    "    \n",
    "res = pd.DataFrame(res)\n",
    "res['kegg_id'] = \"K03738\"\n",
    "\n",
    "aor = res.copy()\n"
   ]
  },
  {
   "cell_type": "code",
   "execution_count": 117,
   "id": "pharmaceutical-thriller",
   "metadata": {},
   "outputs": [],
   "source": [
    "gapor.to_csv(\"../data/gapor.gtdb.csv\")\n",
    "aor.to_csv(\"../data/aor.gtdb.csv\")"
   ]
  },
  {
   "cell_type": "code",
   "execution_count": 17,
   "id": "distributed-perry",
   "metadata": {},
   "outputs": [],
   "source": [
    "pterin_syn = pd.read_csv(\"../data/pterinSynthesisFeasible.26Oct2022.csv\",index_col=0)\n",
    "pterin_syn['genome'] = pterin_syn['genome'].apply(lambda x: x.split('_protein')[0])\n",
    "pterin_syn.set_index('genome',inplace=True)"
   ]
  },
  {
   "cell_type": "code",
   "execution_count": 18,
   "id": "outdoor-editing",
   "metadata": {},
   "outputs": [],
   "source": [
    "dg = df.join(pterin_syn)"
   ]
  },
  {
   "cell_type": "code",
   "execution_count": 23,
   "id": "protected-semester",
   "metadata": {},
   "outputs": [],
   "source": [
    "dg2 = df2.set_index('genome').join(pterin_syn)"
   ]
  },
  {
   "cell_type": "code",
   "execution_count": 35,
   "id": "governing-western",
   "metadata": {},
   "outputs": [
    {
     "ename": "AttributeError",
     "evalue": "module 'scipy.stats' has no attribute 'fishertest'",
     "output_type": "error",
     "traceback": [
      "\u001b[0;31m---------------------------------------------------------------------------\u001b[0m",
      "\u001b[0;31mAttributeError\u001b[0m                            Traceback (most recent call last)",
      "\u001b[0;32m<ipython-input-35-5af2addfc709>\u001b[0m in \u001b[0;36m<module>\u001b[0;34m\u001b[0m\n\u001b[0;32m----> 1\u001b[0;31m \u001b[0mstats\u001b[0m\u001b[0;34m.\u001b[0m\u001b[0mfishertest\u001b[0m\u001b[0;34m\u001b[0m\u001b[0;34m\u001b[0m\u001b[0m\n\u001b[0m",
      "\u001b[0;31mAttributeError\u001b[0m: module 'scipy.stats' has no attribute 'fishertest'"
     ]
    }
   ],
   "source": [
    "stats.fisher_exact()"
   ]
  },
  {
   "cell_type": "code",
   "execution_count": 36,
   "id": "monetary-projection",
   "metadata": {},
   "outputs": [
    {
     "data": {
      "text/plain": [
       "(11.268990153253869, 1.762008238168952e-154)"
      ]
     },
     "execution_count": 36,
     "metadata": {},
     "output_type": "execute_result"
    }
   ],
   "source": [
    "X = pd.crosstab(dg2['o2_tol'],dg2['feasible']).values\n",
    "stats.fisher_exact(X)"
   ]
  },
  {
   "cell_type": "code",
   "execution_count": 39,
   "id": "sunrise-discipline",
   "metadata": {},
   "outputs": [],
   "source": [
    "X =pd.crosstab(dg2['o2_tol'],dg2['feasible'])"
   ]
  },
  {
   "cell_type": "code",
   "execution_count": 42,
   "id": "norman-hundred",
   "metadata": {},
   "outputs": [
    {
     "data": {
      "text/plain": [
       "o2_tol\n",
       "False    1202\n",
       "True     2148\n",
       "dtype: int64"
      ]
     },
     "execution_count": 42,
     "metadata": {},
     "output_type": "execute_result"
    }
   ],
   "source": [
    "X.T.sum()"
   ]
  },
  {
   "cell_type": "code",
   "execution_count": 45,
   "id": "pleasant-arthritis",
   "metadata": {},
   "outputs": [
    {
     "data": {
      "text/plain": [
       "feasible\n",
       "False    0.913478\n",
       "True     0.086522\n",
       "dtype: float64"
      ]
     },
     "execution_count": 45,
     "metadata": {},
     "output_type": "execute_result"
    }
   ],
   "source": [
    "X.iloc[0] / 1202"
   ]
  },
  {
   "cell_type": "code",
   "execution_count": 46,
   "id": "motivated-chair",
   "metadata": {},
   "outputs": [
    {
     "data": {
      "text/plain": [
       "feasible\n",
       "False    0.483706\n",
       "True     0.516294\n",
       "Name: True, dtype: float64"
      ]
     },
     "execution_count": 46,
     "metadata": {},
     "output_type": "execute_result"
    }
   ],
   "source": [
    "X.iloc[1] / 2148"
   ]
  },
  {
   "cell_type": "code",
   "execution_count": 87,
   "id": "elect-ecology",
   "metadata": {},
   "outputs": [
    {
     "ename": "NameError",
     "evalue": "name 'dg' is not defined",
     "output_type": "error",
     "traceback": [
      "\u001b[0;31m---------------------------------------------------------------------------\u001b[0m",
      "\u001b[0;31mNameError\u001b[0m                                 Traceback (most recent call last)",
      "\u001b[0;32m<ipython-input-87-1ffb76f42958>\u001b[0m in \u001b[0;36m<module>\u001b[0;34m\u001b[0m\n\u001b[0;32m----> 1\u001b[0;31m \u001b[0msns\u001b[0m\u001b[0;34m.\u001b[0m\u001b[0mdisplot\u001b[0m\u001b[0;34m(\u001b[0m\u001b[0mx\u001b[0m\u001b[0;34m=\u001b[0m\u001b[0;34m'mo_gene_fraction'\u001b[0m\u001b[0;34m,\u001b[0m\u001b[0mhue\u001b[0m\u001b[0;34m=\u001b[0m\u001b[0;34m'feasible'\u001b[0m\u001b[0;34m,\u001b[0m\u001b[0mdata\u001b[0m\u001b[0;34m=\u001b[0m\u001b[0mdg\u001b[0m\u001b[0;34m,\u001b[0m\u001b[0mkind\u001b[0m\u001b[0;34m=\u001b[0m\u001b[0;34m'ecdf'\u001b[0m\u001b[0;34m)\u001b[0m\u001b[0;34m\u001b[0m\u001b[0;34m\u001b[0m\u001b[0m\n\u001b[0m\u001b[1;32m      2\u001b[0m \u001b[0mplt\u001b[0m\u001b[0;34m.\u001b[0m\u001b[0mxlim\u001b[0m\u001b[0;34m(\u001b[0m\u001b[0;34m[\u001b[0m\u001b[0;34m-\u001b[0m\u001b[0;36m0.0001\u001b[0m\u001b[0;34m,\u001b[0m\u001b[0;36m0.0075\u001b[0m\u001b[0;34m]\u001b[0m\u001b[0;34m)\u001b[0m\u001b[0;34m\u001b[0m\u001b[0;34m\u001b[0m\u001b[0m\n",
      "\u001b[0;31mNameError\u001b[0m: name 'dg' is not defined"
     ]
    }
   ],
   "source": [
    "sns.displot(x='mo_gene_fraction',hue='feasible',data=dg,kind='ecdf')\n",
    "plt.xlim([-0.0001,0.0075])"
   ]
  },
  {
   "cell_type": "code",
   "execution_count": 135,
   "id": "hindu-kingdom",
   "metadata": {},
   "outputs": [
    {
     "data": {
      "text/plain": [
       "<AxesSubplot:xlabel='num_pterin_synthesis_genes', ylabel='mo_gene_fraction'>"
      ]
     },
     "execution_count": 135,
     "metadata": {},
     "output_type": "execute_result"
    },
    {
     "data": {
      "image/png": "[encoded data removed]",
      "text/plain": [
       "<Figure size 432x288 with 1 Axes>"
      ]
     },
     "metadata": {
      "needs_background": "light"
     },
     "output_type": "display_data"
    }
   ],
   "source": [
    "sns.scatterplot(x='num_pterin_synthesis_genes',y='mo_gene_fraction',data=dg)"
   ]
  },
  {
   "cell_type": "code",
   "execution_count": 158,
   "id": "southwest-valuable",
   "metadata": {},
   "outputs": [],
   "source": [
    "tax = pd.read_csv(\"../data/gtdb_taxonomy.csv\")"
   ]
  },
  {
   "cell_type": "code",
   "execution_count": 168,
   "id": "heavy-winning",
   "metadata": {},
   "outputs": [],
   "source": [
    "tax['phyla'] = tax['taxonomy'].apply(lambda x: [y for y in x.split(';') if \"p__\" in y][0])"
   ]
  },
  {
   "cell_type": "code",
   "execution_count": 178,
   "id": "cubic-pencil",
   "metadata": {},
   "outputs": [],
   "source": [
    "tax = tax.set_index('genome')[['taxonomy','phyla']]"
   ]
  },
  {
   "cell_type": "code",
   "execution_count": 180,
   "id": "competent-steering",
   "metadata": {},
   "outputs": [],
   "source": [
    "z = gapor.set_index('genome').join(tax)"
   ]
  },
  {
   "cell_type": "code",
   "execution_count": 183,
   "id": "parliamentary-prediction",
   "metadata": {},
   "outputs": [
    {
     "data": {
      "text/plain": [
       "37"
      ]
     },
     "execution_count": 183,
     "metadata": {},
     "output_type": "execute_result"
    }
   ],
   "source": [
    "len(z.phyla.unique())"
   ]
  },
  {
   "cell_type": "code",
   "execution_count": 185,
   "id": "encouraging-sullivan",
   "metadata": {},
   "outputs": [
    {
     "data": {
      "text/html": [
       "<div>\n",
       "<style scoped>\n",
       "    .dataframe tbody tr th:only-of-type {\n",
       "        vertical-align: middle;\n",
       "    }\n",
       "\n",
       "    .dataframe tbody tr th {\n",
       "        vertical-align: top;\n",
       "    }\n",
       "\n",
       "    .dataframe thead th {\n",
       "        text-align: right;\n",
       "    }\n",
       "</style>\n",
       "<table border=\"1\" class=\"dataframe\">\n",
       "  <thead>\n",
       "    <tr style=\"text-align: right;\">\n",
       "      <th></th>\n",
       "      <th>gene</th>\n",
       "      <th>kegg_id</th>\n",
       "      <th>taxonomy</th>\n",
       "      <th>phyla</th>\n",
       "    </tr>\n",
       "    <tr>\n",
       "      <th>genome</th>\n",
       "      <th></th>\n",
       "      <th></th>\n",
       "      <th></th>\n",
       "      <th></th>\n",
       "    </tr>\n",
       "  </thead>\n",
       "  <tbody>\n",
       "    <tr>\n",
       "      <th>GB_GCA_016840485.1</th>\n",
       "      <td>JAEOSG010000085.1_4</td>\n",
       "      <td>K11389</td>\n",
       "      <td>d__Archaea;p__Asgardarchaeota;c__Baldrarchaeia...</td>\n",
       "      <td>p__Asgardarchaeota</td>\n",
       "    </tr>\n",
       "    <tr>\n",
       "      <th>GB_GCA_003660865.1</th>\n",
       "      <td>QMVA01000039.1_9</td>\n",
       "      <td>K11389</td>\n",
       "      <td>d__Archaea;p__EX4484-52;c__EX4484-52;o__EX4484...</td>\n",
       "      <td>p__EX4484-52</td>\n",
       "    </tr>\n",
       "    <tr>\n",
       "      <th>GB_GCA_017610525.1</th>\n",
       "      <td>JAFCBW010000071.1_3</td>\n",
       "      <td>K11389</td>\n",
       "      <td>d__Archaea;p__EX4484-52;c__EX4484-52;o__EX4484...</td>\n",
       "      <td>p__EX4484-52</td>\n",
       "    </tr>\n",
       "    <tr>\n",
       "      <th>GB_GCA_017610545.1</th>\n",
       "      <td>JAFCBV010000053.1_1</td>\n",
       "      <td>K11389</td>\n",
       "      <td>d__Archaea;p__EX4484-52;c__EX4484-52;o__EX4484...</td>\n",
       "      <td>p__EX4484-52</td>\n",
       "    </tr>\n",
       "    <tr>\n",
       "      <th>GB_GCA_015520605.1</th>\n",
       "      <td>WAPT01000004.1_13</td>\n",
       "      <td>K11389</td>\n",
       "      <td>d__Archaea;p__EX4484-52;c__EX4484-52;o__EX4484...</td>\n",
       "      <td>p__EX4484-52</td>\n",
       "    </tr>\n",
       "    <tr>\n",
       "      <th>...</th>\n",
       "      <td>...</td>\n",
       "      <td>...</td>\n",
       "      <td>...</td>\n",
       "      <td>...</td>\n",
       "    </tr>\n",
       "    <tr>\n",
       "      <th>GB_GCA_002418835.1</th>\n",
       "      <td>DIEX01000026.1_90</td>\n",
       "      <td>K11389</td>\n",
       "      <td>d__Bacteria;p__Spirochaetota;c__UBA4802;o__UBA...</td>\n",
       "      <td>p__Spirochaetota</td>\n",
       "    </tr>\n",
       "    <tr>\n",
       "      <th>GB_GCA_002425885.1</th>\n",
       "      <td>DINC01000289.1_8</td>\n",
       "      <td>K11389</td>\n",
       "      <td>d__Bacteria;p__Spirochaetota;c__UBA4802;o__UBA...</td>\n",
       "      <td>p__Spirochaetota</td>\n",
       "    </tr>\n",
       "    <tr>\n",
       "      <th>GB_GCA_009885955.1</th>\n",
       "      <td>VFJS01000022.1_21</td>\n",
       "      <td>K11389</td>\n",
       "      <td>d__Bacteria;p__Spirochaetota;c__UBA4802;o__UBA...</td>\n",
       "      <td>p__Spirochaetota</td>\n",
       "    </tr>\n",
       "    <tr>\n",
       "      <th>GB_GCA_002839285.1</th>\n",
       "      <td>PGXT01000068.1_2</td>\n",
       "      <td>K11389</td>\n",
       "      <td>d__Bacteria;p__Spirochaetota;c__UBA4802;o__UBA...</td>\n",
       "      <td>p__Spirochaetota</td>\n",
       "    </tr>\n",
       "    <tr>\n",
       "      <th>GB_GCA_001803205.1</th>\n",
       "      <td>MHBE01000063.1_36</td>\n",
       "      <td>K11389</td>\n",
       "      <td>d__Bacteria;p__Verrucomicrobiota;c__Lentisphae...</td>\n",
       "      <td>p__Verrucomicrobiota</td>\n",
       "    </tr>\n",
       "  </tbody>\n",
       "</table>\n",
       "<p>556 rows × 4 columns</p>\n",
       "</div>"
      ],
      "text/plain": [
       "                                   gene kegg_id  \\\n",
       "genome                                            \n",
       "GB_GCA_016840485.1  JAEOSG010000085.1_4  K11389   \n",
       "GB_GCA_003660865.1     QMVA01000039.1_9  K11389   \n",
       "GB_GCA_017610525.1  JAFCBW010000071.1_3  K11389   \n",
       "GB_GCA_017610545.1  JAFCBV010000053.1_1  K11389   \n",
       "GB_GCA_015520605.1    WAPT01000004.1_13  K11389   \n",
       "...                                 ...     ...   \n",
       "GB_GCA_002418835.1    DIEX01000026.1_90  K11389   \n",
       "GB_GCA_002425885.1     DINC01000289.1_8  K11389   \n",
       "GB_GCA_009885955.1    VFJS01000022.1_21  K11389   \n",
       "GB_GCA_002839285.1     PGXT01000068.1_2  K11389   \n",
       "GB_GCA_001803205.1    MHBE01000063.1_36  K11389   \n",
       "\n",
       "                                                             taxonomy  \\\n",
       "genome                                                                  \n",
       "GB_GCA_016840485.1  d__Archaea;p__Asgardarchaeota;c__Baldrarchaeia...   \n",
       "GB_GCA_003660865.1  d__Archaea;p__EX4484-52;c__EX4484-52;o__EX4484...   \n",
       "GB_GCA_017610525.1  d__Archaea;p__EX4484-52;c__EX4484-52;o__EX4484...   \n",
       "GB_GCA_017610545.1  d__Archaea;p__EX4484-52;c__EX4484-52;o__EX4484...   \n",
       "GB_GCA_015520605.1  d__Archaea;p__EX4484-52;c__EX4484-52;o__EX4484...   \n",
       "...                                                               ...   \n",
       "GB_GCA_002418835.1  d__Bacteria;p__Spirochaetota;c__UBA4802;o__UBA...   \n",
       "GB_GCA_002425885.1  d__Bacteria;p__Spirochaetota;c__UBA4802;o__UBA...   \n",
       "GB_GCA_009885955.1  d__Bacteria;p__Spirochaetota;c__UBA4802;o__UBA...   \n",
       "GB_GCA_002839285.1  d__Bacteria;p__Spirochaetota;c__UBA4802;o__UBA...   \n",
       "GB_GCA_001803205.1  d__Bacteria;p__Verrucomicrobiota;c__Lentisphae...   \n",
       "\n",
       "                                   phyla  \n",
       "genome                                    \n",
       "GB_GCA_016840485.1    p__Asgardarchaeota  \n",
       "GB_GCA_003660865.1          p__EX4484-52  \n",
       "GB_GCA_017610525.1          p__EX4484-52  \n",
       "GB_GCA_017610545.1          p__EX4484-52  \n",
       "GB_GCA_015520605.1          p__EX4484-52  \n",
       "...                                  ...  \n",
       "GB_GCA_002418835.1      p__Spirochaetota  \n",
       "GB_GCA_002425885.1      p__Spirochaetota  \n",
       "GB_GCA_009885955.1      p__Spirochaetota  \n",
       "GB_GCA_002839285.1      p__Spirochaetota  \n",
       "GB_GCA_001803205.1  p__Verrucomicrobiota  \n",
       "\n",
       "[556 rows x 4 columns]"
      ]
     },
     "execution_count": 185,
     "metadata": {},
     "output_type": "execute_result"
    }
   ],
   "source": [
    "z.sort_values(\"taxonomy\")"
   ]
  },
  {
   "cell_type": "code",
   "execution_count": 189,
   "id": "grave-panama",
   "metadata": {},
   "outputs": [],
   "source": [
    "z['domain'] = z['taxonomy'].apply(lambda x: x.split('d__')[1].split(';')[0])"
   ]
  },
  {
   "cell_type": "code",
   "execution_count": 204,
   "id": "proprietary-flush",
   "metadata": {},
   "outputs": [],
   "source": [
    "subs = []\n",
    "for phyla, dff in z.groupby('phyla'):\n",
    "    subs.append(dff.sample(1))"
   ]
  },
  {
   "cell_type": "code",
   "execution_count": 206,
   "id": "corresponding-initial",
   "metadata": {},
   "outputs": [],
   "source": [
    "phyla_reps = pd.concat(subs,axis=0)"
   ]
  },
  {
   "cell_type": "code",
   "execution_count": 209,
   "id": "educated-weekend",
   "metadata": {},
   "outputs": [],
   "source": [
    "from Bio import SeqIO"
   ]
  },
  {
   "cell_type": "code",
   "execution_count": 213,
   "id": "surgical-collaboration",
   "metadata": {},
   "outputs": [],
   "source": [
    "gapor_seqs =  SeqIO.to_dict(SeqIO.parse(\"../data/gapor.fa\",\"fasta\"))"
   ]
  },
  {
   "cell_type": "code",
   "execution_count": 220,
   "id": "forced-distinction",
   "metadata": {},
   "outputs": [],
   "source": [
    "gapor_seqs_subset = {x:y for x,y in gapor_seqs.items() if x in phyla_reps.gene.tolist()}"
   ]
  },
  {
   "cell_type": "code",
   "execution_count": 221,
   "id": "patent-leave",
   "metadata": {},
   "outputs": [],
   "source": [
    "with open('../data/gapor.phyla.fa', 'w') as handle:\n",
    "    SeqIO.write(gapor_seqs_subset.values(), handle, 'fasta')"
   ]
  },
  {
   "cell_type": "code",
   "execution_count": 239,
   "id": "cross-slope",
   "metadata": {},
   "outputs": [
    {
     "data": {
      "text/html": [
       "<div>\n",
       "<style scoped>\n",
       "    .dataframe tbody tr th:only-of-type {\n",
       "        vertical-align: middle;\n",
       "    }\n",
       "\n",
       "    .dataframe tbody tr th {\n",
       "        vertical-align: top;\n",
       "    }\n",
       "\n",
       "    .dataframe thead th {\n",
       "        text-align: right;\n",
       "    }\n",
       "</style>\n",
       "<table border=\"1\" class=\"dataframe\">\n",
       "  <thead>\n",
       "    <tr style=\"text-align: right;\">\n",
       "      <th></th>\n",
       "      <th>gene</th>\n",
       "      <th>kegg_id</th>\n",
       "      <th>taxonomy</th>\n",
       "      <th>phyla</th>\n",
       "      <th>domain</th>\n",
       "    </tr>\n",
       "    <tr>\n",
       "      <th>genome</th>\n",
       "      <th></th>\n",
       "      <th></th>\n",
       "      <th></th>\n",
       "      <th></th>\n",
       "      <th></th>\n",
       "    </tr>\n",
       "  </thead>\n",
       "  <tbody>\n",
       "    <tr>\n",
       "      <th>GB_GCA_011367165.1</th>\n",
       "      <td>DSZG01000016.1_5</td>\n",
       "      <td>K11389</td>\n",
       "      <td>d__Archaea;p__Hadarchaeota;c__Hadarchaeia;o__H...</td>\n",
       "      <td>p__Hadarchaeota</td>\n",
       "      <td>Archaea</td>\n",
       "    </tr>\n",
       "  </tbody>\n",
       "</table>\n",
       "</div>"
      ],
      "text/plain": [
       "                                gene kegg_id  \\\n",
       "genome                                         \n",
       "GB_GCA_011367165.1  DSZG01000016.1_5  K11389   \n",
       "\n",
       "                                                             taxonomy  \\\n",
       "genome                                                                  \n",
       "GB_GCA_011367165.1  d__Archaea;p__Hadarchaeota;c__Hadarchaeia;o__H...   \n",
       "\n",
       "                              phyla   domain  \n",
       "genome                                        \n",
       "GB_GCA_011367165.1  p__Hadarchaeota  Archaea  "
      ]
     },
     "execution_count": 239,
     "metadata": {},
     "output_type": "execute_result"
    }
   ],
   "source": [
    "phyla_reps[phyla_reps.gene == 'DSZG01000016.1_5']"
   ]
  },
  {
   "cell_type": "code",
   "execution_count": 242,
   "id": "opening-highlight",
   "metadata": {},
   "outputs": [],
   "source": [
    "phyla_reps.to_csv(\"../data/gapor.phyla.csv\")"
   ]
  },
  {
   "cell_type": "code",
   "execution_count": 248,
   "id": "minimal-projection",
   "metadata": {},
   "outputs": [],
   "source": [
    "gz= df[df.mopterin_genes>0]"
   ]
  },
  {
   "cell_type": "code",
   "execution_count": 252,
   "id": "affecting-coordinator",
   "metadata": {},
   "outputs": [
    {
     "name": "stderr",
     "output_type": "stream",
     "text": [
      "<ipython-input-252-4bbc324c1b7e>:1: SettingWithCopyWarning: \n",
      "A value is trying to be set on a copy of a slice from a DataFrame.\n",
      "Try using .loc[row_indexer,col_indexer] = value instead\n",
      "\n",
      "See the caveats in the documentation: https://pandas.pydata.org/pandas-docs/stable/user_guide/indexing.html#returning-a-view-versus-a-copy\n",
      "  gz['kos']= gz['gene_dict'].apply(lambda x: [y for x,y in eval(x).items()])\n"
     ]
    }
   ],
   "source": [
    "gz['kos']= gz['gene_dict'].apply(lambda x: [y for x,y in eval(x).items()])"
   ]
  },
  {
   "cell_type": "code",
   "execution_count": 256,
   "id": "accredited-swing",
   "metadata": {},
   "outputs": [],
   "source": [
    "all_kos = gz['kos'].tolist()"
   ]
  },
  {
   "cell_type": "code",
   "execution_count": 261,
   "id": "developing-pilot",
   "metadata": {},
   "outputs": [],
   "source": [
    "ko_groups = list(set([x for sublist in all_kos for x in sublist]))"
   ]
  },
  {
   "cell_type": "code",
   "execution_count": 262,
   "id": "regulated-malpractice",
   "metadata": {},
   "outputs": [
    {
     "data": {
      "text/plain": [
       "27"
      ]
     },
     "execution_count": 262,
     "metadata": {},
     "output_type": "execute_result"
    }
   ],
   "source": [
    "len(ko_groups)"
   ]
  },
  {
   "cell_type": "code",
   "execution_count": 271,
   "id": "mediterranean-walter",
   "metadata": {},
   "outputs": [],
   "source": [
    "copys = []\n",
    "num_genomes = []\n",
    "for x in ko_groups:\n",
    "    copy_num = gz.kos.apply(lambda z: len([y for y in z if y == x])).sum()\n",
    "    genomes_cp = gz.kos.apply(lambda z: len([y for y in z if y == x]) > 0).sum()\n",
    "    copys.append(copy_num)\n",
    "    num_genomes.append(genomes_cp)\n"
   ]
  },
  {
   "cell_type": "code",
   "execution_count": 277,
   "id": "solid-apache",
   "metadata": {},
   "outputs": [],
   "source": [
    "q = pd.DataFrame({'ko':ko_groups,'copy_nums':copys,'genome_rep':num_genomes})"
   ]
  },
  {
   "cell_type": "code",
   "execution_count": 280,
   "id": "spoken-third",
   "metadata": {},
   "outputs": [],
   "source": [
    "#q.sort_values('genome_rep')"
   ]
  },
  {
   "cell_type": "code",
   "execution_count": null,
   "id": "athletic-today",
   "metadata": {},
   "outputs": [],
   "source": []
  }
 ],
 "metadata": {
  "kernelspec": {
   "display_name": "Python 3.9 (informatics)",
   "language": "python",
   "name": "informatics-py39"
  },
  "language_info": {
   "codemirror_mode": {
    "name": "ipython",
    "version": 3
   },
   "file_extension": ".py",
   "mimetype": "text/x-python",
   "name": "python",
   "nbconvert_exporter": "python",
   "pygments_lexer": "ipython3",
   "version": "3.9.7"
  }
 },
 "nbformat": 4,
 "nbformat_minor": 5
}
