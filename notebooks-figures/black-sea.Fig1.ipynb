{
 "cells": [
  {
   "cell_type": "code",
   "execution_count": 1,
   "id": "together-window",
   "metadata": {
    "tags": []
   },
   "outputs": [],
   "source": [
    "import pandas as pd\n",
    "import numpy as np\n",
    "import pandas as pd\n",
    "import seaborn as sns\n",
    "import matplotlib.pyplot as plt\n",
    "import pingouin as pg\n",
    "\n",
    "from scipy.stats import spearmanr,pearsonr,mannwhitneyu\n",
    "from statsmodels.stats.multitest import multipletests\n",
    "plt.rcParams['font.family'] = 'Arial'\n",
    "from cbtk.stats import run_pca"
   ]
  },
  {
   "cell_type": "code",
   "execution_count": 2,
   "id": "stupid-money",
   "metadata": {
    "tags": []
   },
   "outputs": [],
   "source": [
    "df = pd.read_csv(\"../data/black-sea/metagenomics/black-sea-metadata.csv\",index_col=0)"
   ]
  },
  {
   "cell_type": "code",
   "execution_count": 3,
   "id": "883bddbb-d4d0-4044-bf66-40a7cba5a241",
   "metadata": {
    "tags": []
   },
   "outputs": [],
   "source": [
    "# load MO pterin gene families\n",
    "mwpterins = pd.read_csv(\"../data/pyranopterin.geneTable.csv\")\n",
    "\n",
    "mo_ko = mwpterins[mwpterins['Pterin'].apply(lambda x: 'Mo' in str(x))]['KO (pterin domain)'].dropna().unique().tolist()\n",
    "w_ko = mwpterins[mwpterins['Pterin'].apply(lambda x: 'W' in str(x))]['KO (pterin domain)'].dropna().unique().tolist()\n",
    "\n",
    "\n",
    "pterin_kos = mwpterins[\"KO (pterin domain)\"].dropna().unique().tolist()\n",
    "pterin_kos = [x.split(\",\") for x in pterin_kos]\n",
    "pterin_kos = list(set([item for sublist in pterin_kos for item in sublist]))\n",
    "\n",
    "\n",
    "mo_ko = [x.split(\",\") for x in mo_ko]\n",
    "mo_ko = list(set([item for sublist in mo_ko for item in sublist]))\n",
    "\n",
    "\n",
    "w_ko = [x.split(\",\") for x in w_ko]\n",
    "w_ko = list(set([item for sublist in w_ko for item in sublist]))\n"
   ]
  },
  {
   "cell_type": "code",
   "execution_count": 4,
   "id": "849a3638-dfde-4efc-89d3-340e215e64d1",
   "metadata": {
    "tags": []
   },
   "outputs": [],
   "source": [
    "KO = pd.read_csv(\"../data/black-sea/metagenomics/blackSeaMAG.keggOrthogroupCopyNumbers.csv\",index_col=0).T.fillna(0)\n",
    "KO[\"total\"] = KO.sum(axis=1)\n",
    "KO[\"c_W\"] = KO[[x for x in list(KO) if x in w_ko]].sum(axis=1)\n",
    "KO[\"c_Mo\"] = KO[[x for x in list(KO) if x in mo_ko]].sum(axis=1)\n",
    "rel_abun = pd.read_csv(\"../data/black-sea/metagenomics/blackSea.MAGfraction.04Feb2023.csv\",index_col=0)"
   ]
  },
  {
   "cell_type": "code",
   "execution_count": 5,
   "id": "7233f58a-0ca2-4af1-a69c-5c12797aa050",
   "metadata": {
    "tags": []
   },
   "outputs": [],
   "source": [
    "df_all = KO.join(rel_abun)\n",
    "C = df_all[[\"c_W\",\"c_Mo\"]].values\n",
    "X = df_all[list(rel_abun)].T.values\n",
    "ko_abundances = pd.DataFrame(np.dot(X,C),columns=[\"c_W\",\"c_Mo\"],index = list(rel_abun))"
   ]
  },
  {
   "cell_type": "code",
   "execution_count": 6,
   "id": "53eeb997-6b6f-4804-b8df-cb1f1a719d6a",
   "metadata": {
    "tags": []
   },
   "outputs": [
    {
     "ename": "ValueError",
     "evalue": "Could not interpret value `c_W` for parameter `x`",
     "output_type": "error",
     "traceback": [
      "\u001b[0;31m---------------------------------------------------------------------------\u001b[0m",
      "\u001b[0;31mValueError\u001b[0m                                Traceback (most recent call last)",
      "Cell \u001b[0;32mIn[6], line 13\u001b[0m\n\u001b[1;32m      9\u001b[0m \u001b[38;5;66;03m#gene = \"K05772\"\u001b[39;00m\n\u001b[1;32m     10\u001b[0m \u001b[38;5;66;03m#gene = \"K05773\"\u001b[39;00m\n\u001b[1;32m     11\u001b[0m \u001b[38;5;66;03m#gene = \"K06857\"\u001b[39;00m\n\u001b[1;32m     12\u001b[0m gene \u001b[38;5;241m=\u001b[39m \u001b[38;5;124m\"\u001b[39m\u001b[38;5;124mc_W\u001b[39m\u001b[38;5;124m\"\u001b[39m\n\u001b[0;32m---> 13\u001b[0m \u001b[43msns\u001b[49m\u001b[38;5;241;43m.\u001b[39;49m\u001b[43mscatterplot\u001b[49m\u001b[43m(\u001b[49m\u001b[43mx\u001b[49m\u001b[38;5;241;43m=\u001b[39;49m\u001b[43mgene\u001b[49m\u001b[43m,\u001b[49m\u001b[43mdata\u001b[49m\u001b[38;5;241;43m=\u001b[39;49m\u001b[43mdf\u001b[49m\u001b[43m,\u001b[49m\u001b[43my\u001b[49m\u001b[38;5;241;43m=\u001b[39;49m\u001b[38;5;124;43m\"\u001b[39;49m\u001b[38;5;124;43mdepth_m\u001b[39;49m\u001b[38;5;124;43m\"\u001b[39;49m\u001b[43m,\u001b[49m\u001b[43mcolor\u001b[49m\u001b[38;5;241;43m=\u001b[39;49m\u001b[43mcmap\u001b[49m\u001b[43m[\u001b[49m\u001b[38;5;241;43m1\u001b[39;49m\u001b[43m]\u001b[49m\u001b[43m)\u001b[49m\n\u001b[1;32m     14\u001b[0m \u001b[38;5;66;03m#sns.lineplot(x=gene,data=df,y=\"depth_m\",color=cmap[1])\u001b[39;00m\n\u001b[1;32m     15\u001b[0m plt\u001b[38;5;241m.\u001b[39mplot(df\u001b[38;5;241m.\u001b[39msort_values(\u001b[38;5;124m\"\u001b[39m\u001b[38;5;124mdepth_m\u001b[39m\u001b[38;5;124m\"\u001b[39m)[gene],dfp\u001b[38;5;241m.\u001b[39msort_values(\u001b[38;5;124m\"\u001b[39m\u001b[38;5;124mdepth_m\u001b[39m\u001b[38;5;124m\"\u001b[39m)[\u001b[38;5;124m\"\u001b[39m\u001b[38;5;124mdepth_m\u001b[39m\u001b[38;5;124m\"\u001b[39m],color\u001b[38;5;241m=\u001b[39mcmap[\u001b[38;5;241m1\u001b[39m])\n",
      "File \u001b[0;32m~/opt/miniconda3/envs/informatics.p38/lib/python3.8/site-packages/seaborn/relational.py:742\u001b[0m, in \u001b[0;36mscatterplot\u001b[0;34m(data, x, y, hue, size, style, palette, hue_order, hue_norm, sizes, size_order, size_norm, markers, style_order, legend, ax, **kwargs)\u001b[0m\n\u001b[1;32m    732\u001b[0m \u001b[38;5;28;01mdef\u001b[39;00m \u001b[38;5;21mscatterplot\u001b[39m(\n\u001b[1;32m    733\u001b[0m     data\u001b[38;5;241m=\u001b[39m\u001b[38;5;28;01mNone\u001b[39;00m, \u001b[38;5;241m*\u001b[39m,\n\u001b[1;32m    734\u001b[0m     x\u001b[38;5;241m=\u001b[39m\u001b[38;5;28;01mNone\u001b[39;00m, y\u001b[38;5;241m=\u001b[39m\u001b[38;5;28;01mNone\u001b[39;00m, hue\u001b[38;5;241m=\u001b[39m\u001b[38;5;28;01mNone\u001b[39;00m, size\u001b[38;5;241m=\u001b[39m\u001b[38;5;28;01mNone\u001b[39;00m, style\u001b[38;5;241m=\u001b[39m\u001b[38;5;28;01mNone\u001b[39;00m,\n\u001b[0;32m   (...)\u001b[0m\n\u001b[1;32m    738\u001b[0m     \u001b[38;5;241m*\u001b[39m\u001b[38;5;241m*\u001b[39mkwargs\n\u001b[1;32m    739\u001b[0m ):\n\u001b[1;32m    741\u001b[0m     variables \u001b[38;5;241m=\u001b[39m _ScatterPlotter\u001b[38;5;241m.\u001b[39mget_semantics(\u001b[38;5;28mlocals\u001b[39m())\n\u001b[0;32m--> 742\u001b[0m     p \u001b[38;5;241m=\u001b[39m \u001b[43m_ScatterPlotter\u001b[49m\u001b[43m(\u001b[49m\u001b[43mdata\u001b[49m\u001b[38;5;241;43m=\u001b[39;49m\u001b[43mdata\u001b[49m\u001b[43m,\u001b[49m\u001b[43m \u001b[49m\u001b[43mvariables\u001b[49m\u001b[38;5;241;43m=\u001b[39;49m\u001b[43mvariables\u001b[49m\u001b[43m,\u001b[49m\u001b[43m \u001b[49m\u001b[43mlegend\u001b[49m\u001b[38;5;241;43m=\u001b[39;49m\u001b[43mlegend\u001b[49m\u001b[43m)\u001b[49m\n\u001b[1;32m    744\u001b[0m     p\u001b[38;5;241m.\u001b[39mmap_hue(palette\u001b[38;5;241m=\u001b[39mpalette, order\u001b[38;5;241m=\u001b[39mhue_order, norm\u001b[38;5;241m=\u001b[39mhue_norm)\n\u001b[1;32m    745\u001b[0m     p\u001b[38;5;241m.\u001b[39mmap_size(sizes\u001b[38;5;241m=\u001b[39msizes, order\u001b[38;5;241m=\u001b[39msize_order, norm\u001b[38;5;241m=\u001b[39msize_norm)\n",
      "File \u001b[0;32m~/opt/miniconda3/envs/informatics.p38/lib/python3.8/site-packages/seaborn/relational.py:538\u001b[0m, in \u001b[0;36m_ScatterPlotter.__init__\u001b[0;34m(self, data, variables, legend)\u001b[0m\n\u001b[1;32m    529\u001b[0m \u001b[38;5;28;01mdef\u001b[39;00m \u001b[38;5;21m__init__\u001b[39m(\u001b[38;5;28mself\u001b[39m, \u001b[38;5;241m*\u001b[39m, data\u001b[38;5;241m=\u001b[39m\u001b[38;5;28;01mNone\u001b[39;00m, variables\u001b[38;5;241m=\u001b[39m{}, legend\u001b[38;5;241m=\u001b[39m\u001b[38;5;28;01mNone\u001b[39;00m):\n\u001b[1;32m    530\u001b[0m \n\u001b[1;32m    531\u001b[0m     \u001b[38;5;66;03m# TODO this is messy, we want the mapping to be agnostic about\u001b[39;00m\n\u001b[1;32m    532\u001b[0m     \u001b[38;5;66;03m# the kind of plot to draw, but for the time being we need to set\u001b[39;00m\n\u001b[1;32m    533\u001b[0m     \u001b[38;5;66;03m# this information so the SizeMapping can use it\u001b[39;00m\n\u001b[1;32m    534\u001b[0m     \u001b[38;5;28mself\u001b[39m\u001b[38;5;241m.\u001b[39m_default_size_range \u001b[38;5;241m=\u001b[39m (\n\u001b[1;32m    535\u001b[0m         np\u001b[38;5;241m.\u001b[39mr_[\u001b[38;5;241m.5\u001b[39m, \u001b[38;5;241m2\u001b[39m] \u001b[38;5;241m*\u001b[39m np\u001b[38;5;241m.\u001b[39msquare(mpl\u001b[38;5;241m.\u001b[39mrcParams[\u001b[38;5;124m\"\u001b[39m\u001b[38;5;124mlines.markersize\u001b[39m\u001b[38;5;124m\"\u001b[39m])\n\u001b[1;32m    536\u001b[0m     )\n\u001b[0;32m--> 538\u001b[0m     \u001b[38;5;28;43msuper\u001b[39;49m\u001b[43m(\u001b[49m\u001b[43m)\u001b[49m\u001b[38;5;241;43m.\u001b[39;49m\u001b[38;5;21;43m__init__\u001b[39;49m\u001b[43m(\u001b[49m\u001b[43mdata\u001b[49m\u001b[38;5;241;43m=\u001b[39;49m\u001b[43mdata\u001b[49m\u001b[43m,\u001b[49m\u001b[43m \u001b[49m\u001b[43mvariables\u001b[49m\u001b[38;5;241;43m=\u001b[39;49m\u001b[43mvariables\u001b[49m\u001b[43m)\u001b[49m\n\u001b[1;32m    540\u001b[0m     \u001b[38;5;28mself\u001b[39m\u001b[38;5;241m.\u001b[39mlegend \u001b[38;5;241m=\u001b[39m legend\n",
      "File \u001b[0;32m~/opt/miniconda3/envs/informatics.p38/lib/python3.8/site-packages/seaborn/_oldcore.py:640\u001b[0m, in \u001b[0;36mVectorPlotter.__init__\u001b[0;34m(self, data, variables)\u001b[0m\n\u001b[1;32m    635\u001b[0m \u001b[38;5;66;03m# var_ordered is relevant only for categorical axis variables, and may\u001b[39;00m\n\u001b[1;32m    636\u001b[0m \u001b[38;5;66;03m# be better handled by an internal axis information object that tracks\u001b[39;00m\n\u001b[1;32m    637\u001b[0m \u001b[38;5;66;03m# such information and is set up by the scale_* methods. The analogous\u001b[39;00m\n\u001b[1;32m    638\u001b[0m \u001b[38;5;66;03m# information for numeric axes would be information about log scales.\u001b[39;00m\n\u001b[1;32m    639\u001b[0m \u001b[38;5;28mself\u001b[39m\u001b[38;5;241m.\u001b[39m_var_ordered \u001b[38;5;241m=\u001b[39m {\u001b[38;5;124m\"\u001b[39m\u001b[38;5;124mx\u001b[39m\u001b[38;5;124m\"\u001b[39m: \u001b[38;5;28;01mFalse\u001b[39;00m, \u001b[38;5;124m\"\u001b[39m\u001b[38;5;124my\u001b[39m\u001b[38;5;124m\"\u001b[39m: \u001b[38;5;28;01mFalse\u001b[39;00m}  \u001b[38;5;66;03m# alt., used DefaultDict\u001b[39;00m\n\u001b[0;32m--> 640\u001b[0m \u001b[38;5;28;43mself\u001b[39;49m\u001b[38;5;241;43m.\u001b[39;49m\u001b[43massign_variables\u001b[49m\u001b[43m(\u001b[49m\u001b[43mdata\u001b[49m\u001b[43m,\u001b[49m\u001b[43m \u001b[49m\u001b[43mvariables\u001b[49m\u001b[43m)\u001b[49m\n\u001b[1;32m    642\u001b[0m \u001b[38;5;28;01mfor\u001b[39;00m var, \u001b[38;5;28mcls\u001b[39m \u001b[38;5;129;01min\u001b[39;00m \u001b[38;5;28mself\u001b[39m\u001b[38;5;241m.\u001b[39m_semantic_mappings\u001b[38;5;241m.\u001b[39mitems():\n\u001b[1;32m    643\u001b[0m \n\u001b[1;32m    644\u001b[0m     \u001b[38;5;66;03m# Create the mapping function\u001b[39;00m\n\u001b[1;32m    645\u001b[0m     map_func \u001b[38;5;241m=\u001b[39m partial(\u001b[38;5;28mcls\u001b[39m\u001b[38;5;241m.\u001b[39mmap, plotter\u001b[38;5;241m=\u001b[39m\u001b[38;5;28mself\u001b[39m)\n",
      "File \u001b[0;32m~/opt/miniconda3/envs/informatics.p38/lib/python3.8/site-packages/seaborn/_oldcore.py:701\u001b[0m, in \u001b[0;36mVectorPlotter.assign_variables\u001b[0;34m(self, data, variables)\u001b[0m\n\u001b[1;32m    699\u001b[0m \u001b[38;5;28;01melse\u001b[39;00m:\n\u001b[1;32m    700\u001b[0m     \u001b[38;5;28mself\u001b[39m\u001b[38;5;241m.\u001b[39minput_format \u001b[38;5;241m=\u001b[39m \u001b[38;5;124m\"\u001b[39m\u001b[38;5;124mlong\u001b[39m\u001b[38;5;124m\"\u001b[39m\n\u001b[0;32m--> 701\u001b[0m     plot_data, variables \u001b[38;5;241m=\u001b[39m \u001b[38;5;28;43mself\u001b[39;49m\u001b[38;5;241;43m.\u001b[39;49m\u001b[43m_assign_variables_longform\u001b[49m\u001b[43m(\u001b[49m\n\u001b[1;32m    702\u001b[0m \u001b[43m        \u001b[49m\u001b[43mdata\u001b[49m\u001b[43m,\u001b[49m\u001b[43m \u001b[49m\u001b[38;5;241;43m*\u001b[39;49m\u001b[38;5;241;43m*\u001b[39;49m\u001b[43mvariables\u001b[49m\u001b[43m,\u001b[49m\n\u001b[1;32m    703\u001b[0m \u001b[43m    \u001b[49m\u001b[43m)\u001b[49m\n\u001b[1;32m    705\u001b[0m \u001b[38;5;28mself\u001b[39m\u001b[38;5;241m.\u001b[39mplot_data \u001b[38;5;241m=\u001b[39m plot_data\n\u001b[1;32m    706\u001b[0m \u001b[38;5;28mself\u001b[39m\u001b[38;5;241m.\u001b[39mvariables \u001b[38;5;241m=\u001b[39m variables\n",
      "File \u001b[0;32m~/opt/miniconda3/envs/informatics.p38/lib/python3.8/site-packages/seaborn/_oldcore.py:938\u001b[0m, in \u001b[0;36mVectorPlotter._assign_variables_longform\u001b[0;34m(self, data, **kwargs)\u001b[0m\n\u001b[1;32m    933\u001b[0m \u001b[38;5;28;01melif\u001b[39;00m \u001b[38;5;28misinstance\u001b[39m(val, (\u001b[38;5;28mstr\u001b[39m, \u001b[38;5;28mbytes\u001b[39m)):\n\u001b[1;32m    934\u001b[0m \n\u001b[1;32m    935\u001b[0m     \u001b[38;5;66;03m# This looks like a column name but we don't know what it means!\u001b[39;00m\n\u001b[1;32m    937\u001b[0m     err \u001b[38;5;241m=\u001b[39m \u001b[38;5;124mf\u001b[39m\u001b[38;5;124m\"\u001b[39m\u001b[38;5;124mCould not interpret value `\u001b[39m\u001b[38;5;132;01m{\u001b[39;00mval\u001b[38;5;132;01m}\u001b[39;00m\u001b[38;5;124m` for parameter `\u001b[39m\u001b[38;5;132;01m{\u001b[39;00mkey\u001b[38;5;132;01m}\u001b[39;00m\u001b[38;5;124m`\u001b[39m\u001b[38;5;124m\"\u001b[39m\n\u001b[0;32m--> 938\u001b[0m     \u001b[38;5;28;01mraise\u001b[39;00m \u001b[38;5;167;01mValueError\u001b[39;00m(err)\n\u001b[1;32m    940\u001b[0m \u001b[38;5;28;01melse\u001b[39;00m:\n\u001b[1;32m    941\u001b[0m \n\u001b[1;32m    942\u001b[0m     \u001b[38;5;66;03m# Otherwise, assume the value is itself data\u001b[39;00m\n\u001b[1;32m    943\u001b[0m \n\u001b[1;32m    944\u001b[0m     \u001b[38;5;66;03m# Raise when data object is present and a vector can't matched\u001b[39;00m\n\u001b[1;32m    945\u001b[0m     \u001b[38;5;28;01mif\u001b[39;00m \u001b[38;5;28misinstance\u001b[39m(data, pd\u001b[38;5;241m.\u001b[39mDataFrame) \u001b[38;5;129;01mand\u001b[39;00m \u001b[38;5;129;01mnot\u001b[39;00m \u001b[38;5;28misinstance\u001b[39m(val, pd\u001b[38;5;241m.\u001b[39mSeries):\n",
      "\u001b[0;31mValueError\u001b[0m: Could not interpret value `c_W` for parameter `x`"
     ]
    },
    {
     "data": {
      "text/plain": [
       "<Figure size 200x400 with 0 Axes>"
      ]
     },
     "metadata": {},
     "output_type": "display_data"
    }
   ],
   "source": [
    "#df[\"c_W\"] = df[[x for x in list(df) if x in w_ko]].sum(axis=1)\n",
    "#df[\"c_Mo\"] = df[[x for x in list(df) if x in mo_ko]].sum(axis=1)\n",
    "dfp = df[[\"depth_m\"]].join(ko_abundances)\n",
    "\n",
    "cmap = sns.color_palette(\"Set2\")\n",
    "\n",
    "plt.figure(figsize=(2,4))\n",
    "\n",
    "#gene = \"K05772\"\n",
    "#gene = \"K05773\"\n",
    "#gene = \"K06857\"\n",
    "gene = \"c_W\"\n",
    "sns.scatterplot(x=gene,data=df,y=\"depth_m\",color=cmap[1])\n",
    "#sns.lineplot(x=gene,data=df,y=\"depth_m\",color=cmap[1])\n",
    "plt.plot(df.sort_values(\"depth_m\")[gene],dfp.sort_values(\"depth_m\")[\"depth_m\"],color=cmap[1])\n",
    "\n",
    "gene = \"c_Mo\"\n",
    "\n",
    "sns.scatterplot(x=gene,data=df,y=\"depth_m\",color=cmap[0])\n",
    "#sns.lineplot(x=gene,data=df,y=\"depth_m\",color=cmap[0])\n",
    "plt.plot(df.sort_values(\"depth_m\")[gene],dfp.sort_values(\"depth_m\")[\"depth_m\"],color=cmap[0])\n",
    "\n",
    "\n",
    "plt.xlabel(\"relative copy of number of \\n pyranopterin gene families\")\n",
    "\n",
    "\n",
    "#plt.ylabel(\"$aor$ abundance\")\n",
    "#plt.xlabel(\"depth (m)\")\n",
    "\n",
    "#ax2 = plt.twinx()\n",
    "#feature = \"O2_mmolperkg\"\n",
    "#feature = \"H2S mM\"\n",
    "#sns.lineplot(y=feature,data=df,x=\"depth_m\",color=cmap1[1],ax=ax2)\n",
    "#sns.scatterplot(y=feature,data=df,x=\"depth_m\",color=cmap1[1],ax=ax2)\n",
    "\n",
    "#sns.lineplot(y=\"O2_mmolperkg\",data=df,x=\"depth_m\",color=\"r\",ax=ax2)\n",
    "#sns.scatterplot(y=\"O2_mmolperkg\",data=df,x=\"depth_m\",color=\"r\",ax=ax2)\n",
    "#plt.ylim([8,2500])\n",
    "plt.ylim([45,2500])\n",
    "\n",
    "plt.gca().invert_yaxis()\n",
    "\n",
    "plt.yscale(\"log\")\n",
    "#plt.ylabel(\"dissolved oxygen (mmol / kg)\")\n",
    "#plt.label(\"depth (m)\")\n",
    "plt.ylabel(\"depth (m)\")\n"
   ]
  },
  {
   "cell_type": "code",
   "execution_count": 63,
   "id": "ba6fe27a-3eb0-49fc-9d14-7c9cdb6eadca",
   "metadata": {
    "tags": []
   },
   "outputs": [
    {
     "data": {
      "text/plain": [
       "['size_frac',\n",
       " 'SRA Study',\n",
       " 'Temp',\n",
       " 'tot_depth_water_col',\n",
       " 'water_filtered',\n",
       " 'depth_m',\n",
       " 'H2S mM',\n",
       " 'O2_mmolperkg',\n",
       " 'c_W',\n",
       " 'c_Mo']"
      ]
     },
     "execution_count": 63,
     "metadata": {},
     "output_type": "execute_result"
    }
   ],
   "source": [
    "list(df)[-10:]"
   ]
  },
  {
   "cell_type": "code",
   "execution_count": 61,
   "id": "833d43bc-a726-46f0-a0d0-0ed2c0b7a127",
   "metadata": {
    "tags": []
   },
   "outputs": [],
   "source": [
    "from pingouin import partial_corr"
   ]
  },
  {
   "cell_type": "code",
   "execution_count": 64,
   "id": "2f478f63-273f-4c1a-81d4-5a18cda437f1",
   "metadata": {
    "tags": []
   },
   "outputs": [
    {
     "data": {
      "text/html": [
       "<div>\n",
       "<style scoped>\n",
       "    .dataframe tbody tr th:only-of-type {\n",
       "        vertical-align: middle;\n",
       "    }\n",
       "\n",
       "    .dataframe tbody tr th {\n",
       "        vertical-align: top;\n",
       "    }\n",
       "\n",
       "    .dataframe thead th {\n",
       "        text-align: right;\n",
       "    }\n",
       "</style>\n",
       "<table border=\"1\" class=\"dataframe\">\n",
       "  <thead>\n",
       "    <tr style=\"text-align: right;\">\n",
       "      <th></th>\n",
       "      <th>n</th>\n",
       "      <th>r</th>\n",
       "      <th>CI95%</th>\n",
       "      <th>p-val</th>\n",
       "    </tr>\n",
       "  </thead>\n",
       "  <tbody>\n",
       "    <tr>\n",
       "      <th>pearson</th>\n",
       "      <td>15</td>\n",
       "      <td>-0.587112</td>\n",
       "      <td>[-0.85, -0.08]</td>\n",
       "      <td>0.027286</td>\n",
       "    </tr>\n",
       "  </tbody>\n",
       "</table>\n",
       "</div>"
      ],
      "text/plain": [
       "          n         r           CI95%     p-val\n",
       "pearson  15 -0.587112  [-0.85, -0.08]  0.027286"
      ]
     },
     "execution_count": 64,
     "metadata": {},
     "output_type": "execute_result"
    }
   ],
   "source": [
    "partial_corr(data=df,x = \"O2_mmolperkg\", y=\"c_Mo\",covar=[\"H2S mM\"])"
   ]
  },
  {
   "cell_type": "code",
   "execution_count": 65,
   "id": "b7e3cd10-bc43-46b7-9271-d8699d113178",
   "metadata": {
    "tags": []
   },
   "outputs": [
    {
     "data": {
      "text/html": [
       "<div>\n",
       "<style scoped>\n",
       "    .dataframe tbody tr th:only-of-type {\n",
       "        vertical-align: middle;\n",
       "    }\n",
       "\n",
       "    .dataframe tbody tr th {\n",
       "        vertical-align: top;\n",
       "    }\n",
       "\n",
       "    .dataframe thead th {\n",
       "        text-align: right;\n",
       "    }\n",
       "</style>\n",
       "<table border=\"1\" class=\"dataframe\">\n",
       "  <thead>\n",
       "    <tr style=\"text-align: right;\">\n",
       "      <th></th>\n",
       "      <th>n</th>\n",
       "      <th>r</th>\n",
       "      <th>CI95%</th>\n",
       "      <th>p-val</th>\n",
       "    </tr>\n",
       "  </thead>\n",
       "  <tbody>\n",
       "    <tr>\n",
       "      <th>pearson</th>\n",
       "      <td>15</td>\n",
       "      <td>-0.4462</td>\n",
       "      <td>[-0.79, 0.11]</td>\n",
       "      <td>0.109766</td>\n",
       "    </tr>\n",
       "  </tbody>\n",
       "</table>\n",
       "</div>"
      ],
      "text/plain": [
       "          n       r          CI95%     p-val\n",
       "pearson  15 -0.4462  [-0.79, 0.11]  0.109766"
      ]
     },
     "execution_count": 65,
     "metadata": {},
     "output_type": "execute_result"
    }
   ],
   "source": [
    "partial_corr(data=df,x = \"H2S mM\", y=\"c_Mo\",covar=[\"O2_mmolperkg\"])"
   ]
  },
  {
   "cell_type": "code",
   "execution_count": 66,
   "id": "e169e0fa-6b3c-438a-a460-731234112e06",
   "metadata": {
    "tags": []
   },
   "outputs": [
    {
     "data": {
      "text/html": [
       "<div>\n",
       "<style scoped>\n",
       "    .dataframe tbody tr th:only-of-type {\n",
       "        vertical-align: middle;\n",
       "    }\n",
       "\n",
       "    .dataframe tbody tr th {\n",
       "        vertical-align: top;\n",
       "    }\n",
       "\n",
       "    .dataframe thead th {\n",
       "        text-align: right;\n",
       "    }\n",
       "</style>\n",
       "<table border=\"1\" class=\"dataframe\">\n",
       "  <thead>\n",
       "    <tr style=\"text-align: right;\">\n",
       "      <th></th>\n",
       "      <th>n</th>\n",
       "      <th>r</th>\n",
       "      <th>CI95%</th>\n",
       "      <th>p-val</th>\n",
       "    </tr>\n",
       "  </thead>\n",
       "  <tbody>\n",
       "    <tr>\n",
       "      <th>pearson</th>\n",
       "      <td>15</td>\n",
       "      <td>-0.333367</td>\n",
       "      <td>[-0.73, 0.24]</td>\n",
       "      <td>0.24412</td>\n",
       "    </tr>\n",
       "  </tbody>\n",
       "</table>\n",
       "</div>"
      ],
      "text/plain": [
       "          n         r          CI95%    p-val\n",
       "pearson  15 -0.333367  [-0.73, 0.24]  0.24412"
      ]
     },
     "execution_count": 66,
     "metadata": {},
     "output_type": "execute_result"
    }
   ],
   "source": [
    "partial_corr(data=df,x = \"O2_mmolperkg\", y=\"c_W\",covar=[\"H2S mM\"])"
   ]
  },
  {
   "cell_type": "code",
   "execution_count": 67,
   "id": "91a5f856-c536-4b3e-bc5a-8ed9b2f481b4",
   "metadata": {
    "tags": []
   },
   "outputs": [
    {
     "data": {
      "text/html": [
       "<div>\n",
       "<style scoped>\n",
       "    .dataframe tbody tr th:only-of-type {\n",
       "        vertical-align: middle;\n",
       "    }\n",
       "\n",
       "    .dataframe tbody tr th {\n",
       "        vertical-align: top;\n",
       "    }\n",
       "\n",
       "    .dataframe thead th {\n",
       "        text-align: right;\n",
       "    }\n",
       "</style>\n",
       "<table border=\"1\" class=\"dataframe\">\n",
       "  <thead>\n",
       "    <tr style=\"text-align: right;\">\n",
       "      <th></th>\n",
       "      <th>n</th>\n",
       "      <th>r</th>\n",
       "      <th>CI95%</th>\n",
       "      <th>p-val</th>\n",
       "    </tr>\n",
       "  </thead>\n",
       "  <tbody>\n",
       "    <tr>\n",
       "      <th>pearson</th>\n",
       "      <td>15</td>\n",
       "      <td>0.586159</td>\n",
       "      <td>[0.08, 0.85]</td>\n",
       "      <td>0.0276</td>\n",
       "    </tr>\n",
       "  </tbody>\n",
       "</table>\n",
       "</div>"
      ],
      "text/plain": [
       "          n         r         CI95%   p-val\n",
       "pearson  15  0.586159  [0.08, 0.85]  0.0276"
      ]
     },
     "execution_count": 67,
     "metadata": {},
     "output_type": "execute_result"
    }
   ],
   "source": [
    "partial_corr(data=df,x = \"H2S mM\", y=\"c_W\",covar=[\"O2_mmolperkg\"])"
   ]
  },
  {
   "cell_type": "code",
   "execution_count": 9,
   "id": "ceb42850-3211-4d57-8c4c-33ca06b4a94b",
   "metadata": {
    "tags": []
   },
   "outputs": [],
   "source": [
    "df[[x for x in list(df) if x[0] not in [\"K\",\"M\",\"W\"]]].to_csv(\"../data/blackSea.metadata.csv\")"
   ]
  },
  {
   "cell_type": "code",
   "execution_count": 13,
   "id": "799f9232-0ca6-46d1-9fb0-b605f99537d9",
   "metadata": {
    "tags": []
   },
   "outputs": [],
   "source": [
    "df[\"ratio (W/Mo)\"] = np.log10(df[\"W_KOs\"] / df[\"MO_KOs\"])"
   ]
  },
  {
   "cell_type": "code",
   "execution_count": 14,
   "id": "eb47341d-6319-454d-8759-8907494f5e6b",
   "metadata": {
    "tags": []
   },
   "outputs": [
    {
     "data": {
      "image/png": "[encoded data removed]",
      "text/plain": [
       "<Figure size 640x480 with 1 Axes>"
      ]
     },
     "metadata": {},
     "output_type": "display_data"
    }
   ],
   "source": [
    "sns.scatterplot(x=\"depth_m\",y=\"ratio (W/Mo)\",data=df)\n",
    "plt.xscale(\"log\")\n"
   ]
  },
  {
   "cell_type": "code",
   "execution_count": 20,
   "id": "b1d16697-d1c3-4b6c-8ce3-26074b2819d0",
   "metadata": {
    "tags": []
   },
   "outputs": [
    {
     "data": {
      "image/png": "[encoded data removed]",
      "text/plain": [
       "<Figure size 640x480 with 1 Axes>"
      ]
     },
     "metadata": {},
     "output_type": "display_data"
    }
   ],
   "source": [
    "sns.scatterplot(x=\"O2_mmolperkg\",y=\"ratio (W/Mo)\",data=df)\n",
    "plt.xscale(\"log\")"
   ]
  },
  {
   "cell_type": "code",
   "execution_count": null,
   "id": "f07b0691-3bc1-4a04-b46f-e3ae6552a046",
   "metadata": {},
   "outputs": [],
   "source": []
  },
  {
   "cell_type": "code",
   "execution_count": 23,
   "id": "satisfied-marriage",
   "metadata": {
    "tags": []
   },
   "outputs": [
    {
     "data": {
      "text/html": [
       "<div>\n",
       "<style scoped>\n",
       "    .dataframe tbody tr th:only-of-type {\n",
       "        vertical-align: middle;\n",
       "    }\n",
       "\n",
       "    .dataframe tbody tr th {\n",
       "        vertical-align: top;\n",
       "    }\n",
       "\n",
       "    .dataframe thead th {\n",
       "        text-align: right;\n",
       "    }\n",
       "</style>\n",
       "<table border=\"1\" class=\"dataframe\">\n",
       "  <thead>\n",
       "    <tr style=\"text-align: right;\">\n",
       "      <th></th>\n",
       "      <th>n</th>\n",
       "      <th>r</th>\n",
       "      <th>CI95%</th>\n",
       "      <th>p-val</th>\n",
       "    </tr>\n",
       "  </thead>\n",
       "  <tbody>\n",
       "    <tr>\n",
       "      <th>pearson</th>\n",
       "      <td>15</td>\n",
       "      <td>0.684066</td>\n",
       "      <td>[0.24, 0.89]</td>\n",
       "      <td>0.006973</td>\n",
       "    </tr>\n",
       "  </tbody>\n",
       "</table>\n",
       "</div>"
      ],
      "text/plain": [
       "          n         r         CI95%     p-val\n",
       "pearson  15  0.684066  [0.24, 0.89]  0.006973"
      ]
     },
     "execution_count": 23,
     "metadata": {},
     "output_type": "execute_result"
    }
   ],
   "source": [
    "#\n",
    "l1 = \"ratio (W/Mo)\"\n",
    "#l1 = \"MO_KOs\"\n",
    "\n",
    "#l2 = \"O2_mmolperkg\"\n",
    "#cov = \"H2S mM\"\n",
    "l2 = \"H2S mM\"\n",
    "cov = None\n",
    "cov = \"O2_mmolperkg\"\n",
    "\n",
    "\n",
    "pg.partial_corr(data=df, x=l1, y=l2, covar=cov)\n"
   ]
  },
  {
   "cell_type": "code",
   "execution_count": 9,
   "id": "bba007c3-0650-46f5-9669-049813b91252",
   "metadata": {
    "tags": []
   },
   "outputs": [
    {
     "data": {
      "text/html": [
       "<div>\n",
       "<style scoped>\n",
       "    .dataframe tbody tr th:only-of-type {\n",
       "        vertical-align: middle;\n",
       "    }\n",
       "\n",
       "    .dataframe tbody tr th {\n",
       "        vertical-align: top;\n",
       "    }\n",
       "\n",
       "    .dataframe thead th {\n",
       "        text-align: right;\n",
       "    }\n",
       "</style>\n",
       "<table border=\"1\" class=\"dataframe\">\n",
       "  <thead>\n",
       "    <tr style=\"text-align: right;\">\n",
       "      <th></th>\n",
       "      <th>n</th>\n",
       "      <th>r</th>\n",
       "      <th>CI95%</th>\n",
       "      <th>p-val</th>\n",
       "    </tr>\n",
       "  </thead>\n",
       "  <tbody>\n",
       "    <tr>\n",
       "      <th>pearson</th>\n",
       "      <td>15</td>\n",
       "      <td>-0.618517</td>\n",
       "      <td>[-0.87, -0.13]</td>\n",
       "      <td>0.018377</td>\n",
       "    </tr>\n",
       "  </tbody>\n",
       "</table>\n",
       "</div>"
      ],
      "text/plain": [
       "          n         r           CI95%     p-val\n",
       "pearson  15 -0.618517  [-0.87, -0.13]  0.018377"
      ]
     },
     "execution_count": 9,
     "metadata": {},
     "output_type": "execute_result"
    }
   ],
   "source": [
    "#\n",
    "#l1 = \"W_KOs\"\n",
    "l1 = \"MO_KOs\"\n",
    "\n",
    "l2 = \"O2_mmolperkg\"\n",
    "cov = \"H2S mM\"\n",
    "#cov = None\n",
    "pg.partial_corr(data=df, x=l1, y=l2, covar=cov)\n"
   ]
  },
  {
   "cell_type": "code",
   "execution_count": 14,
   "id": "binary-opening",
   "metadata": {},
   "outputs": [],
   "source": [
    "ko_list = [x for x in list(df) if \"K\"!=x[0]]"
   ]
  },
  {
   "cell_type": "code",
   "execution_count": 21,
   "id": "suited-removal",
   "metadata": {},
   "outputs": [],
   "source": [
    "#df[\"H2S\"]"
   ]
  },
  {
   "cell_type": "code",
   "execution_count": 11,
   "id": "found-korean",
   "metadata": {},
   "outputs": [],
   "source": [
    "ko_list = [x for x in list(df) if \"K\"==x[0]]"
   ]
  },
  {
   "cell_type": "code",
   "execution_count": 13,
   "id": "wrapped-equality",
   "metadata": {},
   "outputs": [],
   "source": [
    "#ko_list"
   ]
  },
  {
   "cell_type": "code",
   "execution_count": 17,
   "id": "spread-number",
   "metadata": {},
   "outputs": [],
   "source": [
    "pdf = run_pca(df[ko_list])"
   ]
  },
  {
   "cell_type": "code",
   "execution_count": 20,
   "id": "enclosed-wilderness",
   "metadata": {},
   "outputs": [],
   "source": [
    "l1 = list(pdf[\"pdf\"])[0]\n",
    "l2 = list(pdf[\"pdf\"])[1]"
   ]
  },
  {
   "cell_type": "code",
   "execution_count": 26,
   "id": "responsible-baker",
   "metadata": {},
   "outputs": [
    {
     "data": {
      "text/plain": [
       "<AxesSubplot:xlabel='PC1 (48.43%)', ylabel='PC2 (20.78%)'>"
      ]
     },
     "execution_count": 26,
     "metadata": {},
     "output_type": "execute_result"
    },
    {
     "data": {
      "image/png": "[encoded data removed]",
      "text/plain": [
       "<Figure size 360x288 with 1 Axes>"
      ]
     },
     "metadata": {
      "needs_background": "light"
     },
     "output_type": "display_data"
    }
   ],
   "source": [
    "plt.figure(figsize=(5,4))\n",
    "sns.scatterplot(x=l1,y=l2,data=pdf[\"pdf\"])"
   ]
  },
  {
   "cell_type": "code",
   "execution_count": 32,
   "id": "southeast-qatar",
   "metadata": {},
   "outputs": [],
   "source": [
    "md = df[[x for x in list(df) if x not in ko_list]]"
   ]
  },
  {
   "cell_type": "code",
   "execution_count": 34,
   "id": "mounted-absorption",
   "metadata": {},
   "outputs": [],
   "source": [
    "p = pdf[\"pdf\"].join(md)"
   ]
  },
  {
   "cell_type": "code",
   "execution_count": 39,
   "id": "gross-guess",
   "metadata": {},
   "outputs": [],
   "source": [
    "#list(p)"
   ]
  },
  {
   "cell_type": "code",
   "execution_count": 38,
   "id": "residential-alliance",
   "metadata": {},
   "outputs": [
    {
     "data": {
      "text/plain": [
       "<AxesSubplot:xlabel='PC1 (48.43%)', ylabel='PC2 (20.78%)'>"
      ]
     },
     "execution_count": 38,
     "metadata": {},
     "output_type": "execute_result"
    },
    {
     "data": {
      "image/png": "[encoded data removed]",
      "text/plain": [
       "<Figure size 432x288 with 1 Axes>"
      ]
     },
     "metadata": {
      "needs_background": "light"
     },
     "output_type": "display_data"
    }
   ],
   "source": [
    "#sns.scatterplot(x=l1,y=l2,data=p,hue=\"depth_m\")"
   ]
  },
  {
   "cell_type": "code",
   "execution_count": 147,
   "id": "blocked-independence",
   "metadata": {},
   "outputs": [
    {
     "data": {
      "text/html": [
       "<svg  width=\"440\" height=\"55\"><rect x=\"0\" y=\"0\" width=\"55\" height=\"55\" style=\"fill:#66c2a5;stroke-width:2;stroke:rgb(255,255,255)\"/><rect x=\"55\" y=\"0\" width=\"55\" height=\"55\" style=\"fill:#fc8d62;stroke-width:2;stroke:rgb(255,255,255)\"/><rect x=\"110\" y=\"0\" width=\"55\" height=\"55\" style=\"fill:#8da0cb;stroke-width:2;stroke:rgb(255,255,255)\"/><rect x=\"165\" y=\"0\" width=\"55\" height=\"55\" style=\"fill:#e78ac3;stroke-width:2;stroke:rgb(255,255,255)\"/><rect x=\"220\" y=\"0\" width=\"55\" height=\"55\" style=\"fill:#a6d854;stroke-width:2;stroke:rgb(255,255,255)\"/><rect x=\"275\" y=\"0\" width=\"55\" height=\"55\" style=\"fill:#ffd92f;stroke-width:2;stroke:rgb(255,255,255)\"/><rect x=\"330\" y=\"0\" width=\"55\" height=\"55\" style=\"fill:#e5c494;stroke-width:2;stroke:rgb(255,255,255)\"/><rect x=\"385\" y=\"0\" width=\"55\" height=\"55\" style=\"fill:#b3b3b3;stroke-width:2;stroke:rgb(255,255,255)\"/></svg>"
      ],
      "text/plain": [
       "[(0.4, 0.7607843137254902, 0.6470588235294118),\n",
       " (0.9882352941176471, 0.5529411764705883, 0.3843137254901961),\n",
       " (0.5529411764705883, 0.6274509803921569, 0.796078431372549),\n",
       " (0.9058823529411765, 0.5411764705882353, 0.7647058823529411),\n",
       " (0.6509803921568628, 0.8470588235294118, 0.32941176470588235),\n",
       " (1.0, 0.8509803921568627, 0.1843137254901961),\n",
       " (0.8980392156862745, 0.7686274509803922, 0.5803921568627451),\n",
       " (0.7019607843137254, 0.7019607843137254, 0.7019607843137254)]"
      ]
     },
     "execution_count": 147,
     "metadata": {},
     "output_type": "execute_result"
    }
   ],
   "source": [
    "cmap = sns.color_palette(\"Set2\")\n",
    "cmap"
   ]
  },
  {
   "cell_type": "code",
   "execution_count": 149,
   "id": "retained-implementation",
   "metadata": {},
   "outputs": [
    {
     "data": {
      "text/html": [
       "<svg  width=\"495\" height=\"55\"><rect x=\"0\" y=\"0\" width=\"55\" height=\"55\" style=\"fill:#e41a1c;stroke-width:2;stroke:rgb(255,255,255)\"/><rect x=\"55\" y=\"0\" width=\"55\" height=\"55\" style=\"fill:#377eb8;stroke-width:2;stroke:rgb(255,255,255)\"/><rect x=\"110\" y=\"0\" width=\"55\" height=\"55\" style=\"fill:#4daf4a;stroke-width:2;stroke:rgb(255,255,255)\"/><rect x=\"165\" y=\"0\" width=\"55\" height=\"55\" style=\"fill:#984ea3;stroke-width:2;stroke:rgb(255,255,255)\"/><rect x=\"220\" y=\"0\" width=\"55\" height=\"55\" style=\"fill:#ff7f00;stroke-width:2;stroke:rgb(255,255,255)\"/><rect x=\"275\" y=\"0\" width=\"55\" height=\"55\" style=\"fill:#ffff33;stroke-width:2;stroke:rgb(255,255,255)\"/><rect x=\"330\" y=\"0\" width=\"55\" height=\"55\" style=\"fill:#a65628;stroke-width:2;stroke:rgb(255,255,255)\"/><rect x=\"385\" y=\"0\" width=\"55\" height=\"55\" style=\"fill:#f781bf;stroke-width:2;stroke:rgb(255,255,255)\"/><rect x=\"440\" y=\"0\" width=\"55\" height=\"55\" style=\"fill:#999999;stroke-width:2;stroke:rgb(255,255,255)\"/></svg>"
      ],
      "text/plain": [
       "[(0.8941176470588236, 0.10196078431372549, 0.10980392156862745),\n",
       " (0.21568627450980393, 0.49411764705882355, 0.7215686274509804),\n",
       " (0.30196078431372547, 0.6862745098039216, 0.2901960784313726),\n",
       " (0.596078431372549, 0.3058823529411765, 0.6392156862745098),\n",
       " (1.0, 0.4980392156862745, 0.0),\n",
       " (1.0, 1.0, 0.2),\n",
       " (0.6509803921568628, 0.33725490196078434, 0.1568627450980392),\n",
       " (0.9686274509803922, 0.5058823529411764, 0.7490196078431373),\n",
       " (0.6, 0.6, 0.6)]"
      ]
     },
     "execution_count": 149,
     "metadata": {},
     "output_type": "execute_result"
    }
   ],
   "source": [
    "cmap1 = sns.color_palette(\"Set1\")\n",
    "cmap1"
   ]
  },
  {
   "cell_type": "code",
   "execution_count": 180,
   "id": "geographic-prescription",
   "metadata": {},
   "outputs": [
    {
     "data": {
      "text/plain": [
       "['ammonium',\n",
       " 'Assay Type',\n",
       " 'AvgSpotLen',\n",
       " 'Bases',\n",
       " 'BioProject',\n",
       " 'BioSample',\n",
       " 'BioSampleModel',\n",
       " 'Bytes',\n",
       " 'Center Name',\n",
       " 'Collection_Date',\n",
       " 'Consent',\n",
       " 'DATASTORE filetype',\n",
       " 'DATASTORE provider',\n",
       " 'DATASTORE region',\n",
       " 'Depth',\n",
       " 'diss_oxygen',\n",
       " 'env_broad_scale',\n",
       " 'env_local_scale',\n",
       " 'env_medium',\n",
       " 'Experiment',\n",
       " 'geo_loc_name_country',\n",
       " 'geo_loc_name_country_continent',\n",
       " 'geo_loc_name',\n",
       " 'hydrogen_sulfide',\n",
       " 'Instrument',\n",
       " 'Isolation_source',\n",
       " 'Lat_Lon',\n",
       " 'Library Name',\n",
       " 'LibraryLayout',\n",
       " 'LibrarySelection',\n",
       " 'LibrarySource',\n",
       " 'nitrate',\n",
       " 'Nitrite',\n",
       " 'Organism',\n",
       " 'phosphate',\n",
       " 'Platform',\n",
       " 'potential_density',\n",
       " 'ReleaseDate',\n",
       " 'create_date',\n",
       " 'version',\n",
       " 'Salinity',\n",
       " 'samp_collect_device',\n",
       " 'samp_store_temp',\n",
       " 'Sample Name',\n",
       " 'size_frac',\n",
       " 'SRA Study',\n",
       " 'Temp',\n",
       " 'tot_depth_water_col',\n",
       " 'water_filtered',\n",
       " 'depth_m',\n",
       " 'H2S mM',\n",
       " 'O2_mmolperkg']"
      ]
     },
     "execution_count": 180,
     "metadata": {},
     "output_type": "execute_result"
    }
   ],
   "source": [
    "list(md)"
   ]
  },
  {
   "cell_type": "code",
   "execution_count": 26,
   "id": "cacc6796-4cee-4c85-a710-d96c1da9b59b",
   "metadata": {
    "tags": []
   },
   "outputs": [
    {
     "data": {
      "text/html": [
       "<div>\n",
       "<style scoped>\n",
       "    .dataframe tbody tr th:only-of-type {\n",
       "        vertical-align: middle;\n",
       "    }\n",
       "\n",
       "    .dataframe tbody tr th {\n",
       "        vertical-align: top;\n",
       "    }\n",
       "\n",
       "    .dataframe thead th {\n",
       "        text-align: right;\n",
       "    }\n",
       "</style>\n",
       "<table border=\"1\" class=\"dataframe\">\n",
       "  <thead>\n",
       "    <tr style=\"text-align: right;\">\n",
       "      <th></th>\n",
       "      <th>Nitrite</th>\n",
       "    </tr>\n",
       "  </thead>\n",
       "  <tbody>\n",
       "    <tr>\n",
       "      <th>SRR12347140</th>\n",
       "      <td>0.001 mM</td>\n",
       "    </tr>\n",
       "    <tr>\n",
       "      <th>SRR12347133</th>\n",
       "      <td>0.013 mM</td>\n",
       "    </tr>\n",
       "    <tr>\n",
       "      <th>SRR12347143</th>\n",
       "      <td>0.001 mM</td>\n",
       "    </tr>\n",
       "    <tr>\n",
       "      <th>SRR12347136</th>\n",
       "      <td>0.014 mM</td>\n",
       "    </tr>\n",
       "    <tr>\n",
       "      <th>SRR12347135</th>\n",
       "      <td>0.012 mM</td>\n",
       "    </tr>\n",
       "    <tr>\n",
       "      <th>SRR12347132</th>\n",
       "      <td>0.001 mM</td>\n",
       "    </tr>\n",
       "    <tr>\n",
       "      <th>SRR12347138</th>\n",
       "      <td>0.042 mM</td>\n",
       "    </tr>\n",
       "    <tr>\n",
       "      <th>SRR12347134</th>\n",
       "      <td>0.016 mM</td>\n",
       "    </tr>\n",
       "    <tr>\n",
       "      <th>SRR12347146</th>\n",
       "      <td>0.077 mM</td>\n",
       "    </tr>\n",
       "    <tr>\n",
       "      <th>SRR12347139</th>\n",
       "      <td>0.024 mM</td>\n",
       "    </tr>\n",
       "    <tr>\n",
       "      <th>SRR12347137</th>\n",
       "      <td>0.015 mM</td>\n",
       "    </tr>\n",
       "    <tr>\n",
       "      <th>SRR12347145</th>\n",
       "      <td>0.023 mM</td>\n",
       "    </tr>\n",
       "    <tr>\n",
       "      <th>SRR12347142</th>\n",
       "      <td>0.001 mM</td>\n",
       "    </tr>\n",
       "    <tr>\n",
       "      <th>SRR12347144</th>\n",
       "      <td>0.001 mM</td>\n",
       "    </tr>\n",
       "    <tr>\n",
       "      <th>SRR12347141</th>\n",
       "      <td>0 mM</td>\n",
       "    </tr>\n",
       "  </tbody>\n",
       "</table>\n",
       "</div>"
      ],
      "text/plain": [
       "              Nitrite\n",
       "SRR12347140  0.001 mM\n",
       "SRR12347133  0.013 mM\n",
       "SRR12347143  0.001 mM\n",
       "SRR12347136  0.014 mM\n",
       "SRR12347135  0.012 mM\n",
       "SRR12347132  0.001 mM\n",
       "SRR12347138  0.042 mM\n",
       "SRR12347134  0.016 mM\n",
       "SRR12347146  0.077 mM\n",
       "SRR12347139  0.024 mM\n",
       "SRR12347137  0.015 mM\n",
       "SRR12347145  0.023 mM\n",
       "SRR12347142  0.001 mM\n",
       "SRR12347144  0.001 mM\n",
       "SRR12347141      0 mM"
      ]
     },
     "execution_count": 26,
     "metadata": {},
     "output_type": "execute_result"
    }
   ],
   "source": [
    "df[[\"Nitrite\"]]"
   ]
  },
  {
   "cell_type": "code",
   "execution_count": 176,
   "id": "challenging-jersey",
   "metadata": {},
   "outputs": [
    {
     "data": {
      "text/plain": [
       "Text(0, 0.5, 'depth (m)')"
      ]
     },
     "execution_count": 176,
     "metadata": {},
     "output_type": "execute_result"
    },
    {
     "data": {
      "image/png": "[encoded data removed]",
      "text/plain": [
       "<Figure size 288x216 with 1 Axes>"
      ]
     },
     "metadata": {
      "needs_background": "light"
     },
     "output_type": "display_data"
    }
   ],
   "source": [
    "plt.figure(figsize=(4,3))\n",
    "\n",
    "#gene = \"K05772\"\n",
    "#gene = \"K05773\"\n",
    "#gene = \"K06857\"\n",
    "gene = \"K03738\"\n",
    "gene = \"W_KOs\"\n",
    "sns.scatterplot(y=gene,data=df,x=\"depth_m\",color=cmap[1])\n",
    "sns.lineplot(y=gene,data=df,x=\"depth_m\",color=cmap[1])\n",
    "\n",
    "gene = \"MO_KOs\"\n",
    "sns.scatterplot(y=gene,data=df,x=\"depth_m\",color=cmap[0])\n",
    "sns.lineplot(y=gene,data=df,x=\"depth_m\",color=cmap[0])\n",
    "plt.ylabel(\"relative copy of number of \\n pyanopterin gene families\")\n",
    "\n",
    "\n",
    "\n",
    "#plt.ylabel(\"$aor$ abundance\")\n",
    "plt.ylabel(\"depth (m)\")\n",
    "\n",
    "#ax2 = plt.twinx()\n",
    "#feature = \"O2_mmolperkg\"\n",
    "#feature = \"H2S mM\"\n",
    "#sns.lineplot(y=feature,data=df,x=\"depth_m\",color=cmap1[1],ax=ax2)\n",
    "#sns.scatterplot(y=feature,data=df,x=\"depth_m\",color=cmap1[1],ax=ax2)\n",
    "\n",
    "#sns.lineplot(y=\"O2_mmolperkg\",data=df,x=\"depth_m\",color=\"r\",ax=ax2)\n",
    "#sns.scatterplot(y=\"O2_mmolperkg\",data=df,x=\"depth_m\",color=\"r\",ax=ax2)\n",
    "\n",
    "\n",
    "plt.xscale(\"log\")\n",
    "#plt.ylabel(\"dissolved oxygen (mmol / kg)\")\n",
    "plt.xlabel(\"depth (m)\")\n",
    "#plt.savefig(\"pterinEnzymes.BlackSea.MoVsW.04Feb2023.svg\")"
   ]
  },
  {
   "cell_type": "code",
   "execution_count": 18,
   "id": "correct-interference",
   "metadata": {
    "tags": []
   },
   "outputs": [
    {
     "data": {
      "text/plain": [
       "Text(0, 0.5, 'depth (m)')"
      ]
     },
     "execution_count": 18,
     "metadata": {},
     "output_type": "execute_result"
    },
    {
     "data": {
      "image/png": "[encoded data removed]",
      "text/plain": [
       "<Figure size 200x400 with 1 Axes>"
      ]
     },
     "metadata": {},
     "output_type": "display_data"
    }
   ],
   "source": [
    "cmap = sns.color_palette(\"Set2\")\n",
    "\n",
    "plt.figure(figsize=(2,4))\n",
    "\n",
    "#gene = \"K05772\"\n",
    "#gene = \"K05773\"\n",
    "#gene = \"K06857\"\n",
    "gene = \"W_KOs\"\n",
    "sns.scatterplot(x=gene,data=df,y=\"depth_m\",color=cmap[1])\n",
    "#sns.lineplot(x=gene,data=df,y=\"depth_m\",color=cmap[1])\n",
    "plt.plot(df.sort_values(\"depth_m\")[gene],df.sort_values(\"depth_m\")[\"depth_m\"],color=cmap[1])\n",
    "\n",
    "gene = \"MO_KOs\"\n",
    "\n",
    "sns.scatterplot(x=gene,data=df,y=\"depth_m\",color=cmap[0])\n",
    "#sns.lineplot(x=gene,data=df,y=\"depth_m\",color=cmap[0])\n",
    "plt.plot(df.sort_values(\"depth_m\")[gene],df.sort_values(\"depth_m\")[\"depth_m\"],color=cmap[0])\n",
    "\n",
    "\n",
    "plt.xlabel(\"relative copy of number of \\n pyranopterin gene families\")\n",
    "\n",
    "\n",
    "#plt.ylabel(\"$aor$ abundance\")\n",
    "#plt.xlabel(\"depth (m)\")\n",
    "\n",
    "#ax2 = plt.twinx()\n",
    "#feature = \"O2_mmolperkg\"\n",
    "#feature = \"H2S mM\"\n",
    "#sns.lineplot(y=feature,data=df,x=\"depth_m\",color=cmap1[1],ax=ax2)\n",
    "#sns.scatterplot(y=feature,data=df,x=\"depth_m\",color=cmap1[1],ax=ax2)\n",
    "\n",
    "#sns.lineplot(y=\"O2_mmolperkg\",data=df,x=\"depth_m\",color=\"r\",ax=ax2)\n",
    "#sns.scatterplot(y=\"O2_mmolperkg\",data=df,x=\"depth_m\",color=\"r\",ax=ax2)\n",
    "#plt.ylim([8,2500])\n",
    "plt.ylim([45,2500])\n",
    "\n",
    "plt.gca().invert_yaxis()\n",
    "\n",
    "plt.yscale(\"log\")\n",
    "#plt.ylabel(\"dissolved oxygen (mmol / kg)\")\n",
    "#plt.label(\"depth (m)\")\n",
    "plt.ylabel(\"depth (m)\")\n",
    "#plt.savefig(\"../figures/pterinEnzymes.BlackSea.MoVsW.hplot.23Feb2023.svg\")"
   ]
  },
  {
   "cell_type": "code",
   "execution_count": 50,
   "id": "foreign-dealer",
   "metadata": {},
   "outputs": [
    {
     "data": {
      "text/plain": [
       "50"
      ]
     },
     "execution_count": 50,
     "metadata": {},
     "output_type": "execute_result"
    }
   ],
   "source": [
    "df[\"depth_m\"].min()"
   ]
  },
  {
   "cell_type": "code",
   "execution_count": 8,
   "id": "impaired-seminar",
   "metadata": {
    "tags": []
   },
   "outputs": [
    {
     "data": {
      "image/png": "[encoded data removed]",
      "text/plain": [
       "<Figure size 144x288 with 2 Axes>"
      ]
     },
     "metadata": {
      "needs_background": "light"
     },
     "output_type": "display_data"
    }
   ],
   "source": [
    "# load the data for the W and Mo measuremnts\n",
    "geochem_data = pd.read_csv(\"../data/W_vs_Mo_BlackSea/BlackSea_BS32_WvsMoAbundances.csv\")\n",
    "\n",
    "yvar = \"depth [m]\"\n",
    "xvar = \"W diss [nM]\"\n",
    "\n",
    "plt.figure(figsize=(2,4))\n",
    "\n",
    "#gene = \"K05772\"\n",
    "#gene = \"K05773\"\n",
    "#gene = \"K06857\"\n",
    "\n",
    "sns.scatterplot(x=xvar,data=geochem_data,y=yvar,color=cmap[1])\n",
    "#sns.lineplot(x=gene,data=df,y=\"depth_m\",color=cmap[1])\n",
    "\n",
    "plt.plot(geochem_data.sort_values(yvar)[xvar],geochem_data.sort_values(yvar)[yvar],color=cmap[1])\n",
    "\n",
    "\n",
    "ax2 = plt.twiny()\n",
    "xvar = \"Mo diss [nM]\"\n",
    "sns.scatterplot(x=xvar,data=geochem_data,y=yvar,color=cmap[0])\n",
    "#sns.lineplot(x=gene,data=df,y=\"depth_m\",color=cmap[1])\n",
    "\n",
    "plt.plot(geochem_data.sort_values(yvar)[xvar],geochem_data.sort_values(yvar)[yvar],color=cmap[0])\n",
    "#plt.ylim([0 1])\n",
    "#plt.ylim([8,2500])\n",
    "plt.ylim([45,2500])\n",
    "\n",
    "\n",
    "plt.gca().invert_yaxis()\n",
    "plt.yscale(\"log\")\n",
    "plt.ylabel(\"depth (m)\")\n",
    "plt.savefig(\"../figures/Dissolved.WvsMo.BlackSeaWaterColumn.23Feb2023.svg\")"
   ]
  },
  {
   "cell_type": "code",
   "execution_count": 265,
   "id": "diagnostic-marketplace",
   "metadata": {},
   "outputs": [
    {
     "data": {
      "image/png": "[encoded data removed]",
      "text/plain": [
       "<Figure size 216x288 with 1 Axes>"
      ]
     },
     "metadata": {
      "needs_background": "light"
     },
     "output_type": "display_data"
    }
   ],
   "source": [
    "cmap = sns.color_palette(\"Dark2\")\n",
    "\n",
    "plt.figure(figsize=(3,4))\n",
    "\n",
    "#gene = \"K05772\"\n",
    "#gene = \"K05773\"\n",
    "#gene = \"K06857\"\n",
    "#gene = \"W_KOs\"\n",
    "genes = ['K02703',\"K02704\",\"K02705\",\"K02706\",\"K02707\",\"K02708\"]\n",
    "for i in range(len(genes)):\n",
    "    gene = genes[i]\n",
    "    sns.scatterplot(x=gene,data=df,y=\"depth_m\",color=cmap[i])\n",
    "    #sns.lineplot(x=gene,data=df,y=\"depth_m\",color=cmap[1])\n",
    "    plt.plot(df.sort_values(\"depth_m\")[gene],df.sort_values(\"depth_m\")[\"depth_m\"],color=cmap[i])\n",
    "\n",
    "#plt.xlabel(\"relative copy of number of \\n pyanopterin gene families\")\n",
    "plt.legend(genes)\n",
    "\n",
    "#plt.ylabel(\"$aor$ abundance\")\n",
    "#plt.xlabel(\"depth (m)\")\n",
    "\n",
    "#ax2 = plt.twinx()\n",
    "#feature = \"O2_mmolperkg\"\n",
    "#feature = \"H2S mM\"\n",
    "#sns.lineplot(y=feature,data=df,x=\"depth_m\",color=cmap1[1],ax=ax2)\n",
    "#sns.scatterplot(y=feature,data=df,x=\"depth_m\",color=cmap1[1],ax=ax2)\n",
    "\n",
    "#sns.lineplot(y=\"O2_mmolperkg\",data=df,x=\"depth_m\",color=\"r\",ax=ax2)\n",
    "#sns.scatterplot(y=\"O2_mmolperkg\",data=df,x=\"depth_m\",color=\"r\",ax=ax2)\n",
    "\n",
    "plt.gca().invert_yaxis()\n",
    "plt.xlabel(\"Photosystem II genes\")\n",
    "plt.yscale(\"log\")\n",
    "\n",
    "#plt.ylabel(\"dissolved oxygen (mmol / kg)\")\n",
    "#plt.label(\"depth (m)\")\n",
    "#plt.savefig(\"pterinEnzymes.BlackSea.MoVsW.hplot.04Feb2023.svg\")"
   ]
  },
  {
   "cell_type": "code",
   "execution_count": 9,
   "id": "rotary-senegal",
   "metadata": {
    "tags": []
   },
   "outputs": [
    {
     "data": {
      "image/png": "[encoded data removed]",
      "text/plain": [
       "<Figure size 72x288 with 2 Axes>"
      ]
     },
     "metadata": {
      "needs_background": "light"
     },
     "output_type": "display_data"
    }
   ],
   "source": [
    "cmap1 = sns.color_palette(\"Set1\")\n",
    "plt.figure(figsize=(1,4))\n",
    "\n",
    "#gene = \"K05772\"\n",
    "#gene = \"K05773\"\n",
    "#gene = \"K06857\"\n",
    "#gene = \"K03738\"\n",
    "\n",
    "feature = \"H2S mM\"\n",
    "\n",
    "#sns.scatterplot(x=feature,data=df,y=\"depth_m\",color=cmap1[4])\n",
    "#sns.lineplot(y=feature,data=df,x=\"depth_m\",color=cmap1[4])\n",
    "#plt.plot(df.sort_values(\"depth_m\")[feature],df.sort_values(\"depth_m\")[\"depth_m\"],color=cmap1[4])\n",
    "plt.plot(df.sort_values(\"depth_m\")[feature],df.sort_values(\"depth_m\")[\"depth_m\"],color=cmap1[8],marker=\"o\",markersize=5)\n",
    "\n",
    "\n",
    "#sns.scatterplot(y=\"K11389\",data=df,x=\"depth_m\",color=\"gray\")\n",
    "#sns.lineplot(y=\"K11389\",data=df,x=\"depth_m\",color=\"gray\")\n",
    "\n",
    "plt.xlabel(\"dissolved oxygen \\n (mmol / kg)\")\n",
    "plt.ylabel(\"depth (m)\")\n",
    "\n",
    "ax2 = plt.twiny()\n",
    "feature = \"O2_mmolperkg\"\n",
    "#sns.lineplot(y=feature,data=df,x=\"depth_m\",color=cmap1[1],ax=ax2)\n",
    "#sns.scatterplot(x=feature,data=df,y=\"depth_m\",color=cmap1[1],ax=ax2)\n",
    "#plt.plot(df.sort_values(\"depth_m\")[feature],df.sort_values(\"depth_m\")[\"depth_m\"],color=cmap1[1])\n",
    "plt.plot(df.sort_values(\"depth_m\")[feature],df.sort_values(\"depth_m\")[\"depth_m\"],color=\"k\",marker=\"o\",linestyle=\"dashed\",markersize=5)\n",
    "\n",
    "\n",
    "#sns.lineplot(y=\"O2_mmolperkg\",data=df,x=\"depth_m\",color=\"r\",ax=ax2)\n",
    "#sns.scatterplot(y=\"O2_mmolperkg\",data=df,x=\"depth_m\",color=\"r\",ax=ax2)\n",
    "\n",
    "#plt.ylim([8,2500])\n",
    "plt.ylim([45,2500])\n",
    "\n",
    "plt.yscale(\"log\")\n",
    "#plt.ylabel(\"dissolved oxygen (mmol / kg)\")\n",
    "plt.xlabel(\"sulfide (mM)\")\n",
    "plt.ylabel(\"depth (m)\")\n",
    "plt.gca().invert_yaxis()\n",
    "#plt.savefig(\"oxygen_sulfur.03Feb2023.svg\")\n",
    "#plt.savefig(\"oxygen_sulfur.05Feb2023.svg\")\n",
    "plt.savefig(\"../figures/black_Sea.oxygen_sulfur.23Feb2023.svg\")"
   ]
  },
  {
   "cell_type": "code",
   "execution_count": 206,
   "id": "dedicated-popularity",
   "metadata": {},
   "outputs": [],
   "source": [
    "list(md)\n",
    "f = ['nitrate',\"Nitrite\",\"phosphate\"]"
   ]
  },
  {
   "cell_type": "code",
   "execution_count": 250,
   "id": "happy-trauma",
   "metadata": {},
   "outputs": [
    {
     "name": "stderr",
     "output_type": "stream",
     "text": [
      "<ipython-input-250-8c6674bba61b>:2: DeprecationWarning: `np.float` is a deprecated alias for the builtin `float`. To silence this warning, use `float` by itself. Doing this will not modify any behavior and is safe. If you specifically wanted the numpy scalar type, use `np.float64` here.\n",
      "Deprecated in NumPy 1.20; for more details and guidance: https://numpy.org/devdocs/release/1.20.0-notes.html#deprecations\n",
      "  df[\"nitrate (mM)\"] = df[\"nitrate (mM)\"].apply(lambda x: np.float(x.split(\" \")[0]))\n",
      "<ipython-input-250-8c6674bba61b>:5: DeprecationWarning: `np.float` is a deprecated alias for the builtin `float`. To silence this warning, use `float` by itself. Doing this will not modify any behavior and is safe. If you specifically wanted the numpy scalar type, use `np.float64` here.\n",
      "Deprecated in NumPy 1.20; for more details and guidance: https://numpy.org/devdocs/release/1.20.0-notes.html#deprecations\n",
      "  df[\"nitrite (mM)\"] = df[\"nitrite (mM)\"].apply(lambda x: np.float(x.split(\" \")[0]))\n",
      "<ipython-input-250-8c6674bba61b>:8: DeprecationWarning: `np.float` is a deprecated alias for the builtin `float`. To silence this warning, use `float` by itself. Doing this will not modify any behavior and is safe. If you specifically wanted the numpy scalar type, use `np.float64` here.\n",
      "Deprecated in NumPy 1.20; for more details and guidance: https://numpy.org/devdocs/release/1.20.0-notes.html#deprecations\n",
      "  df[\"phosphate (mM)\"] = df[\"phosphate (mM)\"].apply(lambda x: np.float(x.split(\" \")[0]))\n",
      "<ipython-input-250-8c6674bba61b>:11: DeprecationWarning: `np.float` is a deprecated alias for the builtin `float`. To silence this warning, use `float` by itself. Doing this will not modify any behavior and is safe. If you specifically wanted the numpy scalar type, use `np.float64` here.\n",
      "Deprecated in NumPy 1.20; for more details and guidance: https://numpy.org/devdocs/release/1.20.0-notes.html#deprecations\n",
      "  df[\"ammonia (mM)\"] = df[\"ammonia (mM)\"].apply(lambda x: np.float(x.split(\" \")[0]))\n",
      "<ipython-input-250-8c6674bba61b>:13: DeprecationWarning: `np.float` is a deprecated alias for the builtin `float`. To silence this warning, use `float` by itself. Doing this will not modify any behavior and is safe. If you specifically wanted the numpy scalar type, use `np.float64` here.\n",
      "Deprecated in NumPy 1.20; for more details and guidance: https://numpy.org/devdocs/release/1.20.0-notes.html#deprecations\n",
      "  df[\"temperature (C)\"] = df[\"Temp\"].apply(lambda x: np.float(x.split(\" \")[0]))\n",
      "<ipython-input-250-8c6674bba61b>:14: DeprecationWarning: `np.float` is a deprecated alias for the builtin `float`. To silence this warning, use `float` by itself. Doing this will not modify any behavior and is safe. If you specifically wanted the numpy scalar type, use `np.float64` here.\n",
      "Deprecated in NumPy 1.20; for more details and guidance: https://numpy.org/devdocs/release/1.20.0-notes.html#deprecations\n",
      "  df[\"salinity (PSU)\"] = df[\"Salinity\"].apply(lambda x: np.float(x.split(\" \")[0]))\n"
     ]
    }
   ],
   "source": [
    "df[\"nitrate (mM)\"]= df[\"nitrate\"].apply(lambda x: x.replace(\"under detection limit\",\"0 mM\"))\n",
    "df[\"nitrate (mM)\"] = df[\"nitrate (mM)\"].apply(lambda x: np.float(x.split(\" \")[0]))\n",
    "\n",
    "df[\"nitrite (mM)\"]= df[\"Nitrite\"].apply(lambda x: x.replace(\"under detection limit\",\"0 mM\"))\n",
    "df[\"nitrite (mM)\"] = df[\"nitrite (mM)\"].apply(lambda x: np.float(x.split(\" \")[0]))\n",
    "\n",
    "df[\"phosphate (mM)\"]= df[\"phosphate\"].apply(lambda x: x.replace(\"under detection limit\",\"0 mM\"))\n",
    "df[\"phosphate (mM)\"] = df[\"phosphate (mM)\"].apply(lambda x: np.float(x.split(\" \")[0]))\n",
    "\n",
    "df[\"ammonia (mM)\"]= df[\"ammonium\"].apply(lambda x: x.replace(\"under detection limit\",\"0 mM\"))\n",
    "df[\"ammonia (mM)\"] = df[\"ammonia (mM)\"].apply(lambda x: np.float(x.split(\" \")[0]))\n",
    "\n",
    "df[\"temperature (C)\"] = df[\"Temp\"].apply(lambda x: np.float(x.split(\" \")[0]))\n",
    "df[\"salinity (PSU)\"] = df[\"Salinity\"].apply(lambda x: np.float(x.split(\" \")[0]))\n"
   ]
  },
  {
   "cell_type": "code",
   "execution_count": 233,
   "id": "lyric-keyboard",
   "metadata": {},
   "outputs": [],
   "source": [
    "#df"
   ]
  },
  {
   "cell_type": "code",
   "execution_count": 219,
   "id": "thermal-tribute",
   "metadata": {},
   "outputs": [],
   "source": [
    "#df"
   ]
  },
  {
   "cell_type": "code",
   "execution_count": 298,
   "id": "complete-mineral",
   "metadata": {},
   "outputs": [
    {
     "data": {
      "image/png": "[encoded data removed]",
      "text/plain": [
       "<Figure size 72x288 with 2 Axes>"
      ]
     },
     "metadata": {
      "needs_background": "light"
     },
     "output_type": "display_data"
    }
   ],
   "source": [
    "cmap1 = sns.color_palette(\"Set1\")\n",
    "plt.figure(figsize=(1,4))\n",
    "\n",
    "#gene = \"K05772\"\n",
    "#gene = \"K05773\"\n",
    "#gene = \"K06857\"\n",
    "#gene = \"K03738\"\n",
    "\n",
    "feature = \"phosphate (mM)\"\n",
    "#feature = \"nitrite (mM)\"\n",
    "\n",
    "#sns.scatterplot(x=feature,data=df,y=\"depth_m\",color=cmap1[7])\n",
    "#sns.lineplot(y=feature,data=df,x=\"depth_m\",color=cmap1[4])\n",
    "#plt.plot(df.sort_values(\"depth_m\")[feature],df.sort_values(\"depth_m\")[\"depth_m\"],color=cmap1[7])\n",
    "plt.plot(df.sort_values(\"depth_m\")[feature],df.sort_values(\"depth_m\")[\"depth_m\"],color=cmap1[8],marker=\"o\",markersize=5)\n",
    "\n",
    "\n",
    "#sns.scatterplot(y=\"K11389\",data=df,x=\"depth_m\",color=\"gray\")\n",
    "#sns.lineplot(y=\"K11389\",data=df,x=\"depth_m\",color=\"gray\")\n",
    "\n",
    "plt.xlabel(feature)\n",
    "plt.ylabel(\"depth (m)\")\n",
    "\n",
    "ax2 = plt.twiny()\n",
    "#feature = \"nitrate (mM)\"\n",
    "feature = \"ammonia (mM)\"\n",
    "\n",
    "#sns.lineplot(y=feature,data=df,x=\"depth_m\",color=cmap1[1],ax=ax2)\n",
    "#sns.scatterplot(x=feature,data=df,y=\"depth_m\",color=cmap1[3],ax=ax2)\n",
    "#plt.plot(df.sort_values(\"depth_m\")[feature],df.sort_values(\"depth_m\")[\"depth_m\"],color=cmap1[3])\n",
    "plt.plot(df.sort_values(\"depth_m\")[feature],df.sort_values(\"depth_m\")[\"depth_m\"],color=\"k\",marker=\"o\", linestyle='dashed',markersize=5)\n",
    "\n",
    "\n",
    "#sns.lineplot(y=\"O2_mmolperkg\",data=df,x=\"depth_m\",color=\"r\",ax=ax2)\n",
    "#sns.scatterplot(y=\"O2_mmolperkg\",data=df,x=\"depth_m\",color=\"r\",ax=ax2)\n",
    "\n",
    "\n",
    "plt.yscale(\"log\")\n",
    "#plt.ylabel(\"dissolved oxygen (mmol / kg)\")\n",
    "plt.xlabel(feature)\n",
    "plt.ylabel(\"depth (m)\")\n",
    "plt.gca().invert_yaxis()\n",
    "#plt.legend(['p','a'])\n",
    "\n",
    "#plt.savefig(\"oxygen_sulfur.03Feb2023.svg\")\n",
    "plt.savefig(\"phosphate_ammonia.05Feb2023.svg\")"
   ]
  },
  {
   "cell_type": "code",
   "execution_count": 299,
   "id": "entertaining-vegetable",
   "metadata": {},
   "outputs": [
    {
     "data": {
      "image/png": "[encoded data removed]",
      "text/plain": [
       "<Figure size 72x288 with 2 Axes>"
      ]
     },
     "metadata": {
      "needs_background": "light"
     },
     "output_type": "display_data"
    }
   ],
   "source": [
    "cmap1 = sns.color_palette(\"Set1\")\n",
    "plt.figure(figsize=(1,4))\n",
    "\n",
    "#gene = \"K05772\"\n",
    "#gene = \"K05773\"\n",
    "#gene = \"K06857\"\n",
    "#gene = \"K03738\"\n",
    "\n",
    "#feature = \"phosphate (mM)\"\n",
    "feature = \"nitrite (mM)\"\n",
    "\n",
    "#sns.scatterplot(x=feature,data=df,y=\"depth_m\",color=cmap1[8])\n",
    "#sns.lineplot(y=feature,data=df,x=\"depth_m\",color=cmap1[4])\n",
    "#plt.plot(df.sort_values(\"depth_m\")[feature],df.sort_values(\"depth_m\")[\"depth_m\"],color=cmap1[8])\n",
    "plt.plot(df.sort_values(\"depth_m\")[feature],df.sort_values(\"depth_m\")[\"depth_m\"],color=cmap1[8],marker=\"o\",markersize=5)\n",
    "\n",
    "#sns.scatterplot(y=\"K11389\",data=df,x=\"depth_m\",color=\"gray\")\n",
    "#sns.lineplot(y=\"K11389\",data=df,x=\"depth_m\",color=\"gray\")\n",
    "\n",
    "plt.xlabel(feature)\n",
    "plt.ylabel(\"depth (m)\")\n",
    "\n",
    "ax2 = plt.twiny()\n",
    "feature = \"nitrate (mM)\"\n",
    "#feature = \"ammonia (mM)\"\n",
    "\n",
    "#sns.lineplot(y=feature,data=df,x=\"depth_m\",color=cmap1[1],ax=ax2)\n",
    "#sns.scatterplot(x=feature,data=df,y=\"depth_m\",color=cmap1[6],ax=ax2)\n",
    "plt.plot(df.sort_values(\"depth_m\")[feature],df.sort_values(\"depth_m\")[\"depth_m\"],color=\"k\",marker=\"o\", linestyle='dashed',markersize=5)\n",
    "\n",
    "\n",
    "#sns.lineplot(y=\"O2_mmolperkg\",data=df,x=\"depth_m\",color=\"r\",ax=ax2)\n",
    "#sns.scatterplot(y=\"O2_mmolperkg\",data=df,x=\"depth_m\",color=\"r\",ax=ax2)\n",
    "\n",
    "\n",
    "plt.yscale(\"log\")\n",
    "#plt.ylabel(\"dissolved oxygen (mmol / kg)\")\n",
    "plt.xlabel(feature)\n",
    "plt.ylabel(\"depth (m)\")\n",
    "plt.gca().invert_yaxis()\n",
    "\n",
    "plt.savefig(\"nitrate_nitrite.05Feb2023.svg\")"
   ]
  },
  {
   "cell_type": "code",
   "execution_count": 300,
   "id": "substantial-tanzania",
   "metadata": {},
   "outputs": [
    {
     "data": {
      "image/png": "[encoded data removed]",
      "text/plain": [
       "<Figure size 72x288 with 2 Axes>"
      ]
     },
     "metadata": {
      "needs_background": "light"
     },
     "output_type": "display_data"
    }
   ],
   "source": [
    "cmap1 = sns.color_palette(\"Set1\")\n",
    "plt.figure(figsize=(1,4))\n",
    "\n",
    "#gene = \"K05772\"\n",
    "#gene = \"K05773\"\n",
    "#gene = \"K06857\"\n",
    "#gene = \"K03738\"\n",
    "\n",
    "#feature = \"phosphate (mM)\"\n",
    "#feature = \"nitrite (mM)\"\n",
    "feature = \"temperature (C)\"\n",
    "\n",
    "#sns.scatterplot(x=feature,data=df,y=\"depth_m\",color=cmap1[0])\n",
    "#sns.lineplot(y=feature,data=df,x=\"depth_m\",color=cmap1[4])\n",
    "#plt.plot(df.sort_values(\"depth_m\")[feature],df.sort_values(\"depth_m\")[\"depth_m\"],color=cmap1[0])\n",
    "plt.plot(df.sort_values(\"depth_m\")[feature],df.sort_values(\"depth_m\")[\"depth_m\"],color=cmap1[8],marker=\"o\",markersize=5)\n",
    "\n",
    "\n",
    "#sns.scatterplot(y=\"K11389\",data=df,x=\"depth_m\",color=\"gray\")\n",
    "#sns.lineplot(y=\"K11389\",data=df,x=\"depth_m\",color=\"gray\")\n",
    "\n",
    "plt.xlabel(\"temperature ($^\\circ$C)\")\n",
    "plt.ylabel(\"depth (m)\")\n",
    "\n",
    "ax2 = plt.twiny()\n",
    "#feature = \"nitrate (mM)\"\n",
    "#feature = \"ammonia (mM)\"\n",
    "feature = \"salinity (PSU)\"\n",
    "\n",
    "\n",
    "#sns.lineplot(y=feature,data=df,x=\"depth_m\",color=cmap1[1],ax=ax2)\n",
    "#sns.scatterplot(x=feature,data=df,y=\"depth_m\",color=cmap1[2],ax=ax2)\n",
    "#plt.plot(df.sort_values(\"depth_m\")[feature],df.sort_values(\"depth_m\")[\"depth_m\"],color=cmap1[2])\n",
    "plt.plot(df.sort_values(\"depth_m\")[feature],df.sort_values(\"depth_m\")[\"depth_m\"],color=\"k\",marker=\"o\", linestyle='dashed',markersize=5)\n",
    "\n",
    "\n",
    "#sns.lineplot(y=\"O2_mmolperkg\",data=df,x=\"depth_m\",color=\"r\",ax=ax2)\n",
    "#sns.scatterplot(y=\"O2_mmolperkg\",data=df,x=\"depth_m\",color=\"r\",ax=ax2)\n",
    "\n",
    "\n",
    "plt.yscale(\"log\")\n",
    "#plt.ylabel(\"dissolved oxygen (mmol / kg)\")\n",
    "plt.xlabel(feature)\n",
    "plt.ylabel(\"depth (m)\")\n",
    "plt.gca().invert_yaxis()\n",
    "\n",
    "plt.savefig(\"temp_salinity.05Feb2023.svg\")"
   ]
  },
  {
   "cell_type": "code",
   "execution_count": 113,
   "id": "applicable-purchase",
   "metadata": {},
   "outputs": [
    {
     "data": {
      "text/html": [
       "<svg  width=\"550\" height=\"55\"><rect x=\"0\" y=\"0\" width=\"55\" height=\"55\" style=\"fill:#1f77b4;stroke-width:2;stroke:rgb(255,255,255)\"/><rect x=\"55\" y=\"0\" width=\"55\" height=\"55\" style=\"fill:#ff7f0e;stroke-width:2;stroke:rgb(255,255,255)\"/><rect x=\"110\" y=\"0\" width=\"55\" height=\"55\" style=\"fill:#2ca02c;stroke-width:2;stroke:rgb(255,255,255)\"/><rect x=\"165\" y=\"0\" width=\"55\" height=\"55\" style=\"fill:#d62728;stroke-width:2;stroke:rgb(255,255,255)\"/><rect x=\"220\" y=\"0\" width=\"55\" height=\"55\" style=\"fill:#9467bd;stroke-width:2;stroke:rgb(255,255,255)\"/><rect x=\"275\" y=\"0\" width=\"55\" height=\"55\" style=\"fill:#8c564b;stroke-width:2;stroke:rgb(255,255,255)\"/><rect x=\"330\" y=\"0\" width=\"55\" height=\"55\" style=\"fill:#e377c2;stroke-width:2;stroke:rgb(255,255,255)\"/><rect x=\"385\" y=\"0\" width=\"55\" height=\"55\" style=\"fill:#7f7f7f;stroke-width:2;stroke:rgb(255,255,255)\"/><rect x=\"440\" y=\"0\" width=\"55\" height=\"55\" style=\"fill:#bcbd22;stroke-width:2;stroke:rgb(255,255,255)\"/><rect x=\"495\" y=\"0\" width=\"55\" height=\"55\" style=\"fill:#17becf;stroke-width:2;stroke:rgb(255,255,255)\"/></svg>"
      ],
      "text/plain": [
       "[(0.12156862745098039, 0.4666666666666667, 0.7058823529411765),\n",
       " (1.0, 0.4980392156862745, 0.054901960784313725),\n",
       " (0.17254901960784313, 0.6274509803921569, 0.17254901960784313),\n",
       " (0.8392156862745098, 0.15294117647058825, 0.1568627450980392),\n",
       " (0.5803921568627451, 0.403921568627451, 0.7411764705882353),\n",
       " (0.5490196078431373, 0.33725490196078434, 0.29411764705882354),\n",
       " (0.8901960784313725, 0.4666666666666667, 0.7607843137254902),\n",
       " (0.4980392156862745, 0.4980392156862745, 0.4980392156862745),\n",
       " (0.7372549019607844, 0.7411764705882353, 0.13333333333333333),\n",
       " (0.09019607843137255, 0.7450980392156863, 0.8117647058823529)]"
      ]
     },
     "execution_count": 113,
     "metadata": {},
     "output_type": "execute_result"
    }
   ],
   "source": [
    "cmap = sns.color_palette()\n",
    "cmap"
   ]
  },
  {
   "cell_type": "code",
   "execution_count": 129,
   "id": "annual-wallpaper",
   "metadata": {},
   "outputs": [],
   "source": [
    "google_sheet = 'https://docs.google.com/spreadsheets/d/1WjqoaGkUAWqmktBSK3kuq_SeBeLk-PwOJqBHa5Cvizk/export?gid=0&format=csv'\n",
    "mwpterins = pd.read_csv(google_sheet)\n",
    "mwpterins\n",
    "\n",
    "w_ko = mwpterins[mwpterins[\"Pterin\"].isin(['W'])]['KO (pterin domain)'].dropna().unique().tolist()\n",
    "mo_ko = mwpterins[mwpterins[\"Pterin\"].isin(['Mo'])]['KO (pterin domain)'].dropna().unique().tolist()\n",
    "\n",
    "mo_genes = [x for x in mo_ko if x in list(df)]\n",
    "w_genes = [x for x in w_ko if x in list(df)]\n"
   ]
  },
  {
   "cell_type": "code",
   "execution_count": 132,
   "id": "royal-directory",
   "metadata": {},
   "outputs": [
    {
     "data": {
      "text/plain": [
       "['K05301',\n",
       " 'K02567',\n",
       " 'K07303',\n",
       " 'K08356',\n",
       " 'K18030',\n",
       " 'K00370',\n",
       " 'K07306',\n",
       " 'K08352',\n",
       " 'K03520',\n",
       " 'K21307']"
      ]
     },
     "execution_count": 132,
     "metadata": {},
     "output_type": "execute_result"
    }
   ],
   "source": [
    "mo_genes"
   ]
  },
  {
   "cell_type": "code",
   "execution_count": 138,
   "id": "informational-organ",
   "metadata": {},
   "outputs": [
    {
     "data": {
      "text/plain": [
       "Text(0.5, 0, 'depth (m)')"
      ]
     },
     "execution_count": 138,
     "metadata": {},
     "output_type": "execute_result"
    },
    {
     "data": {
      "image/png": "[encoded data removed]",
      "text/plain": [
       "<Figure size 288x216 with 2 Axes>"
      ]
     },
     "metadata": {
      "needs_background": "light"
     },
     "output_type": "display_data"
    }
   ],
   "source": [
    "plt.figure(figsize=(4,3))\n",
    "\n",
    "#gene = \"K05772\"\n",
    "#gene = \"K05773\"\n",
    "#feature = \"K06857\"\n",
    "feature = \"K03738\"\n",
    "sns.scatterplot(y=feature,data=df,x=\"depth_m\",color=cmap[4])\n",
    "sns.lineplot(y=feature,data=df,x=\"depth_m\",color=cmap[4])\n",
    "\n",
    "#sns.scatterplot(y=\"K11389\",data=df,x=\"depth_m\",color=\"gray\")\n",
    "#sns.lineplot(y=\"K11389\",data=df,x=\"depth_m\",color=\"gray\")\n",
    "\n",
    "#plt.ylabel(\"$aor$ abundance\")\n",
    "plt.xlabel(\"depth (m)\")\n",
    "plt.ylabel(\"relative copy number of $aor$\")\n",
    "\n",
    "ax2 = plt.twinx()\n",
    "\n",
    "#feature = \"O2_mmolperkg\"\n",
    "#feature = \"H2S mM\"\n",
    "\n",
    "#feature = \"K06857\"\n",
    "#feature = \"K03738\"\n",
    "feature = \"K11389\"\n",
    "feature = \"K05301\"\n",
    "feature = \"K00370\"\n",
    "feature = \"K08352\"\n",
    "feature = \"K03520\"\n",
    "sns.lineplot(y=feature,data=df,x=\"depth_m\",color=cmap[3],ax=ax2)\n",
    "sns.scatterplot(y=feature,data=df,x=\"depth_m\",color=cmap[3],ax=ax2)\n",
    "\n",
    "#sns.lineplot(y=\"O2_mmolperkg\",data=df,x=\"depth_m\",color=\"r\",ax=ax2)\n",
    "#sns.scatterplot(y=\"O2_mmolperkg\",data=df,x=\"depth_m\",color=\"r\",ax=ax2)\n",
    "\n",
    "\n",
    "plt.xscale(\"log\")\n",
    "#plt.ylabel(\"dissolved oxygen (mmol / kg)\")\n",
    "#plt.ylabel(\"hydrogen sulfide (mM)\")\n",
    "plt.ylabel(\"relative copy number of $gapor$\")\n",
    "plt.xlabel(\"depth (m)\")\n",
    "#plt.savefig(\"aor_tupC.03Feb2023.svg\")"
   ]
  },
  {
   "cell_type": "code",
   "execution_count": 158,
   "id": "improving-insider",
   "metadata": {},
   "outputs": [
    {
     "data": {
      "text/plain": [
       "Text(0.5, 0, 'depth (m)')"
      ]
     },
     "execution_count": 158,
     "metadata": {},
     "output_type": "execute_result"
    },
    {
     "data": {
      "image/png": "[encoded data removed]",
      "text/plain": [
       "<Figure size 288x108 with 2 Axes>"
      ]
     },
     "metadata": {
      "needs_background": "light"
     },
     "output_type": "display_data"
    }
   ],
   "source": [
    "plt.figure(figsize=(4,1.5))\n",
    "\n",
    "#gene = \"K05772\"\n",
    "#gene = \"K05773\"\n",
    "#gene = \"K06857\"\n",
    "#gene = \"K03738\"\n",
    "\n",
    "feature = \"H2S mM\"\n",
    "\n",
    "\n",
    "sns.scatterplot(y=feature,data=df,x=\"depth_m\",color=cmap1[4])\n",
    "sns.lineplot(y=feature,data=df,x=\"depth_m\",color=cmap1[4])\n",
    "\n",
    "#sns.scatterplot(y=\"K11389\",data=df,x=\"depth_m\",color=\"gray\")\n",
    "#sns.lineplot(y=\"K11389\",data=df,x=\"depth_m\",color=\"gray\")\n",
    "\n",
    "plt.ylabel(\"dissolved oxygen \\n (mmol / kg)\")\n",
    "plt.xlabel(\"depth (m)\")\n",
    "\n",
    "ax2 = plt.twinx()\n",
    "feature = \"O2_mmolperkg\"\n",
    "sns.lineplot(y=feature,data=df,x=\"depth_m\",color=cmap1[1],ax=ax2)\n",
    "sns.scatterplot(y=feature,data=df,x=\"depth_m\",color=cmap1[1],ax=ax2)\n",
    "\n",
    "#sns.lineplot(y=\"O2_mmolperkg\",data=df,x=\"depth_m\",color=\"r\",ax=ax2)\n",
    "#sns.scatterplot(y=\"O2_mmolperkg\",data=df,x=\"depth_m\",color=\"r\",ax=ax2)\n",
    "\n",
    "\n",
    "plt.xscale(\"log\")\n",
    "#plt.ylabel(\"dissolved oxygen (mmol / kg)\")\n",
    "plt.ylabel(\"sulfide (mM)\")\n",
    "plt.xlabel(\"depth (m)\")\n",
    "#plt.savefig(\"oxygen_sulfur.03Feb2023.svg\")"
   ]
  },
  {
   "cell_type": "code",
   "execution_count": 163,
   "id": "intermediate-planning",
   "metadata": {},
   "outputs": [
    {
     "data": {
      "text/html": [
       "<svg  width=\"330\" height=\"55\"><rect x=\"0\" y=\"0\" width=\"55\" height=\"55\" style=\"fill:#572c92;stroke-width:2;stroke:rgb(255,255,255)\"/><rect x=\"55\" y=\"0\" width=\"55\" height=\"55\" style=\"fill:#705eaa;stroke-width:2;stroke:rgb(255,255,255)\"/><rect x=\"110\" y=\"0\" width=\"55\" height=\"55\" style=\"fill:#8d89c0;stroke-width:2;stroke:rgb(255,255,255)\"/><rect x=\"165\" y=\"0\" width=\"55\" height=\"55\" style=\"fill:#afaed4;stroke-width:2;stroke:rgb(255,255,255)\"/><rect x=\"220\" y=\"0\" width=\"55\" height=\"55\" style=\"fill:#d1d2e7;stroke-width:2;stroke:rgb(255,255,255)\"/><rect x=\"275\" y=\"0\" width=\"55\" height=\"55\" style=\"fill:#ecebf4;stroke-width:2;stroke:rgb(255,255,255)\"/></svg>"
      ],
      "text/plain": [
       "[(0.3405767012687428, 0.1742560553633218, 0.5709342560553633),\n",
       " (0.440722798923491, 0.36772010765090346, 0.6653902345251825),\n",
       " (0.5513264129181085, 0.537916186082276, 0.7524490580545944),\n",
       " (0.6878892733564014, 0.6835832372164552, 0.8298346789696271),\n",
       " (0.8207612456747405, 0.8218992695117262, 0.9044982698961938),\n",
       " (0.9265974625144175, 0.919769319492503, 0.9557093425605536)]"
      ]
     },
     "execution_count": 163,
     "metadata": {},
     "output_type": "execute_result"
    }
   ],
   "source": [
    "cmap_tup = sns.color_palette(\"Purples_r\")\n",
    "cmap_tup"
   ]
  },
  {
   "cell_type": "code",
   "execution_count": 31,
   "id": "filled-invention",
   "metadata": {
    "tags": []
   },
   "outputs": [
    {
     "data": {
      "text/plain": [
       "<Figure size 400x300 with 0 Axes>"
      ]
     },
     "metadata": {},
     "output_type": "display_data"
    },
    {
     "data": {
      "image/png": "[encoded data removed]",
      "text/plain": [
       "<Figure size 200x400 with 1 Axes>"
      ]
     },
     "metadata": {},
     "output_type": "display_data"
    }
   ],
   "source": [
    "cmap_tup = sns.color_palette(\"Purples_r\")\n",
    "plt.figure(figsize=(4,3))\n",
    "plt.figure(figsize=(2,4))\n",
    "\n",
    "#gene = \"K05772\"\n",
    "#gene = \"K05773\"\n",
    "#feature = \"K06857\"\n",
    "#feature = \"K03738\"\n",
    "feature = \"K05772\"\n",
    "\n",
    "#sns.scatterplot(x=feature,data=df,y=\"depth_m\",color=cmap_tup[0])\n",
    "#sns.lineplot(x=feature,data=df,y=\"depth_m\",color=cmap_tup[0])\n",
    "plt.plot(df.sort_values(\"depth_m\")[feature],df.sort_values(\"depth_m\")[\"depth_m\"],color=cmap_tup[0],marker=\"o\",markersize=5)\n",
    "\n",
    "\n",
    "feature = \"K05773\"\n",
    "#sns.scatterplot(x=feature,data=df,y=\"depth_m\",color=cmap_tup[1])\n",
    "#sns.lineplot(x=feature,data=df,y=\"depth_m\",color=cmap_tup[1])\n",
    "plt.plot(df.sort_values(\"depth_m\")[feature],df.sort_values(\"depth_m\")[\"depth_m\"],color=cmap_tup[1],marker=\"o\",markersize=5)\n",
    "\n",
    "feature = \"K06857\"\n",
    "#normalized = df[feature] / df[feature].min()\n",
    "#sns.scatterplot(x=feature,data=df,y=\"depth_m\",color=cmap_tup[2])\n",
    "#sns.lineplot(x=feature,data=df,y=\"depth_m\",color=cmap_tup[2])\n",
    "plt.plot(df.sort_values(\"depth_m\")[feature],df.sort_values(\"depth_m\")[\"depth_m\"],color=cmap_tup[2],marker=\"o\",markersize=5)\n",
    "\n",
    "\n",
    "#sns.scatterplot(y=\"K11389\",data=df,x=\"depth_m\",color=\"gray\")\n",
    "#sns.lineplot(y=\"K11389\",data=df,x=\"depth_m\",color=\"gray\")\n",
    "\n",
    "#plt.ylabel(\"$aor$ abundance\")\n",
    "plt.xlabel(\"relative copy number \\n of $tup$ genes\")\n",
    "plt.yscale(\"log\")\n",
    "\n",
    "plt.legend([\"$tupA$\",\"$tupB$\",\"$tupC$\"])\n",
    "#plt.savefig(\"tungstate_transporters.svg\")\n",
    "\n",
    "plt.ylim([45,2500])\n",
    "\n",
    "\n",
    "plt.gca().invert_yaxis()\n",
    "plt.yscale(\"log\")\n",
    "plt.ylabel(\"depth (m)\")\n",
    "plt.savefig(\"tupGenes.depthProfile.blackSea.svg\")\n"
   ]
  },
  {
   "cell_type": "code",
   "execution_count": 168,
   "id": "pleasant-differential",
   "metadata": {},
   "outputs": [
    {
     "data": {
      "text/plain": [
       "SRR12347140    29.478728\n",
       "SRR12347133    29.000182\n",
       "SRR12347143    30.772706\n",
       "SRR12347136    17.021688\n",
       "SRR12347135    23.653804\n",
       "SRR12347132    29.328074\n",
       "SRR12347138     6.969939\n",
       "SRR12347134    24.263095\n",
       "SRR12347146     1.000000\n",
       "SRR12347139     2.679709\n",
       "SRR12347137    11.802158\n",
       "SRR12347145     2.420685\n",
       "SRR12347142    32.201805\n",
       "SRR12347144    28.239121\n",
       "SRR12347141    33.819477\n",
       "Name: K06857, dtype: float64"
      ]
     },
     "execution_count": 168,
     "metadata": {},
     "output_type": "execute_result"
    }
   ],
   "source": [
    "\n",
    "yvar = \"depth [m]\"\n",
    "xvar = \"W diss [nM]\"\n",
    "\n",
    "plt.figure(figsize=(2,4))\n",
    "\n",
    "#gene = \"K05772\"\n",
    "#gene = \"K05773\"\n",
    "#gene = \"K06857\"\n",
    "\n",
    "sns.scatterplot(x=xvar,data=geochem_data,y=yvar,color=cmap[1])\n",
    "#sns.lineplot(x=gene,data=df,y=\"depth_m\",color=cmap[1])\n",
    "\n",
    "plt.plot(geochem_data.sort_values(yvar)[xvar],geochem_data.sort_values(yvar)[yvar],color=cmap[1])\n",
    "\n",
    "\n",
    "ax2 = plt.twiny()\n",
    "xvar = \"Mo diss [nM]\"\n",
    "sns.scatterplot(x=xvar,data=geochem_data,y=yvar,color=cmap[0])\n",
    "#sns.lineplot(x=gene,data=df,y=\"depth_m\",color=cmap[1])\n",
    "\n",
    "plt.plot(geochem_data.sort_values(yvar)[xvar],geochem_data.sort_values(yvar)[yvar],color=cmap[0])\n",
    "#plt.ylim([0 1])\n",
    "#plt.ylim([8,2500])\n",
    "plt.ylim([45,2500])\n",
    "\n",
    "\n",
    "plt.gca().invert_yaxis()\n",
    "plt.yscale(\"log\")\n",
    "plt.ylabel(\"depth (m)\")"
   ]
  },
  {
   "cell_type": "code",
   "execution_count": null,
   "id": "casual-balance",
   "metadata": {},
   "outputs": [],
   "source": [
    "import geopandas as goepd\n",
    "#import descartes\n",
    "from shapely.geometry import Polygon, Point\n"
   ]
  },
  {
   "cell_type": "code",
   "execution_count": 78,
   "id": "documentary-spring",
   "metadata": {},
   "outputs": [
    {
     "ename": "ImportError",
     "evalue": "The 'read_file' function requires the 'pyogrio' or 'fiona' package, but neither is installed or imports correctly.\nImporting fiona resulted in: dlopen(/Users/joshuagoldford/opt/miniconda3/envs/informatics/lib/python3.8/site-packages/fiona/_env.cpython-38-darwin.so, 0x0002): Library not loaded: '@rpath/libtiff.5.dylib'\n  Referenced from: '/Users/joshuagoldford/opt/miniconda3/envs/informatics/lib/libpoppler.126.0.0.dylib'\n  Reason: tried: '/Users/joshuagoldford/opt/miniconda3/envs/informatics/lib/libtiff.5.dylib' (no such file), '/Users/joshuagoldford/opt/miniconda3/envs/informatics/lib/libtiff.5.dylib' (no such file), '/Users/joshuagoldford/opt/miniconda3/envs/informatics/lib/python3.8/site-packages/fiona/../../../libtiff.5.dylib' (no such file), '/Users/joshuagoldford/opt/miniconda3/envs/informatics/lib/python3.8/site-packages/fiona/../../../libtiff.5.dylib' (no such file), '/Users/joshuagoldford/opt/miniconda3/envs/informatics/lib/libtiff.5.dylib' (no such file), '/Users/joshuagoldford/opt/miniconda3/envs/informatics/lib/libtiff.5.dylib' (no such file), '/Users/joshuagoldford/opt/miniconda3/envs/informatics/bin/../lib/libtiff.5.dylib' (no such file), '/Users/joshuagoldford/opt/miniconda3/envs/informatics/lib/libtiff.5.dylib' (no such file), '/Users/joshuagoldford/opt/miniconda3/envs/informatics/lib/libtiff.5.dylib' (no such file), '/Users/joshuagoldford/opt/miniconda3/envs/informatics/bin/../lib/libtiff.5.dylib' (no such file), '/usr/local/lib/libtiff.5.dylib' (no such file), '/usr/lib/libtiff.5.dylib' (no such file)\nImporting pyogrio resulted in: No module named 'pyogrio'",
     "output_type": "error",
     "traceback": [
      "\u001b[0;31m---------------------------------------------------------------------------\u001b[0m",
      "\u001b[0;31mImportError\u001b[0m                               Traceback (most recent call last)",
      "\u001b[0;32m<ipython-input-78-5099ee16b4e6>\u001b[0m in \u001b[0;36m<module>\u001b[0;34m\u001b[0m\n\u001b[0;32m----> 1\u001b[0;31m \u001b[0mblacksea\u001b[0m \u001b[0;34m=\u001b[0m \u001b[0mgoepd\u001b[0m\u001b[0;34m.\u001b[0m\u001b[0mread_file\u001b[0m\u001b[0;34m(\u001b[0m\u001b[0;34m\"/Users/joshuagoldford/Downloads/black-seageojson.shp\"\u001b[0m\u001b[0;34m)\u001b[0m\u001b[0;34m\u001b[0m\u001b[0;34m\u001b[0m\u001b[0m\n\u001b[0m",
      "\u001b[0;32m~/opt/miniconda3/envs/informatics/lib/python3.8/site-packages/geopandas/io/file.py\u001b[0m in \u001b[0;36m_read_file\u001b[0;34m(filename, bbox, mask, rows, engine, **kwargs)\u001b[0m\n\u001b[1;32m    240\u001b[0m     \u001b[0mby\u001b[0m \u001b[0musing\u001b[0m \u001b[0mthe\u001b[0m \u001b[0mencoding\u001b[0m \u001b[0mkeyword\u001b[0m \u001b[0mparameter\u001b[0m\u001b[0;34m,\u001b[0m \u001b[0me\u001b[0m\u001b[0;34m.\u001b[0m\u001b[0mg\u001b[0m\u001b[0;34m.\u001b[0m\u001b[0;31m \u001b[0m\u001b[0;31m`\u001b[0m\u001b[0;31m`\u001b[0m\u001b[0mencoding\u001b[0m\u001b[0;34m=\u001b[0m\u001b[0;34m'utf-8'\u001b[0m\u001b[0;31m`\u001b[0m\u001b[0;31m`\u001b[0m\u001b[0;34m.\u001b[0m\u001b[0;34m\u001b[0m\u001b[0;34m\u001b[0m\u001b[0m\n\u001b[1;32m    241\u001b[0m     \"\"\"\n\u001b[0;32m--> 242\u001b[0;31m     \u001b[0mengine\u001b[0m \u001b[0;34m=\u001b[0m \u001b[0m_check_engine\u001b[0m\u001b[0;34m(\u001b[0m\u001b[0mengine\u001b[0m\u001b[0;34m,\u001b[0m \u001b[0;34m\"'read_file' function\"\u001b[0m\u001b[0;34m)\u001b[0m\u001b[0;34m\u001b[0m\u001b[0;34m\u001b[0m\u001b[0m\n\u001b[0m\u001b[1;32m    243\u001b[0m \u001b[0;34m\u001b[0m\u001b[0m\n\u001b[1;32m    244\u001b[0m     \u001b[0mfilename\u001b[0m \u001b[0;34m=\u001b[0m \u001b[0m_expand_user\u001b[0m\u001b[0;34m(\u001b[0m\u001b[0mfilename\u001b[0m\u001b[0;34m)\u001b[0m\u001b[0;34m\u001b[0m\u001b[0;34m\u001b[0m\u001b[0m\n",
      "\u001b[0;32m~/opt/miniconda3/envs/informatics/lib/python3.8/site-packages/geopandas/io/file.py\u001b[0m in \u001b[0;36m_check_engine\u001b[0;34m(engine, func)\u001b[0m\n\u001b[1;32m    110\u001b[0m         \u001b[0m_check_pyogrio\u001b[0m\u001b[0;34m(\u001b[0m\u001b[0mfunc\u001b[0m\u001b[0;34m)\u001b[0m\u001b[0;34m\u001b[0m\u001b[0;34m\u001b[0m\u001b[0m\n\u001b[1;32m    111\u001b[0m     \u001b[0;32melif\u001b[0m \u001b[0mengine\u001b[0m \u001b[0;32mis\u001b[0m \u001b[0;32mNone\u001b[0m\u001b[0;34m:\u001b[0m\u001b[0;34m\u001b[0m\u001b[0;34m\u001b[0m\u001b[0m\n\u001b[0;32m--> 112\u001b[0;31m         raise ImportError(\n\u001b[0m\u001b[1;32m    113\u001b[0m             \u001b[0;34mf\"The {func} requires the 'pyogrio' or 'fiona' package, \"\u001b[0m\u001b[0;34m\u001b[0m\u001b[0;34m\u001b[0m\u001b[0m\n\u001b[1;32m    114\u001b[0m             \u001b[0;34m\"but neither is installed or imports correctly.\"\u001b[0m\u001b[0;34m\u001b[0m\u001b[0;34m\u001b[0m\u001b[0m\n",
      "\u001b[0;31mImportError\u001b[0m: The 'read_file' function requires the 'pyogrio' or 'fiona' package, but neither is installed or imports correctly.\nImporting fiona resulted in: dlopen(/Users/joshuagoldford/opt/miniconda3/envs/informatics/lib/python3.8/site-packages/fiona/_env.cpython-38-darwin.so, 0x0002): Library not loaded: '@rpath/libtiff.5.dylib'\n  Referenced from: '/Users/joshuagoldford/opt/miniconda3/envs/informatics/lib/libpoppler.126.0.0.dylib'\n  Reason: tried: '/Users/joshuagoldford/opt/miniconda3/envs/informatics/lib/libtiff.5.dylib' (no such file), '/Users/joshuagoldford/opt/miniconda3/envs/informatics/lib/libtiff.5.dylib' (no such file), '/Users/joshuagoldford/opt/miniconda3/envs/informatics/lib/python3.8/site-packages/fiona/../../../libtiff.5.dylib' (no such file), '/Users/joshuagoldford/opt/miniconda3/envs/informatics/lib/python3.8/site-packages/fiona/../../../libtiff.5.dylib' (no such file), '/Users/joshuagoldford/opt/miniconda3/envs/informatics/lib/libtiff.5.dylib' (no such file), '/Users/joshuagoldford/opt/miniconda3/envs/informatics/lib/libtiff.5.dylib' (no such file), '/Users/joshuagoldford/opt/miniconda3/envs/informatics/bin/../lib/libtiff.5.dylib' (no such file), '/Users/joshuagoldford/opt/miniconda3/envs/informatics/lib/libtiff.5.dylib' (no such file), '/Users/joshuagoldford/opt/miniconda3/envs/informatics/lib/libtiff.5.dylib' (no such file), '/Users/joshuagoldford/opt/miniconda3/envs/informatics/bin/../lib/libtiff.5.dylib' (no such file), '/usr/local/lib/libtiff.5.dylib' (no such file), '/usr/lib/libtiff.5.dylib' (no such file)\nImporting pyogrio resulted in: No module named 'pyogrio'"
     ]
    }
   ],
   "source": [
    "blacksea = goepd.read_file(\"/Users/joshuagoldford/Downloads/black-seageojson.shp\")"
   ]
  },
  {
   "cell_type": "code",
   "execution_count": null,
   "id": "lightweight-dublin",
   "metadata": {},
   "outputs": [],
   "source": [
    "blacksea"
   ]
  }
 ],
 "metadata": {
  "kernelspec": {
   "display_name": "Py3.8 (informatics.v2)",
   "language": "python",
   "name": "informatics.p38"
  },
  "language_info": {
   "codemirror_mode": {
    "name": "ipython",
    "version": 3
   },
   "file_extension": ".py",
   "mimetype": "text/x-python",
   "name": "python",
   "nbconvert_exporter": "python",
   "pygments_lexer": "ipython3",
   "version": "3.8.16"
  }
 },
 "nbformat": 4,
 "nbformat_minor": 5
}
